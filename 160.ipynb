{
 "cells": [
  {
   "cell_type": "markdown",
   "id": "9a232680",
   "metadata": {},
   "source": [
    "# УРОКИ NUMPY\n",
    "http://kodesource.top/python-exercises/numpy/index-array.php"
   ]
  },
  {
   "cell_type": "code",
   "execution_count": 1,
   "id": "b1bd29e6",
   "metadata": {},
   "outputs": [],
   "source": [
    "import numpy as np\n",
    "import os"
   ]
  },
  {
   "cell_type": "markdown",
   "id": "bce688f8",
   "metadata": {},
   "source": [
    "###  печати версии NumPy в вашей системе"
   ]
  },
  {
   "cell_type": "code",
   "execution_count": 2,
   "id": "1168ebfc",
   "metadata": {},
   "outputs": [
    {
     "data": {
      "text/plain": [
       "'1.20.1'"
      ]
     },
     "execution_count": 2,
     "metadata": {},
     "output_type": "execute_result"
    }
   ],
   "source": [
    "np.__version__"
   ]
  },
  {
   "cell_type": "markdown",
   "id": "b950885e",
   "metadata": {},
   "source": [
    "###  Напишите программу NumPy для преобразования списка числовых значений в одномерный массив NumPy."
   ]
  },
  {
   "cell_type": "markdown",
   "id": "155f2619",
   "metadata": {},
   "source": [
    "### создания матрицы 3х3 со значениями от 2 до 10. "
   ]
  },
  {
   "cell_type": "code",
   "execution_count": 3,
   "id": "c895cdfb",
   "metadata": {},
   "outputs": [
    {
     "data": {
      "text/plain": [
       "array([[ 2,  3,  4],\n",
       "       [ 5,  6,  7],\n",
       "       [ 8,  9, 10]])"
      ]
     },
     "execution_count": 3,
     "metadata": {},
     "output_type": "execute_result"
    }
   ],
   "source": [
    "np.arange(2,11).reshape(3,3)"
   ]
  },
  {
   "cell_type": "markdown",
   "id": "c5f3dea2",
   "metadata": {},
   "source": [
    "###  нулевой вектор размера 10 и обновите шестое значение до 11"
   ]
  },
  {
   "cell_type": "code",
   "execution_count": 4,
   "id": "aa8a9a7b",
   "metadata": {},
   "outputs": [
    {
     "data": {
      "text/plain": [
       "array([ 0.,  0.,  0.,  0.,  0.,  0., 11.,  0.,  0.,  0.,  0.])"
      ]
     },
     "execution_count": 4,
     "metadata": {},
     "output_type": "execute_result"
    }
   ],
   "source": [
    "A=np.zeros(11)\n",
    "A[6]=11\n",
    "A"
   ]
  },
  {
   "cell_type": "markdown",
   "id": "92700fb6",
   "metadata": {},
   "source": [
    "### массив со значениями от 12 до 38. "
   ]
  },
  {
   "cell_type": "code",
   "execution_count": 5,
   "id": "dddc3c98",
   "metadata": {},
   "outputs": [
    {
     "data": {
      "text/plain": [
       "array([12, 13, 14, 15, 16, 17, 18, 19, 20, 21, 22, 23, 24, 25, 26, 27, 28,\n",
       "       29, 30, 31, 32, 33, 34, 35, 36, 37])"
      ]
     },
     "execution_count": 5,
     "metadata": {},
     "output_type": "execute_result"
    }
   ],
   "source": [
    "A=np.arange(12,38)\n",
    "A"
   ]
  },
  {
   "cell_type": "markdown",
   "id": "39fee238",
   "metadata": {},
   "source": [
    "### первый элемент становится последним"
   ]
  },
  {
   "cell_type": "code",
   "execution_count": 6,
   "id": "0a05a148",
   "metadata": {},
   "outputs": [
    {
     "data": {
      "text/plain": [
       "array([12, 13, 14, 15, 16, 17, 18, 19, 20, 21, 22, 23, 24, 25, 26, 27, 28,\n",
       "       29, 30, 31, 32, 33, 34, 35, 36, 37])"
      ]
     },
     "execution_count": 6,
     "metadata": {},
     "output_type": "execute_result"
    }
   ],
   "source": [
    "A"
   ]
  },
  {
   "cell_type": "code",
   "execution_count": 7,
   "id": "1519d924",
   "metadata": {},
   "outputs": [
    {
     "data": {
      "text/plain": [
       "array([37, 36, 35, 34, 33, 32, 31, 30, 29, 28, 27, 26, 25, 24, 23, 22, 21,\n",
       "       20, 19, 18, 17, 16, 15, 14, 13, 12])"
      ]
     },
     "execution_count": 7,
     "metadata": {},
     "output_type": "execute_result"
    }
   ],
   "source": [
    "A[::-1]"
   ]
  },
  {
   "cell_type": "markdown",
   "id": "e0c68719",
   "metadata": {},
   "source": [
    "### преобразованный в тип с плавающей точкой"
   ]
  },
  {
   "cell_type": "code",
   "execution_count": 8,
   "id": "d62ded1b",
   "metadata": {},
   "outputs": [
    {
     "data": {
      "text/plain": [
       "array([0, 1, 2, 3, 4])"
      ]
     },
     "execution_count": 8,
     "metadata": {},
     "output_type": "execute_result"
    }
   ],
   "source": [
    "A=np.arange(5)\n",
    "A"
   ]
  },
  {
   "cell_type": "code",
   "execution_count": 9,
   "id": "b429bcd2",
   "metadata": {},
   "outputs": [
    {
     "data": {
      "text/plain": [
       "array([0., 1., 2., 3., 4.])"
      ]
     },
     "execution_count": 9,
     "metadata": {},
     "output_type": "execute_result"
    }
   ],
   "source": [
    "np.asfarray(A)"
   ]
  },
  {
   "cell_type": "markdown",
   "id": "0b423667",
   "metadata": {},
   "source": [
    "###  2d-массива с 1 на границе и 0 внутри"
   ]
  },
  {
   "cell_type": "code",
   "execution_count": 10,
   "id": "d1e70b12",
   "metadata": {},
   "outputs": [
    {
     "data": {
      "text/plain": [
       "array([[0, 0, 0, 0, 0],\n",
       "       [0, 0, 0, 0, 0],\n",
       "       [0, 0, 0, 0, 0],\n",
       "       [0, 0, 0, 0, 0],\n",
       "       [0, 0, 0, 0, 0]])"
      ]
     },
     "execution_count": 10,
     "metadata": {},
     "output_type": "execute_result"
    }
   ],
   "source": [
    "A=np.zeros(shape=[5,5], dtype=int)\n",
    "A"
   ]
  },
  {
   "cell_type": "code",
   "execution_count": 11,
   "id": "66975adb",
   "metadata": {},
   "outputs": [
    {
     "data": {
      "text/plain": [
       "array([[1, 1, 1, 1, 1],\n",
       "       [1, 0, 0, 0, 1],\n",
       "       [1, 0, 0, 0, 1],\n",
       "       [1, 0, 0, 0, 1],\n",
       "       [1, 1, 1, 1, 1]])"
      ]
     },
     "execution_count": 11,
     "metadata": {},
     "output_type": "execute_result"
    }
   ],
   "source": [
    "A[:,0]=1\n",
    "A[:,-1]=1\n",
    "A[0,:]=1\n",
    "A[-1,:]=1\n",
    "A"
   ]
  },
  {
   "cell_type": "code",
   "execution_count": 12,
   "id": "a5a7c038",
   "metadata": {},
   "outputs": [
    {
     "data": {
      "text/plain": [
       "array([[1., 1., 1., 1., 1.],\n",
       "       [1., 0., 0., 0., 1.],\n",
       "       [1., 0., 0., 0., 1.],\n",
       "       [1., 0., 0., 0., 1.],\n",
       "       [1., 1., 1., 1., 1.]])"
      ]
     },
     "execution_count": 12,
     "metadata": {},
     "output_type": "execute_result"
    }
   ],
   "source": [
    "# альтернативное решение\n",
    "A=np.ones((5,5))\n",
    "A[1:-1,1:-1]=0\n",
    "A"
   ]
  },
  {
   "cell_type": "code",
   "execution_count": null,
   "id": "633c7c0f",
   "metadata": {},
   "outputs": [],
   "source": []
  },
  {
   "cell_type": "markdown",
   "id": "b51fe4db",
   "metadata": {},
   "source": [
    "### добавить границу (заполненную нулями) вокруг существующего массива. "
   ]
  },
  {
   "cell_type": "code",
   "execution_count": 13,
   "id": "dd69a9e0",
   "metadata": {},
   "outputs": [
    {
     "data": {
      "text/plain": [
       "array([[1, 1, 1],\n",
       "       [1, 1, 1],\n",
       "       [1, 1, 1]])"
      ]
     },
     "execution_count": 13,
     "metadata": {},
     "output_type": "execute_result"
    }
   ],
   "source": [
    "A=np.ones((3,3), dtype=int)\n",
    "A"
   ]
  },
  {
   "cell_type": "code",
   "execution_count": 14,
   "id": "549606b9",
   "metadata": {},
   "outputs": [
    {
     "data": {
      "text/plain": [
       "array([[0, 0, 0, 0, 0],\n",
       "       [0, 1, 1, 1, 0],\n",
       "       [0, 1, 1, 1, 0],\n",
       "       [0, 1, 1, 1, 0],\n",
       "       [0, 0, 0, 0, 0]])"
      ]
     },
     "execution_count": 14,
     "metadata": {},
     "output_type": "execute_result"
    }
   ],
   "source": [
    "np.pad(A, pad_width=1, mode='constant', constant_values=0)"
   ]
  },
  {
   "cell_type": "markdown",
   "id": "497d4bd1",
   "metadata": {},
   "source": [
    "###  матрицу 8x8 и заполнить ее шаблоном шахматной доски."
   ]
  },
  {
   "cell_type": "code",
   "execution_count": 15,
   "id": "c0b40481",
   "metadata": {},
   "outputs": [
    {
     "data": {
      "text/plain": [
       "array([[0, 0, 0, 0, 0, 0, 0, 0],\n",
       "       [0, 0, 0, 0, 0, 0, 0, 0],\n",
       "       [0, 0, 0, 0, 0, 0, 0, 0],\n",
       "       [0, 0, 0, 0, 0, 0, 0, 0],\n",
       "       [0, 0, 0, 0, 0, 0, 0, 0],\n",
       "       [0, 0, 0, 0, 0, 0, 0, 0],\n",
       "       [0, 0, 0, 0, 0, 0, 0, 0],\n",
       "       [0, 0, 0, 0, 0, 0, 0, 0]])"
      ]
     },
     "execution_count": 15,
     "metadata": {},
     "output_type": "execute_result"
    }
   ],
   "source": [
    "A=np.zeros((8,8),dtype=int)\n",
    "A"
   ]
  },
  {
   "cell_type": "code",
   "execution_count": 16,
   "id": "1f04be37",
   "metadata": {},
   "outputs": [
    {
     "data": {
      "text/plain": [
       "array([[0, 1, 0, 1, 0, 1, 0, 1],\n",
       "       [1, 0, 1, 0, 1, 0, 1, 0],\n",
       "       [0, 1, 0, 1, 0, 1, 0, 1],\n",
       "       [1, 0, 1, 0, 1, 0, 1, 0],\n",
       "       [0, 1, 0, 1, 0, 1, 0, 1],\n",
       "       [1, 0, 1, 0, 1, 0, 1, 0],\n",
       "       [0, 1, 0, 1, 0, 1, 0, 1],\n",
       "       [1, 0, 1, 0, 1, 0, 1, 0]])"
      ]
     },
     "execution_count": 16,
     "metadata": {},
     "output_type": "execute_result"
    }
   ],
   "source": [
    "A[1::2,::2]=1\n",
    "A[::2,1::2]=1\n",
    "A"
   ]
  },
  {
   "cell_type": "markdown",
   "id": "01105583",
   "metadata": {},
   "source": [
    "### преобразования списка и кортежа в массивы"
   ]
  },
  {
   "cell_type": "code",
   "execution_count": 17,
   "id": "796dc2ac",
   "metadata": {},
   "outputs": [],
   "source": [
    "C=tuple((range(1,9)))"
   ]
  },
  {
   "cell_type": "code",
   "execution_count": 18,
   "id": "46aaf2e9",
   "metadata": {},
   "outputs": [
    {
     "data": {
      "text/plain": [
       "[1, 2, 3, 4, 5, 6, 7, 8]"
      ]
     },
     "execution_count": 18,
     "metadata": {},
     "output_type": "execute_result"
    }
   ],
   "source": [
    "B=list(range(1,9))\n",
    "B"
   ]
  },
  {
   "cell_type": "code",
   "execution_count": 19,
   "id": "89c61f26",
   "metadata": {},
   "outputs": [
    {
     "data": {
      "text/plain": [
       "array([1, 2, 3, 4, 5, 6, 7, 8])"
      ]
     },
     "execution_count": 19,
     "metadata": {},
     "output_type": "execute_result"
    }
   ],
   "source": [
    "A_C=np.array(C)\n",
    "A_C"
   ]
  },
  {
   "cell_type": "code",
   "execution_count": 20,
   "id": "57846091",
   "metadata": {},
   "outputs": [
    {
     "data": {
      "text/plain": [
       "array([1, 2, 3, 4, 5, 6, 7, 8])"
      ]
     },
     "execution_count": 20,
     "metadata": {},
     "output_type": "execute_result"
    }
   ],
   "source": [
    "A_B=np.array(B)\n",
    "A_B"
   ]
  },
  {
   "cell_type": "markdown",
   "id": "fb8d0ab2",
   "metadata": {},
   "source": [
    "### добавления значений в конец массива"
   ]
  },
  {
   "cell_type": "code",
   "execution_count": 21,
   "id": "132c53db",
   "metadata": {},
   "outputs": [],
   "source": [
    "A=np.arange(10,50,10)\n",
    "B=np.arange(50,100,10)"
   ]
  },
  {
   "cell_type": "code",
   "execution_count": 22,
   "id": "8443543c",
   "metadata": {},
   "outputs": [
    {
     "data": {
      "text/plain": [
       "array([10, 20, 30, 40, 50, 60, 70, 80, 90])"
      ]
     },
     "execution_count": 22,
     "metadata": {},
     "output_type": "execute_result"
    }
   ],
   "source": [
    "A=np.append(A,B)\n",
    "A"
   ]
  },
  {
   "cell_type": "markdown",
   "id": "b1e773ee",
   "metadata": {},
   "source": [
    "###  создания пустого и полного массива"
   ]
  },
  {
   "cell_type": "code",
   "execution_count": 23,
   "id": "97d41bcf",
   "metadata": {},
   "outputs": [
    {
     "data": {
      "text/plain": [
       "array([[0., 0., 0., 0.],\n",
       "       [0., 0., 0., 0.],\n",
       "       [0., 0., 0., 0.]])"
      ]
     },
     "execution_count": 23,
     "metadata": {},
     "output_type": "execute_result"
    }
   ],
   "source": [
    "np.empty((3,4))"
   ]
  },
  {
   "cell_type": "code",
   "execution_count": 24,
   "id": "cba35613",
   "metadata": {},
   "outputs": [
    {
     "data": {
      "text/plain": [
       "array([[5, 5, 5, 5, 5],\n",
       "       [5, 5, 5, 5, 5],\n",
       "       [5, 5, 5, 5, 5],\n",
       "       [5, 5, 5, 5, 5]])"
      ]
     },
     "execution_count": 24,
     "metadata": {},
     "output_type": "execute_result"
    }
   ],
   "source": [
    "np.full((4,5), fill_value=5)"
   ]
  },
  {
   "cell_type": "markdown",
   "id": "7304b6a8",
   "metadata": {},
   "source": [
    "### преобразования значений градусов Цельсия в градусы Фаренгейта. Значения Цельсия сохраняются в массиве NumPy"
   ]
  },
  {
   "cell_type": "code",
   "execution_count": 25,
   "id": "aec2b1ff",
   "metadata": {},
   "outputs": [],
   "source": [
    "F=np.array([0, 12, 45.21, 34, 99.91])"
   ]
  },
  {
   "cell_type": "code",
   "execution_count": 26,
   "id": "2de3fa3e",
   "metadata": {},
   "outputs": [
    {
     "data": {
      "text/plain": [
       "[-17.78, -11.11, 7.34, 1.11, 37.73]"
      ]
     },
     "execution_count": 26,
     "metadata": {},
     "output_type": "execute_result"
    }
   ],
   "source": [
    "Sample_Array=[round((5*x/9-5*32/9),2) for x in F]\n",
    "Sample_Array"
   ]
  },
  {
   "cell_type": "markdown",
   "id": "5abc93df",
   "metadata": {},
   "source": [
    "### действительные и мнимые части массива комплексных чисел."
   ]
  },
  {
   "cell_type": "code",
   "execution_count": 27,
   "id": "8dc7e6ea",
   "metadata": {},
   "outputs": [],
   "source": [
    "#A= [1.00000000 + 0.j 0.70710678 + 0.70710678j]"
   ]
  },
  {
   "cell_type": "code",
   "execution_count": null,
   "id": "5d76d977",
   "metadata": {},
   "outputs": [],
   "source": []
  },
  {
   "cell_type": "markdown",
   "id": "36c2918e",
   "metadata": {},
   "source": [
    "### найти количество элементов массива, длину одного элемента массива в байтах и общее количество байтов, потребляемых элементами. Перейти к редактору\n",
    "Ожидаемый результат:\n",
    "Размер массива: 3"
   ]
  },
  {
   "cell_type": "code",
   "execution_count": 28,
   "id": "812ecf44",
   "metadata": {},
   "outputs": [
    {
     "name": "stdout",
     "output_type": "stream",
     "text": [
      "длина массива 10\n",
      "длина одного байта 4\n",
      "общее количество байтов в массиве 40\n"
     ]
    }
   ],
   "source": [
    "A=np.array(range(10))\n",
    "print('длина массива {}'.format(A.size))\n",
    "print('длина одного байта {}'.format(A.itemsize))\n",
    "print('общее количество байтов в массиве {}'.format(A.nbytes))"
   ]
  },
  {
   "cell_type": "markdown",
   "id": "174d5848",
   "metadata": {},
   "source": [
    "### присутствует ли каждый элемент одномерного массива во втором массиве."
   ]
  },
  {
   "cell_type": "code",
   "execution_count": 29,
   "id": "5a7d94f6",
   "metadata": {},
   "outputs": [],
   "source": [
    "A=np.array((10,20,40,60),dtype=int)\n",
    "B=np.array((0,40),dtype=int)"
   ]
  },
  {
   "cell_type": "code",
   "execution_count": 30,
   "id": "afa50394",
   "metadata": {},
   "outputs": [
    {
     "data": {
      "text/plain": [
       "array([False, False,  True, False])"
      ]
     },
     "execution_count": 30,
     "metadata": {},
     "output_type": "execute_result"
    }
   ],
   "source": [
    "np.isin(A,B)"
   ]
  },
  {
   "cell_type": "code",
   "execution_count": 31,
   "id": "2686611b",
   "metadata": {},
   "outputs": [
    {
     "data": {
      "text/plain": [
       "array([False, False,  True, False])"
      ]
     },
     "execution_count": 31,
     "metadata": {},
     "output_type": "execute_result"
    }
   ],
   "source": [
    "np.in1d(A,B)"
   ]
  },
  {
   "cell_type": "code",
   "execution_count": 32,
   "id": "17dcb7cd",
   "metadata": {},
   "outputs": [
    {
     "data": {
      "text/plain": [
       "[40]"
      ]
     },
     "execution_count": 32,
     "metadata": {},
     "output_type": "execute_result"
    }
   ],
   "source": [
    "[i for i,j in zip(A, np.isin(A,B)) if j==True]"
   ]
  },
  {
   "cell_type": "markdown",
   "id": "802ae2b5",
   "metadata": {},
   "source": [
    "### найти общие значения между двумя массивами"
   ]
  },
  {
   "cell_type": "code",
   "execution_count": 33,
   "id": "4473c696",
   "metadata": {},
   "outputs": [
    {
     "data": {
      "text/plain": [
       "[40]"
      ]
     },
     "execution_count": 33,
     "metadata": {},
     "output_type": "execute_result"
    }
   ],
   "source": [
    "[i for i,j in zip(A, np.isin(A,B)) if j==True]"
   ]
  },
  {
   "cell_type": "markdown",
   "id": "22964c38",
   "metadata": {},
   "source": [
    "### получить уникальные элементы массива"
   ]
  },
  {
   "cell_type": "code",
   "execution_count": 34,
   "id": "bdc039c7",
   "metadata": {},
   "outputs": [],
   "source": [
    "A=np.array((10,10,20,20,30,30))"
   ]
  },
  {
   "cell_type": "code",
   "execution_count": 35,
   "id": "172b9a33",
   "metadata": {},
   "outputs": [
    {
     "data": {
      "text/plain": [
       "{10, 20, 30}"
      ]
     },
     "execution_count": 35,
     "metadata": {},
     "output_type": "execute_result"
    }
   ],
   "source": [
    "set(A)"
   ]
  },
  {
   "cell_type": "code",
   "execution_count": 36,
   "id": "92dce2f2",
   "metadata": {},
   "outputs": [],
   "source": [
    "B=np.array([[1,1],[2,3]])"
   ]
  },
  {
   "cell_type": "code",
   "execution_count": 37,
   "id": "919b2ca0",
   "metadata": {},
   "outputs": [],
   "source": [
    "C=B.ravel()"
   ]
  },
  {
   "cell_type": "code",
   "execution_count": 38,
   "id": "9deaef80",
   "metadata": {},
   "outputs": [
    {
     "data": {
      "text/plain": [
       "{1, 2, 3}"
      ]
     },
     "execution_count": 38,
     "metadata": {},
     "output_type": "execute_result"
    }
   ],
   "source": [
    "set(C)"
   ]
  },
  {
   "cell_type": "markdown",
   "id": "76fc6cad",
   "metadata": {},
   "source": [
    "### найти разницу между двумя массивами. Разница набора вернет отсортированные уникальные значения в массиве1, которых нет в массиве2."
   ]
  },
  {
   "cell_type": "code",
   "execution_count": 39,
   "id": "c4096ab2",
   "metadata": {},
   "outputs": [
    {
     "data": {
      "text/plain": [
       "array([ 0, 10, 20, 40, 60, 80])"
      ]
     },
     "execution_count": 39,
     "metadata": {},
     "output_type": "execute_result"
    }
   ],
   "source": [
    "A=np.array((0, 10,20,40,60,80))\n",
    "B=np.array((10,30,40,50,70,90))\n",
    "A"
   ]
  },
  {
   "cell_type": "code",
   "execution_count": 40,
   "id": "fa6dbac1",
   "metadata": {},
   "outputs": [],
   "source": [
    "A=set(A)"
   ]
  },
  {
   "cell_type": "code",
   "execution_count": 41,
   "id": "4bd1f023",
   "metadata": {},
   "outputs": [],
   "source": [
    "B=set(B)"
   ]
  },
  {
   "cell_type": "code",
   "execution_count": 42,
   "id": "221c983e",
   "metadata": {},
   "outputs": [
    {
     "data": {
      "text/plain": [
       "array({0, 80, 20, 60}, dtype=object)"
      ]
     },
     "execution_count": 42,
     "metadata": {},
     "output_type": "execute_result"
    }
   ],
   "source": [
    "np.array(A.difference(B))"
   ]
  },
  {
   "cell_type": "code",
   "execution_count": 43,
   "id": "505bec1c",
   "metadata": {},
   "outputs": [
    {
     "data": {
      "text/plain": [
       "[0, 20, 60, 80]"
      ]
     },
     "execution_count": 43,
     "metadata": {},
     "output_type": "execute_result"
    }
   ],
   "source": [
    "sorted(np.array(list(A.difference(B))))  # или np.setxor1d(array1, array2)"
   ]
  },
  {
   "cell_type": "markdown",
   "id": "4aad2010",
   "metadata": {},
   "source": [
    "### найти набор исключений или двух массивов. Set exclusive-or вернет отсортированные, уникальные значения, которые находятся только в одном (а не в обоих) входных массивах"
   ]
  },
  {
   "cell_type": "code",
   "execution_count": 44,
   "id": "1e904493",
   "metadata": {},
   "outputs": [],
   "source": [
    "A=np.array((0,10,20,40,60,80))\n",
    "B=np.array((10,30,40,50,70))"
   ]
  },
  {
   "cell_type": "code",
   "execution_count": 45,
   "id": "69b538dd",
   "metadata": {},
   "outputs": [],
   "source": [
    "A=set(A)\n",
    "B=set(B)"
   ]
  },
  {
   "cell_type": "code",
   "execution_count": 46,
   "id": "0c6a31b0",
   "metadata": {},
   "outputs": [
    {
     "data": {
      "text/plain": [
       "[0, 20, 30, 50, 60, 70, 80]"
      ]
     },
     "execution_count": 46,
     "metadata": {},
     "output_type": "execute_result"
    }
   ],
   "source": [
    "sorted(np.array(list(A^B))) # или np.setxor1d(array1, array2)"
   ]
  },
  {
   "cell_type": "markdown",
   "id": "e618c9b0",
   "metadata": {},
   "source": [
    "### бъединение двух массивов. Union вернет уникальный отсортированный массив значений, которые находятся в любом из двух входных массивов.Уникальный отсортированный массив значений, которые находятся в любом из двух входных массивов:"
   ]
  },
  {
   "cell_type": "code",
   "execution_count": 47,
   "id": "b8169cf1",
   "metadata": {},
   "outputs": [],
   "source": [
    "A=np.array((0,10,20,40,60,80))\n",
    "B=np.array((10,30,40,50,70))"
   ]
  },
  {
   "cell_type": "code",
   "execution_count": 48,
   "id": "3b348b0b",
   "metadata": {},
   "outputs": [
    {
     "data": {
      "text/plain": [
       "[0, 10, 20, 30, 40, 50, 60, 70, 80]"
      ]
     },
     "execution_count": 48,
     "metadata": {},
     "output_type": "execute_result"
    }
   ],
   "source": [
    "A=set(A)\n",
    "B=set(B)\n",
    "sorted(np.array(list(A.union(B))))"
   ]
  },
  {
   "cell_type": "markdown",
   "id": "58a0dca9",
   "metadata": {},
   "source": [
    "### Напишите программу NumPy, чтобы проверить, все ли элементы массива имеют значение True\n",
    "Примечание: 0 оценивается как False в NumPy."
   ]
  },
  {
   "cell_type": "code",
   "execution_count": 49,
   "id": "ccb5d30b",
   "metadata": {},
   "outputs": [],
   "source": [
    "A=np.array([10,2,3,0,50])\n",
    "B=np.array ((20,30,2))"
   ]
  },
  {
   "cell_type": "code",
   "execution_count": 50,
   "id": "3e4f014b",
   "metadata": {},
   "outputs": [
    {
     "data": {
      "text/plain": [
       "True"
      ]
     },
     "execution_count": 50,
     "metadata": {},
     "output_type": "execute_result"
    }
   ],
   "source": [
    "A.all()\n",
    "B.all()"
   ]
  },
  {
   "cell_type": "code",
   "execution_count": 51,
   "id": "c24ab464",
   "metadata": {},
   "outputs": [],
   "source": [
    "# или\n",
    "def check_0(array_1):\n",
    "    array_2=np.ones(array_1.size)\n",
    "    return [print('False') if i*j==0 else print('TRUE') for i,j in zip(array_1,array_2)]"
   ]
  },
  {
   "cell_type": "code",
   "execution_count": 52,
   "id": "356b8bba",
   "metadata": {},
   "outputs": [
    {
     "name": "stdout",
     "output_type": "stream",
     "text": [
      "TRUE\n",
      "TRUE\n",
      "TRUE\n"
     ]
    },
    {
     "data": {
      "text/plain": [
       "[None, None, None]"
      ]
     },
     "execution_count": 52,
     "metadata": {},
     "output_type": "execute_result"
    }
   ],
   "source": [
    "check_0(B)"
   ]
  },
  {
   "cell_type": "markdown",
   "id": "e968bb90",
   "metadata": {},
   "source": [
    "### имеет ли какой-либо элемент массива вдоль заданной оси значение True. Перейти к редактору\n",
    "Примечание: 0 оценивается как False в NumPy."
   ]
  },
  {
   "cell_type": "markdown",
   "id": "b816b9b2",
   "metadata": {},
   "source": [
    "### Напишите программу NumPy для построения массива путем повторения"
   ]
  },
  {
   "cell_type": "code",
   "execution_count": 53,
   "id": "f12bbcc4",
   "metadata": {},
   "outputs": [],
   "source": [
    "A=np.array((10,20))"
   ]
  },
  {
   "cell_type": "code",
   "execution_count": 54,
   "id": "1d06d61e",
   "metadata": {},
   "outputs": [
    {
     "data": {
      "text/plain": [
       "array([10, 20, 10, 20])"
      ]
     },
     "execution_count": 54,
     "metadata": {},
     "output_type": "execute_result"
    }
   ],
   "source": [
    "np.tile(A,2)"
   ]
  },
  {
   "cell_type": "markdown",
   "id": "3c1b27d8",
   "metadata": {},
   "source": [
    "### Напишите программу NumPy для повторения элементов массива"
   ]
  },
  {
   "cell_type": "code",
   "execution_count": 55,
   "id": "78d05d11",
   "metadata": {},
   "outputs": [],
   "source": [
    "A=np.array((1,2,3))"
   ]
  },
  {
   "cell_type": "code",
   "execution_count": 56,
   "id": "0bf1ae11",
   "metadata": {},
   "outputs": [
    {
     "data": {
      "text/plain": [
       "array([1, 1, 2, 2, 3, 3])"
      ]
     },
     "execution_count": 56,
     "metadata": {},
     "output_type": "execute_result"
    }
   ],
   "source": [
    "result=[]\n",
    "for i in A:\n",
    "    result.append(i)\n",
    "    result.append(i)\n",
    "np.array(result)"
   ]
  },
  {
   "cell_type": "code",
   "execution_count": 57,
   "id": "4e61a8ed",
   "metadata": {},
   "outputs": [
    {
     "data": {
      "text/plain": [
       "array([1, 1, 2, 2, 3, 3])"
      ]
     },
     "execution_count": 57,
     "metadata": {},
     "output_type": "execute_result"
    }
   ],
   "source": [
    "# или\n",
    "np.repeat(A,2)"
   ]
  },
  {
   "cell_type": "markdown",
   "id": "01180522",
   "metadata": {},
   "source": [
    "### Напишите программу NumPy, чтобы найти индексы максимальных и минимальных значений вдоль заданной оси массива"
   ]
  },
  {
   "cell_type": "code",
   "execution_count": 58,
   "id": "2d8a20d5",
   "metadata": {},
   "outputs": [
    {
     "data": {
      "text/plain": [
       "array([[0, 1, 2],\n",
       "       [3, 4, 5],\n",
       "       [6, 7, 8]])"
      ]
     },
     "execution_count": 58,
     "metadata": {},
     "output_type": "execute_result"
    }
   ],
   "source": [
    "B=np.arange(9).reshape(3,3)\n",
    "B"
   ]
  },
  {
   "cell_type": "code",
   "execution_count": 59,
   "id": "f0706a1a",
   "metadata": {},
   "outputs": [
    {
     "data": {
      "text/plain": [
       "array([0, 1, 2])"
      ]
     },
     "execution_count": 59,
     "metadata": {},
     "output_type": "execute_result"
    }
   ],
   "source": [
    "np.min(B, axis=0)"
   ]
  },
  {
   "cell_type": "code",
   "execution_count": 60,
   "id": "90796257",
   "metadata": {},
   "outputs": [
    {
     "data": {
      "text/plain": [
       "array([0, 3, 6])"
      ]
     },
     "execution_count": 60,
     "metadata": {},
     "output_type": "execute_result"
    }
   ],
   "source": [
    "np.min(B, axis=1)"
   ]
  },
  {
   "cell_type": "markdown",
   "id": "c91591f9",
   "metadata": {},
   "source": [
    "### Напишите программу NumPy для сравнения двух массивов, используя numpy."
   ]
  },
  {
   "cell_type": "code",
   "execution_count": 61,
   "id": "9ac94850",
   "metadata": {},
   "outputs": [
    {
     "data": {
      "text/plain": [
       "array([1, 2, 3])"
      ]
     },
     "execution_count": 61,
     "metadata": {},
     "output_type": "execute_result"
    }
   ],
   "source": [
    "B=np.array((4,5,6))\n",
    "A"
   ]
  },
  {
   "cell_type": "code",
   "execution_count": 62,
   "id": "4202479e",
   "metadata": {},
   "outputs": [
    {
     "data": {
      "text/plain": [
       "array([False, False, False])"
      ]
     },
     "execution_count": 62,
     "metadata": {},
     "output_type": "execute_result"
    }
   ],
   "source": [
    "A>B"
   ]
  },
  {
   "cell_type": "markdown",
   "id": "71ee2c39",
   "metadata": {},
   "source": [
    "### сортировки по первой, последней оси массива"
   ]
  },
  {
   "cell_type": "code",
   "execution_count": 63,
   "id": "591f6f2b",
   "metadata": {},
   "outputs": [],
   "source": [
    "np.sort?"
   ]
  },
  {
   "cell_type": "markdown",
   "id": "2a5804af",
   "metadata": {},
   "source": [
    "### сортировки пар имени и фамилии, возвращающих их индексы"
   ]
  },
  {
   "cell_type": "code",
   "execution_count": 64,
   "id": "58250972",
   "metadata": {},
   "outputs": [],
   "source": [
    "first_names = list(('Betsey', 'Shelley', 'Lanell', 'Genesis', 'Margery'))"
   ]
  },
  {
   "cell_type": "code",
   "execution_count": 65,
   "id": "538f8ef1",
   "metadata": {},
   "outputs": [
    {
     "data": {
      "text/plain": [
       "['Betsey', 'Shelley', 'Lanell', 'Genesis', 'Margery']"
      ]
     },
     "execution_count": 65,
     "metadata": {},
     "output_type": "execute_result"
    }
   ],
   "source": [
    "first_names"
   ]
  },
  {
   "cell_type": "code",
   "execution_count": 66,
   "id": "461f7838",
   "metadata": {},
   "outputs": [],
   "source": [
    "last_names =list(('Битва', 'Ямал', 'Infkm', 'Шталь', 'Вулум'))"
   ]
  },
  {
   "cell_type": "code",
   "execution_count": 67,
   "id": "b6fc9807",
   "metadata": {},
   "outputs": [
    {
     "data": {
      "text/plain": [
       "[['Infkm', 'Lanell'],\n",
       " ['Битва', 'Betsey'],\n",
       " ['Вулум', 'Margery'],\n",
       " ['Шталь', 'Genesis'],\n",
       " ['Ямал', 'Shelley']]"
      ]
     },
     "execution_count": 67,
     "metadata": {},
     "output_type": "execute_result"
    }
   ],
   "source": [
    "[list([i,j]) for i, j in sorted(zip(last_names,first_names))]"
   ]
  },
  {
   "cell_type": "code",
   "execution_count": 68,
   "id": "9ddcaea7",
   "metadata": {},
   "outputs": [
    {
     "data": {
      "text/plain": [
       "[{'Infkm': 'Lanell'},\n",
       " {'Битва': 'Betsey'},\n",
       " {'Вулум': 'Margery'},\n",
       " {'Шталь': 'Genesis'},\n",
       " {'Ямал': 'Shelley'}]"
      ]
     },
     "execution_count": 68,
     "metadata": {},
     "output_type": "execute_result"
    }
   ],
   "source": [
    "[dict(zip([i],[j])) for i, j in sorted(zip(last_names,first_names))]"
   ]
  },
  {
   "cell_type": "markdown",
   "id": "d976317a",
   "metadata": {},
   "source": [
    "### получить значения и индексы элементов, которые больше 10 в данном массиве"
   ]
  },
  {
   "cell_type": "code",
   "execution_count": 69,
   "id": "e20b40a0",
   "metadata": {},
   "outputs": [
    {
     "data": {
      "text/plain": [
       "array([ 0,  1,  2,  3,  4,  5,  6,  7,  8,  9, 10, 11, 12, 13, 14])"
      ]
     },
     "execution_count": 69,
     "metadata": {},
     "output_type": "execute_result"
    }
   ],
   "source": [
    "A=np.arange(15)\n",
    "A"
   ]
  },
  {
   "cell_type": "code",
   "execution_count": 70,
   "id": "205b4735",
   "metadata": {},
   "outputs": [
    {
     "data": {
      "text/plain": [
       "array([11, 12, 13, 14])"
      ]
     },
     "execution_count": 70,
     "metadata": {},
     "output_type": "execute_result"
    }
   ],
   "source": [
    "A[A>10]"
   ]
  },
  {
   "cell_type": "markdown",
   "id": "b0102163",
   "metadata": {},
   "source": [
    "### сохранения массива NumPy в текстовый файл"
   ]
  },
  {
   "cell_type": "code",
   "execution_count": 71,
   "id": "8769962e",
   "metadata": {},
   "outputs": [],
   "source": [
    "#np.savetxt('test.out',A, delimiter=',')"
   ]
  },
  {
   "cell_type": "markdown",
   "id": "38dad4db",
   "metadata": {},
   "source": [
    "### найти объем памяти массива NumPy"
   ]
  },
  {
   "cell_type": "code",
   "execution_count": 72,
   "id": "4f71450d",
   "metadata": {},
   "outputs": [
    {
     "data": {
      "text/plain": [
       "60"
      ]
     },
     "execution_count": 72,
     "metadata": {},
     "output_type": "execute_result"
    }
   ],
   "source": [
    "A.nbytes"
   ]
  },
  {
   "cell_type": "code",
   "execution_count": 73,
   "id": "0b72b817",
   "metadata": {},
   "outputs": [
    {
     "data": {
      "text/plain": [
       "60"
      ]
     },
     "execution_count": 73,
     "metadata": {},
     "output_type": "execute_result"
    }
   ],
   "source": [
    "# или\n",
    "A.size*A.itemsize"
   ]
  },
  {
   "cell_type": "markdown",
   "id": "6b62c246",
   "metadata": {},
   "source": [
    "### создания массива единиц и массива нулей"
   ]
  },
  {
   "cell_type": "markdown",
   "id": "e1e6296b",
   "metadata": {},
   "source": [
    "### изменить размерность массива. Перейти к редактору\n",
    "Ожидаемый результат:\n",
    "6 строк и 0 столбцов\n",
    "(6,)\n",
    "(3, 3) -> 3 строки и 3 столбца"
   ]
  },
  {
   "cell_type": "code",
   "execution_count": 74,
   "id": "3954b997",
   "metadata": {},
   "outputs": [
    {
     "data": {
      "text/plain": [
       "9"
      ]
     },
     "execution_count": 74,
     "metadata": {},
     "output_type": "execute_result"
    }
   ],
   "source": [
    "A=np.arange(9)\n",
    "A.size"
   ]
  },
  {
   "cell_type": "code",
   "execution_count": 75,
   "id": "70ba6e88",
   "metadata": {},
   "outputs": [
    {
     "data": {
      "text/plain": [
       "array([[0, 1, 2],\n",
       "       [3, 4, 5],\n",
       "       [6, 7, 8]])"
      ]
     },
     "execution_count": 75,
     "metadata": {},
     "output_type": "execute_result"
    }
   ],
   "source": [
    "A.reshape((3,3))"
   ]
  },
  {
   "cell_type": "markdown",
   "id": "891a7ef3",
   "metadata": {},
   "source": [
    "### создания непрерывного плоского массива"
   ]
  },
  {
   "cell_type": "code",
   "execution_count": 76,
   "id": "2d9865ce",
   "metadata": {},
   "outputs": [],
   "source": [
    "A=np.random.choice?"
   ]
  },
  {
   "cell_type": "code",
   "execution_count": null,
   "id": "f0c1bf80",
   "metadata": {},
   "outputs": [],
   "source": [
    "A=np.random.choice"
   ]
  },
  {
   "cell_type": "code",
   "execution_count": 77,
   "id": "fa32618c",
   "metadata": {},
   "outputs": [],
   "source": [
    "A=np.random.choice"
   ]
  },
  {
   "cell_type": "code",
   "execution_count": 78,
   "id": "6afdf97b",
   "metadata": {},
   "outputs": [],
   "source": [
    "A=np.random.choice"
   ]
  },
  {
   "cell_type": "code",
   "execution_count": 79,
   "id": "f091e3da",
   "metadata": {},
   "outputs": [],
   "source": [
    "A=np.random.choice"
   ]
  },
  {
   "cell_type": "code",
   "execution_count": 80,
   "id": "75fe9899",
   "metadata": {},
   "outputs": [],
   "source": [
    "A=np.random.choice"
   ]
  },
  {
   "cell_type": "code",
   "execution_count": 81,
   "id": "2d0bc799",
   "metadata": {},
   "outputs": [],
   "source": [
    "A=np.random.choice"
   ]
  },
  {
   "cell_type": "code",
   "execution_count": 82,
   "id": "c839cb14",
   "metadata": {},
   "outputs": [],
   "source": [
    "A=np.random.choice"
   ]
  },
  {
   "cell_type": "code",
   "execution_count": 83,
   "id": "0b09b4a6",
   "metadata": {},
   "outputs": [],
   "source": [
    "A=np.random.choice"
   ]
  },
  {
   "cell_type": "code",
   "execution_count": 84,
   "id": "fe8429d7",
   "metadata": {},
   "outputs": [],
   "source": [
    "A=np.random.choice"
   ]
  },
  {
   "cell_type": "code",
   "execution_count": 85,
   "id": "7ed6c4b6",
   "metadata": {},
   "outputs": [],
   "source": [
    "A=np.random.choice"
   ]
  },
  {
   "cell_type": "code",
   "execution_count": 86,
   "id": "cfdb2d8f",
   "metadata": {},
   "outputs": [
    {
     "data": {
      "text/plain": [
       "array([[3, 1, 1],\n",
       "       [7, 3, 5],\n",
       "       [2, 9, 3],\n",
       "       [7, 0, 0],\n",
       "       [2, 4, 1]])"
      ]
     },
     "execution_count": 86,
     "metadata": {},
     "output_type": "execute_result"
    }
   ],
   "source": [
    "A=np.random.choice(10,size=(5,3))\n",
    "A"
   ]
  },
  {
   "cell_type": "code",
   "execution_count": 87,
   "id": "cdab4656",
   "metadata": {},
   "outputs": [
    {
     "data": {
      "text/plain": [
       "array([3, 1, 1, 7, 3, 5, 2, 9, 3, 7, 0, 0, 2, 4, 1])"
      ]
     },
     "execution_count": 87,
     "metadata": {},
     "output_type": "execute_result"
    }
   ],
   "source": [
    "A.ravel()"
   ]
  },
  {
   "cell_type": "markdown",
   "id": "61dbca03",
   "metadata": {},
   "source": [
    "### создания двумерного массива размером 2 x 3 (состоящего из 4-байтовых целочисленных элементов), а также распечатайте форму, тип и тип данных массива."
   ]
  },
  {
   "cell_type": "code",
   "execution_count": 88,
   "id": "224ade94",
   "metadata": {},
   "outputs": [],
   "source": [
    "A=np.array(range(1,7),np.int32)\n",
    "A=A.reshape((2,3))"
   ]
  },
  {
   "cell_type": "code",
   "execution_count": 89,
   "id": "535b62a2",
   "metadata": {},
   "outputs": [
    {
     "name": "stdout",
     "output_type": "stream",
     "text": [
      "(2, 3)\n",
      "int32\n"
     ]
    }
   ],
   "source": [
    "print(A.shape)\n",
    "print(A.dtype)"
   ]
  },
  {
   "cell_type": "code",
   "execution_count": 90,
   "id": "5cb69d19",
   "metadata": {},
   "outputs": [
    {
     "name": "stdout",
     "output_type": "stream",
     "text": [
      "(2, 3) \n",
      " int32\n"
     ]
    }
   ],
   "source": [
    "print(A.shape,'\\n',A.dtype)"
   ]
  },
  {
   "cell_type": "markdown",
   "id": "608abe25",
   "metadata": {},
   "source": [
    "### новой формы в массиве без изменения его данных"
   ]
  },
  {
   "cell_type": "code",
   "execution_count": 91,
   "id": "93c4cc22",
   "metadata": {},
   "outputs": [
    {
     "data": {
      "text/plain": [
       "array([1, 2, 3, 4, 5, 6])"
      ]
     },
     "execution_count": 91,
     "metadata": {},
     "output_type": "execute_result"
    }
   ],
   "source": [
    "A=np.arange(1,7)\n",
    "A"
   ]
  },
  {
   "cell_type": "code",
   "execution_count": 92,
   "id": "be17ea29",
   "metadata": {},
   "outputs": [
    {
     "data": {
      "text/plain": [
       "array([[1, 2, 3],\n",
       "       [4, 5, 6]])"
      ]
     },
     "execution_count": 92,
     "metadata": {},
     "output_type": "execute_result"
    }
   ],
   "source": [
    "A.reshape(2,3)"
   ]
  },
  {
   "cell_type": "code",
   "execution_count": 93,
   "id": "fdc3706d",
   "metadata": {},
   "outputs": [
    {
     "data": {
      "text/plain": [
       "array([[1, 2],\n",
       "       [3, 4],\n",
       "       [5, 6]])"
      ]
     },
     "execution_count": 93,
     "metadata": {},
     "output_type": "execute_result"
    }
   ],
   "source": [
    "A.reshape((3,2))"
   ]
  },
  {
   "cell_type": "markdown",
   "id": "dbaca866",
   "metadata": {},
   "source": [
    "### изменения типа данных массива."
   ]
  },
  {
   "cell_type": "code",
   "execution_count": 94,
   "id": "972c5d08",
   "metadata": {},
   "outputs": [
    {
     "name": "stdout",
     "output_type": "stream",
     "text": [
      "int32\n"
     ]
    }
   ],
   "source": [
    "print(A.dtype)"
   ]
  },
  {
   "cell_type": "code",
   "execution_count": 95,
   "id": "c9c38294",
   "metadata": {},
   "outputs": [],
   "source": [
    "x=A.astype(float)"
   ]
  },
  {
   "cell_type": "code",
   "execution_count": 96,
   "id": "1298e44f",
   "metadata": {},
   "outputs": [
    {
     "name": "stdout",
     "output_type": "stream",
     "text": [
      "float64\n"
     ]
    }
   ],
   "source": [
    "print(x.dtype)"
   ]
  },
  {
   "cell_type": "markdown",
   "id": "666935d8",
   "metadata": {},
   "source": [
    "### создания нового массива 3 * 5, заполненного 2."
   ]
  },
  {
   "cell_type": "code",
   "execution_count": 97,
   "id": "707682ec",
   "metadata": {},
   "outputs": [
    {
     "data": {
      "text/plain": [
       "array([[2, 2, 2, 2, 2],\n",
       "       [2, 2, 2, 2, 2],\n",
       "       [2, 2, 2, 2, 2]])"
      ]
     },
     "execution_count": 97,
     "metadata": {},
     "output_type": "execute_result"
    }
   ],
   "source": [
    "np.full((3,5), fill_value=2)"
   ]
  },
  {
   "cell_type": "code",
   "execution_count": 98,
   "id": "418ee55e",
   "metadata": {},
   "outputs": [
    {
     "data": {
      "text/plain": [
       "array([0, 1, 2, 3], dtype=int64)"
      ]
     },
     "execution_count": 98,
     "metadata": {},
     "output_type": "execute_result"
    }
   ],
   "source": [
    "x = np.arange (4, dtype = np.int64)\n",
    "x"
   ]
  },
  {
   "cell_type": "markdown",
   "id": "b825e1d4",
   "metadata": {},
   "source": [
    "### создания массива из 10 с одинаковой формой и типом данного массива"
   ]
  },
  {
   "cell_type": "code",
   "execution_count": 99,
   "id": "dcee22be",
   "metadata": {},
   "outputs": [
    {
     "data": {
      "text/plain": [
       "array([10, 10, 10, 10])"
      ]
     },
     "execution_count": 99,
     "metadata": {},
     "output_type": "execute_result"
    }
   ],
   "source": [
    "np.full(4, fill_value=10, dtype=np.int32)"
   ]
  },
  {
   "cell_type": "markdown",
   "id": "33023527",
   "metadata": {},
   "source": [
    "###  создания трехмерного массива с единицами по диагонали и нулями в других местах"
   ]
  },
  {
   "cell_type": "code",
   "execution_count": 100,
   "id": "4d8ad4f8",
   "metadata": {},
   "outputs": [
    {
     "data": {
      "text/plain": [
       "array([[1, 0, 0],\n",
       "       [0, 1, 0],\n",
       "       [0, 0, 1]])"
      ]
     },
     "execution_count": 100,
     "metadata": {},
     "output_type": "execute_result"
    }
   ],
   "source": [
    "np.eye(3,3, dtype=np.int32)"
   ]
  },
  {
   "cell_type": "markdown",
   "id": "69371d2e",
   "metadata": {},
   "source": [
    "### создания двумерного массива, диагональ которого равна [4, 5, 6, 8] и 0 где-либо еще"
   ]
  },
  {
   "cell_type": "code",
   "execution_count": 101,
   "id": "1b330ac6",
   "metadata": {},
   "outputs": [
    {
     "data": {
      "text/plain": [
       "array([[4, 0, 0, 0],\n",
       "       [0, 5, 0, 0],\n",
       "       [0, 0, 6, 0],\n",
       "       [0, 0, 0, 8]])"
      ]
     },
     "execution_count": 101,
     "metadata": {},
     "output_type": "execute_result"
    }
   ],
   "source": [
    "np.diagflat([4,5,6,8])"
   ]
  },
  {
   "cell_type": "markdown",
   "id": "82f06177",
   "metadata": {},
   "source": [
    "### создания одномерного массива от 0 до 50 и массива от 10 до 50"
   ]
  },
  {
   "cell_type": "code",
   "execution_count": 102,
   "id": "cc48c4c4",
   "metadata": {},
   "outputs": [
    {
     "data": {
      "text/plain": [
       "array([10, 11, 12, 13, 14, 15, 16, 17, 18, 19, 20, 21, 22, 23, 24, 25, 26,\n",
       "       27, 28, 29, 30, 31, 32, 33, 34, 35, 36, 37, 38, 39, 40, 41, 42, 43,\n",
       "       44, 45, 46, 47, 48, 49, 50])"
      ]
     },
     "execution_count": 102,
     "metadata": {},
     "output_type": "execute_result"
    }
   ],
   "source": [
    "A=np.arange(10,51)\n",
    "A"
   ]
  },
  {
   "cell_type": "markdown",
   "id": "8fa8e1bf",
   "metadata": {},
   "source": [
    "### создания одномерного массива из 30 равномерно расположенных элементов между 2,5. и 6,5 включительно"
   ]
  },
  {
   "cell_type": "code",
   "execution_count": 103,
   "id": "4242be55",
   "metadata": {},
   "outputs": [
    {
     "data": {
      "text/plain": [
       "array([2.5       , 2.63793103, 2.77586207, 2.9137931 , 3.05172414,\n",
       "       3.18965517, 3.32758621, 3.46551724, 3.60344828, 3.74137931,\n",
       "       3.87931034, 4.01724138, 4.15517241, 4.29310345, 4.43103448,\n",
       "       4.56896552, 4.70689655, 4.84482759, 4.98275862, 5.12068966,\n",
       "       5.25862069, 5.39655172, 5.53448276, 5.67241379, 5.81034483,\n",
       "       5.94827586, 6.0862069 , 6.22413793, 6.36206897, 6.5       ])"
      ]
     },
     "execution_count": 103,
     "metadata": {},
     "output_type": "execute_result"
    }
   ],
   "source": [
    "np.linspace(2.5,6.5, num=30)"
   ]
  },
  {
   "cell_type": "markdown",
   "id": "4ee79763",
   "metadata": {},
   "source": [
    "### создания одномерного массива из 20 элементов, равномерно распределенных в лог-масштабе от 2 до 5, эксклюзивно"
   ]
  },
  {
   "cell_type": "code",
   "execution_count": 104,
   "id": "202cf1d5",
   "metadata": {},
   "outputs": [
    {
     "data": {
      "text/plain": [
       "array([   100.        ,    143.84498883,    206.91380811,    297.63514416,\n",
       "          428.13323987,    615.84821107,    885.86679041,   1274.2749857 ,\n",
       "         1832.98071083,   2636.65089873,   3792.69019073,   5455.59478117,\n",
       "         7847.59970351,  11288.37891685,  16237.76739189,  23357.2146909 ,\n",
       "        33598.18286284,  48329.30238572,  69519.27961776, 100000.        ])"
      ]
     },
     "execution_count": 104,
     "metadata": {},
     "output_type": "execute_result"
    }
   ],
   "source": [
    "np.logspace(2,5, num=20)"
   ]
  },
  {
   "cell_type": "code",
   "execution_count": null,
   "id": "1fefd86c",
   "metadata": {},
   "outputs": [],
   "source": []
  },
  {
   "cell_type": "markdown",
   "id": "77566a1b",
   "metadata": {},
   "source": [
    "###  создания массива, который выглядит как массив ниже. Перейти к редактору\n",
    "Ожидаемый результат:\n",
    "[[0. 0. 0.]\n",
    "[1. 0. 0.]\n",
    "[1. 1. 0.]\n",
    "[1. 1. 1.]]"
   ]
  },
  {
   "cell_type": "code",
   "execution_count": 105,
   "id": "6fca6e97",
   "metadata": {},
   "outputs": [
    {
     "data": {
      "text/plain": [
       "array([[1., 0., 0.],\n",
       "       [1., 1., 0.],\n",
       "       [1., 1., 1.]])"
      ]
     },
     "execution_count": 105,
     "metadata": {},
     "output_type": "execute_result"
    }
   ],
   "source": [
    "np.tri(3,3,0)"
   ]
  },
  {
   "cell_type": "code",
   "execution_count": 106,
   "id": "ed2c3510",
   "metadata": {},
   "outputs": [
    {
     "data": {
      "text/plain": [
       "array([[1., 1., 1.],\n",
       "       [1., 1., 1.],\n",
       "       [1., 1., 1.],\n",
       "       [1., 1., 1.]])"
      ]
     },
     "execution_count": 106,
     "metadata": {},
     "output_type": "execute_result"
    }
   ],
   "source": [
    "A=np.ones((4,3))\n",
    "A"
   ]
  },
  {
   "cell_type": "code",
   "execution_count": 107,
   "id": "15dbd650",
   "metadata": {},
   "outputs": [
    {
     "data": {
      "text/plain": [
       "array([0, 1, 2])"
      ]
     },
     "execution_count": 107,
     "metadata": {},
     "output_type": "execute_result"
    }
   ],
   "source": [
    "C=np.array((0,1,2))\n",
    "C"
   ]
  },
  {
   "cell_type": "code",
   "execution_count": 108,
   "id": "cc8ebbb2",
   "metadata": {},
   "outputs": [
    {
     "data": {
      "text/plain": [
       "1.0"
      ]
     },
     "execution_count": 108,
     "metadata": {},
     "output_type": "execute_result"
    }
   ],
   "source": [
    "Z=np.ones((3,3))\n",
    "Z[2][1]"
   ]
  },
  {
   "cell_type": "code",
   "execution_count": 109,
   "id": "906f580b",
   "metadata": {},
   "outputs": [],
   "source": [
    "Q=[Z[i][i]+1 for i in C]"
   ]
  },
  {
   "cell_type": "code",
   "execution_count": 110,
   "id": "5a46cefe",
   "metadata": {},
   "outputs": [
    {
     "data": {
      "text/plain": [
       "1.0"
      ]
     },
     "execution_count": 110,
     "metadata": {},
     "output_type": "execute_result"
    }
   ],
   "source": [
    "Z[2][1]"
   ]
  },
  {
   "cell_type": "markdown",
   "id": "62b39e6e",
   "metadata": {},
   "source": [
    "### создать массив, который выглядит как массив ниже"
   ]
  },
  {
   "cell_type": "code",
   "execution_count": 111,
   "id": "ed26e912",
   "metadata": {},
   "outputs": [
    {
     "data": {
      "text/plain": [
       "array([[ 2,  3,  4],\n",
       "       [ 0,  6,  7],\n",
       "       [ 0,  0, 10],\n",
       "       [ 0,  0,  0]])"
      ]
     },
     "execution_count": 111,
     "metadata": {},
     "output_type": "execute_result"
    }
   ],
   "source": [
    "A=np.triu(np.arange(2,14).reshape(4,3),0)\n",
    "A"
   ]
  },
  {
   "cell_type": "markdown",
   "id": "a20a0afe",
   "metadata": {},
   "source": [
    "### свернуть трехмерный массив в один размерный массив."
   ]
  },
  {
   "cell_type": "code",
   "execution_count": 112,
   "id": "a489dfbe",
   "metadata": {},
   "outputs": [
    {
     "data": {
      "text/plain": [
       "array([[1, 0, 0],\n",
       "       [0, 1, 0],\n",
       "       [0, 0, 1]])"
      ]
     },
     "execution_count": 112,
     "metadata": {},
     "output_type": "execute_result"
    }
   ],
   "source": [
    "A=np.eye(3,3,dtype=np.int32)\n",
    "A"
   ]
  },
  {
   "cell_type": "code",
   "execution_count": 113,
   "id": "9a925cf4",
   "metadata": {},
   "outputs": [
    {
     "data": {
      "text/plain": [
       "array([1, 0, 0, 0, 1, 0, 0, 0, 1])"
      ]
     },
     "execution_count": 113,
     "metadata": {},
     "output_type": "execute_result"
    }
   ],
   "source": [
    "A.ravel()"
   ]
  },
  {
   "cell_type": "markdown",
   "id": "ae460e44",
   "metadata": {},
   "source": [
    "### найти 4-й элемент указанного массива."
   ]
  },
  {
   "cell_type": "code",
   "execution_count": 114,
   "id": "75995a3d",
   "metadata": {},
   "outputs": [
    {
     "data": {
      "text/plain": [
       "array([[1, 2, 3],\n",
       "       [4, 5, 6]])"
      ]
     },
     "execution_count": 114,
     "metadata": {},
     "output_type": "execute_result"
    }
   ],
   "source": [
    "A=np.arange(1,7).reshape(2,3)\n",
    "A"
   ]
  },
  {
   "cell_type": "code",
   "execution_count": 115,
   "id": "d14d33c5",
   "metadata": {},
   "outputs": [
    {
     "data": {
      "text/plain": [
       "4"
      ]
     },
     "execution_count": 115,
     "metadata": {},
     "output_type": "execute_result"
    }
   ],
   "source": [
    "A.ravel()[3]"
   ]
  },
  {
   "cell_type": "code",
   "execution_count": 116,
   "id": "a3627a2b",
   "metadata": {},
   "outputs": [
    {
     "data": {
      "text/plain": [
       "4"
      ]
     },
     "execution_count": 116,
     "metadata": {},
     "output_type": "execute_result"
    }
   ],
   "source": [
    "#или\n",
    "A.flat[3]"
   ]
  },
  {
   "cell_type": "markdown",
   "id": "14770901",
   "metadata": {},
   "source": [
    "###  обмена двумя осями массива"
   ]
  },
  {
   "cell_type": "code",
   "execution_count": 117,
   "id": "3757f76f",
   "metadata": {},
   "outputs": [
    {
     "data": {
      "text/plain": [
       "array([[1, 2, 3]])"
      ]
     },
     "execution_count": 117,
     "metadata": {},
     "output_type": "execute_result"
    }
   ],
   "source": [
    "A=np.array([[1,2,3]])\n",
    "A"
   ]
  },
  {
   "cell_type": "code",
   "execution_count": 118,
   "id": "6f72116f",
   "metadata": {},
   "outputs": [
    {
     "data": {
      "text/plain": [
       "array([[1],\n",
       "       [2],\n",
       "       [3]])"
      ]
     },
     "execution_count": 118,
     "metadata": {},
     "output_type": "execute_result"
    }
   ],
   "source": [
    "np.swapaxes(A,0,1)"
   ]
  },
  {
   "cell_type": "markdown",
   "id": "24b05332",
   "metadata": {},
   "source": [
    "### перемещения осей массива на новые позиции. Другие оси остаются в исходном порядке."
   ]
  },
  {
   "cell_type": "code",
   "execution_count": 119,
   "id": "e3dc6266",
   "metadata": {},
   "outputs": [
    {
     "data": {
      "text/plain": [
       "array([[[0., 0., 0., 0.],\n",
       "        [0., 0., 0., 0.],\n",
       "        [0., 0., 0., 0.]],\n",
       "\n",
       "       [[0., 0., 0., 0.],\n",
       "        [0., 0., 0., 0.],\n",
       "        [0., 0., 0., 0.]]])"
      ]
     },
     "execution_count": 119,
     "metadata": {},
     "output_type": "execute_result"
    }
   ],
   "source": [
    "A=np.zeros((2,3,4))\n",
    "A"
   ]
  },
  {
   "cell_type": "code",
   "execution_count": 120,
   "id": "69d4a781",
   "metadata": {},
   "outputs": [],
   "source": [
    "#np.moveaxis(x, 0, -1).shape"
   ]
  },
  {
   "cell_type": "markdown",
   "id": "0053b894",
   "metadata": {},
   "source": [
    "### ____перемещения осей массива на новые позиции."
   ]
  },
  {
   "cell_type": "markdown",
   "id": "be632913",
   "metadata": {},
   "source": [
    "### _______указанных входных данных в массивы хотя бы с одним измерением."
   ]
  },
  {
   "cell_type": "markdown",
   "id": "05e29d5c",
   "metadata": {},
   "source": [
    "###  _____просмотра входных данных в виде массивов как минимум с двумя измерениями, тремя измерениями."
   ]
  },
  {
   "cell_type": "markdown",
   "id": "091e0a62",
   "metadata": {},
   "source": [
    "### вставки новой оси в двумерный массив"
   ]
  },
  {
   "cell_type": "code",
   "execution_count": 121,
   "id": "d51639d0",
   "metadata": {},
   "outputs": [
    {
     "data": {
      "text/plain": [
       "array([[0, 1],\n",
       "       [2, 3],\n",
       "       [4, 5],\n",
       "       [6, 7]])"
      ]
     },
     "execution_count": 121,
     "metadata": {},
     "output_type": "execute_result"
    }
   ],
   "source": [
    "A=np.arange(8)\n",
    "A=A.reshape(4,2)\n",
    "A"
   ]
  },
  {
   "cell_type": "code",
   "execution_count": 122,
   "id": "04e4b804",
   "metadata": {},
   "outputs": [
    {
     "data": {
      "text/plain": [
       "array([[[0, 1]],\n",
       "\n",
       "       [[2, 3]],\n",
       "\n",
       "       [[4, 5]],\n",
       "\n",
       "       [[6, 7]]])"
      ]
     },
     "execution_count": 122,
     "metadata": {},
     "output_type": "execute_result"
    }
   ],
   "source": [
    "A=np.expand_dims(A, axis=1)\n",
    "A"
   ]
  },
  {
   "cell_type": "markdown",
   "id": "aff5a30a",
   "metadata": {},
   "source": [
    "### удаления одномерных записей из заданной фигуры"
   ]
  },
  {
   "cell_type": "code",
   "execution_count": 123,
   "id": "3afdd814",
   "metadata": {},
   "outputs": [
    {
     "data": {
      "text/plain": [
       "array([[[0., 0., 0., 0.]],\n",
       "\n",
       "       [[0., 0., 0., 0.]],\n",
       "\n",
       "       [[0., 0., 0., 0.]]])"
      ]
     },
     "execution_count": 123,
     "metadata": {},
     "output_type": "execute_result"
    }
   ],
   "source": [
    "A=np.zeros((3,1,4))\n",
    "A"
   ]
  },
  {
   "cell_type": "code",
   "execution_count": 124,
   "id": "8f7bd138",
   "metadata": {},
   "outputs": [],
   "source": [
    "A=np.squeeze(A)"
   ]
  },
  {
   "cell_type": "code",
   "execution_count": 125,
   "id": "cfbb01b7",
   "metadata": {},
   "outputs": [
    {
     "data": {
      "text/plain": [
       "array([[0., 0., 0., 0.],\n",
       "       [0., 0., 0., 0.],\n",
       "       [0., 0., 0., 0.]])"
      ]
     },
     "execution_count": 125,
     "metadata": {},
     "output_type": "execute_result"
    }
   ],
   "source": [
    "A"
   ]
  },
  {
   "cell_type": "markdown",
   "id": "6c834882",
   "metadata": {},
   "source": [
    "### объединения двух 2-мерных массивов"
   ]
  },
  {
   "cell_type": "code",
   "execution_count": 126,
   "id": "e42d4474",
   "metadata": {},
   "outputs": [
    {
     "data": {
      "text/plain": [
       "array([[0, 1, 3],\n",
       "       [5, 7, 9]])"
      ]
     },
     "execution_count": 126,
     "metadata": {},
     "output_type": "execute_result"
    }
   ],
   "source": [
    "A=np.array([[0, 1, 3], [5, 7, 9]])\n",
    "A"
   ]
  },
  {
   "cell_type": "code",
   "execution_count": 127,
   "id": "aa35c954",
   "metadata": {},
   "outputs": [],
   "source": [
    "B=np.array([[0, 2, 4], [6, 8, 10]])"
   ]
  },
  {
   "cell_type": "code",
   "execution_count": 128,
   "id": "02823598",
   "metadata": {},
   "outputs": [
    {
     "data": {
      "text/plain": [
       "array([[ 0,  2,  4],\n",
       "       [ 6,  8, 10]])"
      ]
     },
     "execution_count": 128,
     "metadata": {},
     "output_type": "execute_result"
    }
   ],
   "source": [
    "B"
   ]
  },
  {
   "cell_type": "code",
   "execution_count": 129,
   "id": "75113486",
   "metadata": {},
   "outputs": [
    {
     "data": {
      "text/plain": [
       "array([[ 0,  1,  3,  0,  2,  4],\n",
       "       [ 5,  7,  9,  6,  8, 10]])"
      ]
     },
     "execution_count": 129,
     "metadata": {},
     "output_type": "execute_result"
    }
   ],
   "source": [
    "np.concatenate((A,B),1)"
   ]
  },
  {
   "cell_type": "code",
   "execution_count": 130,
   "id": "fd70f3f4",
   "metadata": {},
   "outputs": [
    {
     "data": {
      "text/plain": [
       "array([[ 0,  1,  3],\n",
       "       [ 5,  7,  9],\n",
       "       [ 0,  2,  4],\n",
       "       [ 6,  8, 10]])"
      ]
     },
     "execution_count": 130,
     "metadata": {},
     "output_type": "execute_result"
    }
   ],
   "source": [
    "np.concatenate((A,B),0)"
   ]
  },
  {
   "cell_type": "markdown",
   "id": "3429fb45",
   "metadata": {},
   "source": [
    "### преобразования одномерных массивов в виде столбцов в двумерный массив"
   ]
  },
  {
   "cell_type": "code",
   "execution_count": 131,
   "id": "83c5a03d",
   "metadata": {},
   "outputs": [
    {
     "data": {
      "text/plain": [
       "(array([10, 20, 30]), array([40, 50, 60]))"
      ]
     },
     "execution_count": 131,
     "metadata": {},
     "output_type": "execute_result"
    }
   ],
   "source": [
    "A=np.array((10,20,30))\n",
    "B=np.array((40,50,60))\n",
    "A,B"
   ]
  },
  {
   "cell_type": "code",
   "execution_count": 132,
   "id": "ff317741",
   "metadata": {},
   "outputs": [
    {
     "data": {
      "text/plain": [
       "array([[10, 40],\n",
       "       [20, 50],\n",
       "       [30, 60]])"
      ]
     },
     "execution_count": 132,
     "metadata": {},
     "output_type": "execute_result"
    }
   ],
   "source": [
    "np.column_stack((A,B))"
   ]
  },
  {
   "cell_type": "markdown",
   "id": "2089ad93",
   "metadata": {},
   "source": [
    "### преобразования (по глубине последовательности (вдоль третьей оси)) двух одномерных массивов в двумерный массив."
   ]
  },
  {
   "cell_type": "code",
   "execution_count": 133,
   "id": "626d3862",
   "metadata": {},
   "outputs": [
    {
     "data": {
      "text/plain": [
       "(array([[10],\n",
       "        [20],\n",
       "        [30]]),\n",
       " array([[40],\n",
       "        [50],\n",
       "        [60]]))"
      ]
     },
     "execution_count": 133,
     "metadata": {},
     "output_type": "execute_result"
    }
   ],
   "source": [
    "a = np.array([[10],[20],[30]])\n",
    "b = np.array([[40],[50],[60]])\n",
    "a, b"
   ]
  },
  {
   "cell_type": "code",
   "execution_count": 134,
   "id": "70cdebd8",
   "metadata": {},
   "outputs": [
    {
     "data": {
      "text/plain": [
       "array([[[10, 40]],\n",
       "\n",
       "       [[20, 50]],\n",
       "\n",
       "       [[30, 60]]])"
      ]
     },
     "execution_count": 134,
     "metadata": {},
     "output_type": "execute_result"
    }
   ],
   "source": [
    "c = np.dstack((a, b))\n",
    "c"
   ]
  },
  {
   "cell_type": "markdown",
   "id": "b2164b45",
   "metadata": {},
   "source": [
    "### разбить массив из 14 элементов на 3 массива, каждый из которых имеет 2, 4 и 8 элементов в исходном порядке."
   ]
  },
  {
   "cell_type": "code",
   "execution_count": 135,
   "id": "b387ee17",
   "metadata": {},
   "outputs": [
    {
     "data": {
      "text/plain": [
       "array([ 1,  2,  3,  4,  5,  6,  7,  8,  9, 10, 11, 12, 13, 14])"
      ]
     },
     "execution_count": 135,
     "metadata": {},
     "output_type": "execute_result"
    }
   ],
   "source": [
    "C=np.arange(1,15)\n",
    "C"
   ]
  },
  {
   "cell_type": "code",
   "execution_count": 136,
   "id": "96d91458",
   "metadata": {},
   "outputs": [
    {
     "data": {
      "text/plain": [
       "[array([1, 2]),\n",
       " array([3, 4, 5, 6]),\n",
       " array([ 7,  8,  9, 10, 11, 12, 13, 14]),\n",
       " array([], dtype=int32)]"
      ]
     },
     "execution_count": 136,
     "metadata": {},
     "output_type": "execute_result"
    }
   ],
   "source": [
    "np.split(C,[2,6,14])"
   ]
  },
  {
   "cell_type": "markdown",
   "id": "34d85cd8",
   "metadata": {},
   "source": [
    "### разбить массив формы 4x4 на два массива вдоль второй оси"
   ]
  },
  {
   "cell_type": "code",
   "execution_count": null,
   "id": "659957d4",
   "metadata": {},
   "outputs": [],
   "source": []
  },
  {
   "cell_type": "markdown",
   "id": "7a15358e",
   "metadata": {},
   "source": [
    "###  получить количество ненулевых элементов в массиве"
   ]
  },
  {
   "cell_type": "code",
   "execution_count": 137,
   "id": "9bbc7bd2",
   "metadata": {},
   "outputs": [
    {
     "data": {
      "text/plain": [
       "array([[ 0, 20,  0],\n",
       "       [40, 50, 60]])"
      ]
     },
     "execution_count": 137,
     "metadata": {},
     "output_type": "execute_result"
    }
   ],
   "source": [
    "A=np.array([[0,20,0],[40,50,60]])\n",
    "A"
   ]
  },
  {
   "cell_type": "code",
   "execution_count": 138,
   "id": "bd329ff0",
   "metadata": {},
   "outputs": [
    {
     "data": {
      "text/plain": [
       "[0, 20, 0, 40, 50, 60]"
      ]
     },
     "execution_count": 138,
     "metadata": {},
     "output_type": "execute_result"
    }
   ],
   "source": [
    "B=[i for j in A for i in j ]\n",
    "B"
   ]
  },
  {
   "cell_type": "code",
   "execution_count": 139,
   "id": "de1f4e10",
   "metadata": {},
   "outputs": [
    {
     "data": {
      "text/plain": [
       "4"
      ]
     },
     "execution_count": 139,
     "metadata": {},
     "output_type": "execute_result"
    }
   ],
   "source": [
    "len([i for i in B if i*1 !=0])"
   ]
  },
  {
   "cell_type": "code",
   "execution_count": 140,
   "id": "a2bb2f1e",
   "metadata": {},
   "outputs": [
    {
     "data": {
      "text/plain": [
       "4"
      ]
     },
     "execution_count": 140,
     "metadata": {},
     "output_type": "execute_result"
    }
   ],
   "source": [
    "### или\n",
    "np.count_nonzero(A)"
   ]
  },
  {
   "cell_type": "markdown",
   "id": "f8e5ba45",
   "metadata": {},
   "source": [
    "### создания матрицы 5x5 со значениями строк в диапазоне от 0 до 4."
   ]
  },
  {
   "cell_type": "code",
   "execution_count": 141,
   "id": "cb2bbeeb",
   "metadata": {},
   "outputs": [
    {
     "data": {
      "text/plain": [
       "[array([0., 1., 2., 3., 4.]),\n",
       " array([0., 1., 2., 3., 4.]),\n",
       " array([0., 1., 2., 3., 4.]),\n",
       " array([0., 1., 2., 3., 4.]),\n",
       " array([0., 1., 2., 3., 4.])]"
      ]
     },
     "execution_count": 141,
     "metadata": {},
     "output_type": "execute_result"
    }
   ],
   "source": [
    "A=np.zeros((5,5))\n",
    "[i+range(5) for i in A]"
   ]
  },
  {
   "cell_type": "code",
   "execution_count": 142,
   "id": "9af68d4e",
   "metadata": {},
   "outputs": [
    {
     "data": {
      "text/plain": [
       "array([[0., 0., 0., 0., 0.],\n",
       "       [0., 0., 0., 0., 0.],\n",
       "       [0., 0., 0., 0., 0.],\n",
       "       [0., 0., 0., 0., 0.],\n",
       "       [0., 0., 0., 0., 0.]])"
      ]
     },
     "execution_count": 142,
     "metadata": {},
     "output_type": "execute_result"
    }
   ],
   "source": [
    "### ИЛИ\n",
    "B=np.zeros((5,5))\n",
    "B"
   ]
  },
  {
   "cell_type": "code",
   "execution_count": 143,
   "id": "9ebd5a58",
   "metadata": {},
   "outputs": [
    {
     "data": {
      "text/plain": [
       "array([[0., 1., 2., 3., 4.],\n",
       "       [0., 1., 2., 3., 4.],\n",
       "       [0., 1., 2., 3., 4.],\n",
       "       [0., 1., 2., 3., 4.],\n",
       "       [0., 1., 2., 3., 4.]])"
      ]
     },
     "execution_count": 143,
     "metadata": {},
     "output_type": "execute_result"
    }
   ],
   "source": [
    "B +=range(5)\n",
    "B"
   ]
  },
  {
   "cell_type": "markdown",
   "id": "c55f9f3c",
   "metadata": {},
   "source": [
    "### проверить, присутствуют ли указанные значения в массиве"
   ]
  },
  {
   "cell_type": "code",
   "execution_count": 144,
   "id": "392546e3",
   "metadata": {},
   "outputs": [
    {
     "data": {
      "text/plain": [
       "array([[0., 0., 0., 0., 0.],\n",
       "       [0., 0., 0., 0., 0.],\n",
       "       [0., 0., 0., 0., 0.],\n",
       "       [0., 0., 0., 0., 0.],\n",
       "       [0., 0., 0., 0., 0.]])"
      ]
     },
     "execution_count": 144,
     "metadata": {},
     "output_type": "execute_result"
    }
   ],
   "source": [
    "A"
   ]
  },
  {
   "cell_type": "code",
   "execution_count": 145,
   "id": "761d6518",
   "metadata": {},
   "outputs": [
    {
     "data": {
      "text/plain": [
       "True"
      ]
     },
     "execution_count": 145,
     "metadata": {},
     "output_type": "execute_result"
    }
   ],
   "source": [
    "0 in A"
   ]
  },
  {
   "cell_type": "markdown",
   "id": "f6201c4b",
   "metadata": {},
   "source": [
    "### _____создания вектора размером 10 со значениями от 0 до 1, оба исключены."
   ]
  },
  {
   "cell_type": "code",
   "execution_count": null,
   "id": "e19d2ec4",
   "metadata": {},
   "outputs": [],
   "source": []
  },
  {
   "cell_type": "markdown",
   "id": "9b585bed",
   "metadata": {},
   "source": [
    "### сделать массив неизменным (только для чтения)"
   ]
  },
  {
   "cell_type": "code",
   "execution_count": 146,
   "id": "b4ce0cb9",
   "metadata": {},
   "outputs": [],
   "source": [
    "A.flags.writeable=False"
   ]
  },
  {
   "cell_type": "code",
   "execution_count": 147,
   "id": "19b15f77",
   "metadata": {},
   "outputs": [],
   "source": [
    "#A[0]=1"
   ]
  },
  {
   "cell_type": "markdown",
   "id": "5118ab79",
   "metadata": {},
   "source": [
    "### суммирования всех кратных 3 или 5 ниже 100"
   ]
  },
  {
   "cell_type": "code",
   "execution_count": 148,
   "id": "9241ea1e",
   "metadata": {},
   "outputs": [
    {
     "data": {
      "text/plain": [
       "array([ 3,  5,  6,  9, 10, 12, 15, 18, 20, 21, 24, 25, 27, 30, 33, 35, 36,\n",
       "       39, 40, 42, 45, 48, 50, 51, 54, 55, 57, 60, 63, 65, 66, 69, 70, 72,\n",
       "       75, 78, 80, 81, 84, 85, 87, 90, 93, 95, 96, 99])"
      ]
     },
     "execution_count": 148,
     "metadata": {},
     "output_type": "execute_result"
    }
   ],
   "source": [
    "### проверка -здесь массив согласно условиям, все кратные 3 и 5, ниже 100\n",
    "A=np.array([3,5,6,9,10,12,15,18,20,21,24,25,27,30,33,35,36,39,40,42,45,48,\n",
    "            50,51,54,55,57,60,63,65,66,69,70,72,75,78,80,81,84,85,87,90,93,95,96,99])\n",
    "A"
   ]
  },
  {
   "cell_type": "code",
   "execution_count": 149,
   "id": "7d8d15bc",
   "metadata": {},
   "outputs": [
    {
     "data": {
      "text/plain": [
       "2318"
      ]
     },
     "execution_count": 149,
     "metadata": {},
     "output_type": "execute_result"
    }
   ],
   "source": [
    "A.sum()"
   ]
  },
  {
   "cell_type": "code",
   "execution_count": 150,
   "id": "99464c5a",
   "metadata": {},
   "outputs": [
    {
     "data": {
      "text/plain": [
       "array([ 1,  2,  3,  4,  5,  6,  7,  8,  9, 10, 11, 12, 13, 14, 15, 16, 17,\n",
       "       18, 19, 20, 21, 22, 23, 24, 25, 26, 27, 28, 29, 30, 31, 32, 33, 34,\n",
       "       35, 36, 37, 38, 39, 40, 41, 42, 43, 44, 45, 46, 47, 48, 49, 50, 51,\n",
       "       52, 53, 54, 55, 56, 57, 58, 59, 60, 61, 62, 63, 64, 65, 66, 67, 68,\n",
       "       69, 70, 71, 72, 73, 74, 75, 76, 77, 78, 79, 80, 81, 82, 83, 84, 85,\n",
       "       86, 87, 88, 89, 90, 91, 92, 93, 94, 95, 96, 97, 98, 99])"
      ]
     },
     "execution_count": 150,
     "metadata": {},
     "output_type": "execute_result"
    }
   ],
   "source": [
    "### сгенерируем массив последовательно от 1 до 100\n",
    "A=np.arange(1,100)\n",
    "A"
   ]
  },
  {
   "cell_type": "code",
   "execution_count": 151,
   "id": "42716198",
   "metadata": {},
   "outputs": [
    {
     "data": {
      "text/plain": [
       "2318"
      ]
     },
     "execution_count": 151,
     "metadata": {},
     "output_type": "execute_result"
    }
   ],
   "source": [
    "result=[i for i  in A if i%3==0 or i%5==0 ]\n",
    "np.array(result).sum()"
   ]
  },
  {
   "cell_type": "markdown",
   "id": "1792bfca",
   "metadata": {},
   "source": [
    "### создания массива из 10 ^ 3 элементов."
   ]
  },
  {
   "cell_type": "code",
   "execution_count": 152,
   "id": "c9d8a0f6",
   "metadata": {},
   "outputs": [],
   "source": [
    "A=np.arange(1e3)"
   ]
  },
  {
   "cell_type": "markdown",
   "id": "a76cc893",
   "metadata": {},
   "source": [
    "### отображения каждого элемента массива"
   ]
  },
  {
   "cell_type": "code",
   "execution_count": 153,
   "id": "5d4ed69e",
   "metadata": {},
   "outputs": [
    {
     "data": {
      "text/plain": [
       "range(0, 10)"
      ]
     },
     "execution_count": 153,
     "metadata": {},
     "output_type": "execute_result"
    }
   ],
   "source": [
    "A=range(10)\n",
    "A"
   ]
  },
  {
   "cell_type": "code",
   "execution_count": 154,
   "id": "c7366fba",
   "metadata": {},
   "outputs": [
    {
     "name": "stdout",
     "output_type": "stream",
     "text": [
      "0 1 2 3 4 5 6 7 8 9 "
     ]
    },
    {
     "data": {
      "text/plain": [
       "[None, None, None, None, None, None, None, None, None, None]"
      ]
     },
     "execution_count": 154,
     "metadata": {},
     "output_type": "execute_result"
    }
   ],
   "source": [
    "[print(str(i), end=' ') for i in A]"
   ]
  },
  {
   "cell_type": "markdown",
   "id": "1ecc2edf",
   "metadata": {},
   "source": [
    "### отображения каждого элемента массива numpy в порядке Фортрана"
   ]
  },
  {
   "cell_type": "code",
   "execution_count": 155,
   "id": "7037990d",
   "metadata": {},
   "outputs": [
    {
     "data": {
      "text/plain": [
       "array([[ 0,  1,  2,  3],\n",
       "       [ 4,  5,  6,  7],\n",
       "       [ 8,  9, 10, 11]])"
      ]
     },
     "execution_count": 155,
     "metadata": {},
     "output_type": "execute_result"
    }
   ],
   "source": [
    "A=np.arange(12).reshape(3,4)\n",
    "A"
   ]
  },
  {
   "cell_type": "code",
   "execution_count": 156,
   "id": "b8bbe83a",
   "metadata": {},
   "outputs": [
    {
     "name": "stdout",
     "output_type": "stream",
     "text": [
      "0 4 8 1 5 9 2 6 10 3 7 11 "
     ]
    }
   ],
   "source": [
    "for A in np.nditer(A, order=\"F\"):\n",
    "    print(A, end=' ')"
   ]
  },
  {
   "cell_type": "markdown",
   "id": "87eeb32a",
   "metadata": {},
   "source": [
    "### создания куба размером 5x5x5 из 1"
   ]
  },
  {
   "cell_type": "code",
   "execution_count": 157,
   "id": "a46fa735",
   "metadata": {},
   "outputs": [
    {
     "data": {
      "text/plain": [
       "array([[[1, 1, 1, 1, 1],\n",
       "        [1, 1, 1, 1, 1],\n",
       "        [1, 1, 1, 1, 1],\n",
       "        [1, 1, 1, 1, 1],\n",
       "        [1, 1, 1, 1, 1]],\n",
       "\n",
       "       [[1, 1, 1, 1, 1],\n",
       "        [1, 1, 1, 1, 1],\n",
       "        [1, 1, 1, 1, 1],\n",
       "        [1, 1, 1, 1, 1],\n",
       "        [1, 1, 1, 1, 1]],\n",
       "\n",
       "       [[1, 1, 1, 1, 1],\n",
       "        [1, 1, 1, 1, 1],\n",
       "        [1, 1, 1, 1, 1],\n",
       "        [1, 1, 1, 1, 1],\n",
       "        [1, 1, 1, 1, 1]],\n",
       "\n",
       "       [[1, 1, 1, 1, 1],\n",
       "        [1, 1, 1, 1, 1],\n",
       "        [1, 1, 1, 1, 1],\n",
       "        [1, 1, 1, 1, 1],\n",
       "        [1, 1, 1, 1, 1]],\n",
       "\n",
       "       [[1, 1, 1, 1, 1],\n",
       "        [1, 1, 1, 1, 1],\n",
       "        [1, 1, 1, 1, 1],\n",
       "        [1, 1, 1, 1, 1],\n",
       "        [1, 1, 1, 1, 1]]], dtype=int16)"
      ]
     },
     "execution_count": 157,
     "metadata": {},
     "output_type": "execute_result"
    }
   ],
   "source": [
    "CUB=np.ones((5,5,5), dtype=np.int16)\n",
    "CUB"
   ]
  },
  {
   "cell_type": "markdown",
   "id": "12e14245",
   "metadata": {},
   "source": [
    "### создания массива (3, 4) формы, умножьте значение каждого элемента на 3 и отобразите новый массив."
   ]
  },
  {
   "cell_type": "code",
   "execution_count": 158,
   "id": "ccb7b625",
   "metadata": {},
   "outputs": [
    {
     "data": {
      "text/plain": [
       "array([[ 0,  1,  2,  3],\n",
       "       [ 4,  5,  6,  7],\n",
       "       [ 8,  9, 10, 11]])"
      ]
     },
     "execution_count": 158,
     "metadata": {},
     "output_type": "execute_result"
    }
   ],
   "source": [
    "A=np.arange(12).reshape(3,4)\n",
    "A"
   ]
  },
  {
   "cell_type": "code",
   "execution_count": 159,
   "id": "f4922a5f",
   "metadata": {},
   "outputs": [
    {
     "data": {
      "text/plain": [
       "array([[ 0,  3,  6,  9],\n",
       "       [12, 15, 18, 21],\n",
       "       [24, 27, 30, 33]])"
      ]
     },
     "execution_count": 159,
     "metadata": {},
     "output_type": "execute_result"
    }
   ],
   "source": [
    "A=A*3\n",
    "A"
   ]
  },
  {
   "cell_type": "markdown",
   "id": "fd670f0c",
   "metadata": {},
   "source": [
    "### объединения одно- и двухмерного массива вместе и отображения их элементов. "
   ]
  },
  {
   "cell_type": "code",
   "execution_count": 160,
   "id": "5cd6baaf",
   "metadata": {},
   "outputs": [
    {
     "data": {
      "text/plain": [
       "array([0, 1, 2, 3])"
      ]
     },
     "execution_count": 160,
     "metadata": {},
     "output_type": "execute_result"
    }
   ],
   "source": [
    "A=np.arange(4)\n",
    "A"
   ]
  },
  {
   "cell_type": "code",
   "execution_count": 161,
   "id": "22a75c05",
   "metadata": {},
   "outputs": [
    {
     "data": {
      "text/plain": [
       "array([[0, 1, 2, 3],\n",
       "       [4, 5, 6, 7]])"
      ]
     },
     "execution_count": 161,
     "metadata": {},
     "output_type": "execute_result"
    }
   ],
   "source": [
    "B=np.arange(8).reshape(2,4)\n",
    "B"
   ]
  },
  {
   "cell_type": "code",
   "execution_count": 162,
   "id": "26fdda53",
   "metadata": {},
   "outputs": [
    {
     "name": "stdout",
     "output_type": "stream",
     "text": [
      "0 0\n",
      "1 1\n",
      "2 2\n",
      "3 3\n",
      "0 4\n",
      "1 5\n",
      "2 6\n",
      "3 7\n"
     ]
    }
   ],
   "source": [
    "[print(i,j) for i,j in np.nditer([A,B])];"
   ]
  },
  {
   "cell_type": "code",
   "execution_count": 163,
   "id": "09044de9",
   "metadata": {},
   "outputs": [
    {
     "data": {
      "text/plain": [
       "array([0, 1, 2, 3, 0, 1, 2, 3])"
      ]
     },
     "execution_count": 163,
     "metadata": {},
     "output_type": "execute_result"
    }
   ],
   "source": [
    "# или аналог\n",
    "C=np.concatenate((A,A), axis=0)\n",
    "C"
   ]
  },
  {
   "cell_type": "code",
   "execution_count": 164,
   "id": "6beba297",
   "metadata": {},
   "outputs": [
    {
     "name": "stdout",
     "output_type": "stream",
     "text": [
      "0 0\n",
      "1 1\n",
      "2 2\n",
      "3 3\n",
      "0 4\n",
      "1 5\n",
      "2 6\n",
      "3 7\n"
     ]
    },
    {
     "data": {
      "text/plain": [
       "[None, None, None, None, None, None, None, None]"
      ]
     },
     "execution_count": 164,
     "metadata": {},
     "output_type": "execute_result"
    }
   ],
   "source": [
    "[print(i,j) for i,j in zip(C,B.ravel())]"
   ]
  },
  {
   "cell_type": "markdown",
   "id": "063ae38f",
   "metadata": {},
   "source": [
    "###  создания массива нулей и трех типов столбцов (целое число, число с плавающей запятой, символ)\n",
    "[(1, 2., Б'Альберт Эйнштейн) (2, 2., Б'Эдмонд Хэлли ')\n",
    "(3, 3, b'Gertrude B. Elion ')]"
   ]
  },
  {
   "cell_type": "code",
   "execution_count": 165,
   "id": "8a94ecec",
   "metadata": {},
   "outputs": [
    {
     "data": {
      "text/plain": [
       "array([[(0, 0., b''), (0, 0., b''), (0, 0., b'')],\n",
       "       [(0, 0., b''), (0, 0., b''), (0, 0., b'')],\n",
       "       [(0, 0., b''), (0, 0., b''), (0, 0., b'')]],\n",
       "      dtype=[('f0', '<i4'), ('f1', '<f4'), ('f2', 'S40')])"
      ]
     },
     "execution_count": 165,
     "metadata": {},
     "output_type": "execute_result"
    }
   ],
   "source": [
    "R=np.zeros((3,3),dtype=('i,f4,a40'))\n",
    "R"
   ]
  },
  {
   "cell_type": "code",
   "execution_count": 166,
   "id": "5f932327",
   "metadata": {},
   "outputs": [
    {
     "data": {
      "text/plain": [
       "[(1, 2.0, 'Albert Einstein'),\n",
       " (2, 2.0, 'Edmond Halley'),\n",
       " (3, 3.0, 'Gertrude B. Elion')]"
      ]
     },
     "execution_count": 166,
     "metadata": {},
     "output_type": "execute_result"
    }
   ],
   "source": [
    "new_data = [(1, 2., \"Albert Einstein\"), (2, 2., \"Edmond Halley\"), (3, 3., \"Gertrude B. Elion\")]\n",
    "new_data"
   ]
  },
  {
   "cell_type": "code",
   "execution_count": 167,
   "id": "7427f53b",
   "metadata": {},
   "outputs": [
    {
     "data": {
      "text/plain": [
       "array([[(1, 2., b'Albert Einstein'), (2, 2., b'Edmond Halley'),\n",
       "        (3, 3., b'Gertrude B. Elion')],\n",
       "       [(1, 2., b'Albert Einstein'), (2, 2., b'Edmond Halley'),\n",
       "        (3, 3., b'Gertrude B. Elion')],\n",
       "       [(1, 2., b'Albert Einstein'), (2, 2., b'Edmond Halley'),\n",
       "        (3, 3., b'Gertrude B. Elion')]],\n",
       "      dtype=[('f0', '<i4'), ('f1', '<f4'), ('f2', 'S40')])"
      ]
     },
     "execution_count": 167,
     "metadata": {},
     "output_type": "execute_result"
    }
   ],
   "source": [
    "R[:]=new_data\n",
    "R"
   ]
  },
  {
   "cell_type": "markdown",
   "id": "0377845a",
   "metadata": {},
   "source": [
    "###  создания куба функции, который кубирует все элементы массива"
   ]
  },
  {
   "cell_type": "code",
   "execution_count": 168,
   "id": "129ca9ba",
   "metadata": {},
   "outputs": [
    {
     "data": {
      "text/plain": [
       "array([1, 2, 3])"
      ]
     },
     "execution_count": 168,
     "metadata": {},
     "output_type": "execute_result"
    }
   ],
   "source": [
    "A=np.arange(1,4)\n",
    "A"
   ]
  },
  {
   "cell_type": "code",
   "execution_count": 169,
   "id": "fb574058",
   "metadata": {},
   "outputs": [
    {
     "data": {
      "text/plain": [
       "array([ 1,  8, 27])"
      ]
     },
     "execution_count": 169,
     "metadata": {},
     "output_type": "execute_result"
    }
   ],
   "source": [
    "np.array([i**3 for i in A])"
   ]
  },
  {
   "cell_type": "markdown",
   "id": "07dd8080",
   "metadata": {},
   "source": [
    "### создания массива (3, 4) формы и преобразования элементов массива в меньшие куски"
   ]
  },
  {
   "cell_type": "code",
   "execution_count": 170,
   "id": "eb58db09",
   "metadata": {},
   "outputs": [
    {
     "data": {
      "text/plain": [
       "array([[ 0,  1,  2,  3],\n",
       "       [ 4,  5,  6,  7],\n",
       "       [ 8,  9, 10, 11]])"
      ]
     },
     "execution_count": 170,
     "metadata": {},
     "output_type": "execute_result"
    }
   ],
   "source": [
    "B=np.arange(12).reshape(3,4)\n",
    "B"
   ]
  },
  {
   "cell_type": "code",
   "execution_count": 171,
   "id": "3f103760",
   "metadata": {},
   "outputs": [
    {
     "data": {
      "text/plain": [
       "[array([0, 4, 8]), array([1, 5, 9]), array([ 2,  6, 10]), array([ 3,  7, 11])]"
      ]
     },
     "execution_count": 171,
     "metadata": {},
     "output_type": "execute_result"
    }
   ],
   "source": [
    "[i for i in np.nditer(B, flags=['external_loop'], order='F')]"
   ]
  },
  {
   "cell_type": "markdown",
   "id": "84e83de0",
   "metadata": {},
   "source": [
    "### создания массива записей из (плоского) списка массивов"
   ]
  },
  {
   "cell_type": "code",
   "execution_count": 172,
   "id": "577388c7",
   "metadata": {},
   "outputs": [
    {
     "data": {
      "text/plain": [
       "array(['green', 'mark', 'well', 'start'], dtype='<U5')"
      ]
     },
     "execution_count": 172,
     "metadata": {},
     "output_type": "execute_result"
    }
   ],
   "source": [
    "# исходные данные\n",
    "np.random.seed(17)\n",
    "A1=np.random.choice(10,4)\n",
    "A2=np.array(['green', 'mark', 'well', 'start'])\n",
    "A3=np.random.uniform(1,100, size=(1,4)).ravel()\n",
    "A2"
   ]
  },
  {
   "cell_type": "code",
   "execution_count": 173,
   "id": "abd731f5",
   "metadata": {},
   "outputs": [
    {
     "data": {
      "text/plain": [
       "array([['1', 'green', '7.722135460937845'],\n",
       "       ['6', 'mark', '78.91156053999141'],\n",
       "       ['6', 'well', '65.97701865580969'],\n",
       "       ['9', 'start', '64.11456870831995']], dtype='<U32')"
      ]
     },
     "execution_count": 173,
     "metadata": {},
     "output_type": "execute_result"
    }
   ],
   "source": [
    "np.array([list(i) for i in zip(A1,A2,A3)])"
   ]
  },
  {
   "cell_type": "markdown",
   "id": "76386564",
   "metadata": {},
   "source": [
    "### генерации универсального двумерного гауссовоподобного массива."
   ]
  },
  {
   "cell_type": "markdown",
   "id": "fa85bbbd",
   "metadata": {},
   "source": [
    "### преобразования массива NumPy в структуру списка Python"
   ]
  },
  {
   "cell_type": "code",
   "execution_count": 174,
   "id": "434d74a2",
   "metadata": {},
   "outputs": [
    {
     "data": {
      "text/plain": [
       "array([[ 7,  1],\n",
       "       [14, 17],\n",
       "       [ 9, 10]])"
      ]
     },
     "execution_count": 174,
     "metadata": {},
     "output_type": "execute_result"
    }
   ],
   "source": [
    "A=np.random.choice(20,6).reshape(3,2)\n",
    "A"
   ]
  },
  {
   "cell_type": "code",
   "execution_count": 175,
   "id": "26907687",
   "metadata": {},
   "outputs": [
    {
     "data": {
      "text/plain": [
       "[7, 1, 14, 17, 9, 10]"
      ]
     },
     "execution_count": 175,
     "metadata": {},
     "output_type": "execute_result"
    }
   ],
   "source": [
    "list(A.ravel())"
   ]
  },
  {
   "cell_type": "code",
   "execution_count": 176,
   "id": "903ff898",
   "metadata": {},
   "outputs": [
    {
     "data": {
      "text/plain": [
       "[[7, 1], [14, 17], [9, 10]]"
      ]
     },
     "execution_count": 176,
     "metadata": {},
     "output_type": "execute_result"
    }
   ],
   "source": [
    "# или \n",
    "A.tolist()"
   ]
  },
  {
   "cell_type": "markdown",
   "id": "232fad63",
   "metadata": {},
   "source": [
    "### доступа к массиву по столбцам"
   ]
  },
  {
   "cell_type": "code",
   "execution_count": 177,
   "id": "348fb4ae",
   "metadata": {},
   "outputs": [
    {
     "data": {
      "text/plain": [
       "array([[1, 6],\n",
       "       [6, 9],\n",
       "       [0, 6]])"
      ]
     },
     "execution_count": 177,
     "metadata": {},
     "output_type": "execute_result"
    }
   ],
   "source": [
    "# исходные данные\n",
    "np.random.seed(17)\n",
    "A=np.random.choice(10,6).reshape(3,2)\n",
    "A"
   ]
  },
  {
   "cell_type": "code",
   "execution_count": 178,
   "id": "0139bf14",
   "metadata": {},
   "outputs": [
    {
     "name": "stdout",
     "output_type": "stream",
     "text": [
      "столбец [1 6]\n",
      "столбец [6 9]\n",
      "столбец [0 6]\n"
     ]
    }
   ],
   "source": [
    "[print('столбец '+str(i)) for i in A];"
   ]
  },
  {
   "cell_type": "code",
   "execution_count": 179,
   "id": "46b3a69f",
   "metadata": {},
   "outputs": [
    {
     "data": {
      "text/plain": [
       "array([[1, 6, 0],\n",
       "       [6, 9, 6]])"
      ]
     },
     "execution_count": 179,
     "metadata": {},
     "output_type": "execute_result"
    }
   ],
   "source": [
    "A.T"
   ]
  },
  {
   "cell_type": "markdown",
   "id": "fbee05ca",
   "metadata": {},
   "source": [
    "### преобразования массива чисел с плавающей точкой в массив целых чисел."
   ]
  },
  {
   "cell_type": "code",
   "execution_count": 180,
   "id": "98b00236",
   "metadata": {},
   "outputs": [
    {
     "data": {
      "text/plain": [
       "array([[14.10223251, 11.02993858, 12.19501   ],\n",
       "       [16.29757613, 18.59924081, 10.41272565]])"
      ]
     },
     "execution_count": 180,
     "metadata": {},
     "output_type": "execute_result"
    }
   ],
   "source": [
    "A=np.random.uniform(10,20, size=(2,3))\n",
    "A"
   ]
  },
  {
   "cell_type": "code",
   "execution_count": 181,
   "id": "590b32ab",
   "metadata": {},
   "outputs": [
    {
     "data": {
      "text/plain": [
       "array([[0, 0, 0],\n",
       "       [0, 0, 0]])"
      ]
     },
     "execution_count": 181,
     "metadata": {},
     "output_type": "execute_result"
    }
   ],
   "source": [
    "B=np.zeros((2,3), dtype=np.int32)\n",
    "B"
   ]
  },
  {
   "cell_type": "code",
   "execution_count": 182,
   "id": "653c7d84",
   "metadata": {},
   "outputs": [],
   "source": [
    "B[:]=A[:]"
   ]
  },
  {
   "cell_type": "code",
   "execution_count": 183,
   "id": "ab6f8c1a",
   "metadata": {},
   "outputs": [
    {
     "data": {
      "text/plain": [
       "array([[14, 11, 12],\n",
       "       [16, 18, 10]])"
      ]
     },
     "execution_count": 183,
     "metadata": {},
     "output_type": "execute_result"
    }
   ],
   "source": [
    "B"
   ]
  },
  {
   "cell_type": "code",
   "execution_count": 184,
   "id": "2cb4190c",
   "metadata": {},
   "outputs": [
    {
     "data": {
      "text/plain": [
       "array([[14, 11, 12],\n",
       "       [16, 18, 10]])"
      ]
     },
     "execution_count": 184,
     "metadata": {},
     "output_type": "execute_result"
    }
   ],
   "source": [
    "# или \n",
    "A.astype(np.int32)"
   ]
  },
  {
   "cell_type": "code",
   "execution_count": 185,
   "id": "c7f87c03",
   "metadata": {},
   "outputs": [
    {
     "data": {
      "text/plain": [
       "array([[ True,  True,  True],\n",
       "       [ True,  True,  True]])"
      ]
     },
     "execution_count": 185,
     "metadata": {},
     "output_type": "execute_result"
    }
   ],
   "source": [
    "A.astype(np.int32)==B"
   ]
  },
  {
   "cell_type": "markdown",
   "id": "cb679248",
   "metadata": {},
   "source": [
    "### тображения элементов массива с плавающей точкой с заданной точностью ( 3 знака)"
   ]
  },
  {
   "cell_type": "code",
   "execution_count": 186,
   "id": "6135395b",
   "metadata": {},
   "outputs": [
    {
     "data": {
      "text/plain": [
       "array([ 0.46076672,  1.58720014, -1.77146628, -0.09688357, -0.3604094 ])"
      ]
     },
     "execution_count": 186,
     "metadata": {},
     "output_type": "execute_result"
    }
   ],
   "source": [
    "A=np.random.randn(5)\n",
    "A"
   ]
  },
  {
   "cell_type": "code",
   "execution_count": 187,
   "id": "ba83e860",
   "metadata": {},
   "outputs": [
    {
     "data": {
      "text/plain": [
       "array([ 0.461,  1.587, -1.771, -0.097, -0.36 ])"
      ]
     },
     "execution_count": 187,
     "metadata": {},
     "output_type": "execute_result"
    }
   ],
   "source": [
    "A.round(3)"
   ]
  },
  {
   "cell_type": "code",
   "execution_count": 188,
   "id": "87bcbd81",
   "metadata": {},
   "outputs": [
    {
     "data": {
      "text/plain": [
       "array([ 0.461,  1.587, -1.771, -0.097, -0.36 ])"
      ]
     },
     "execution_count": 188,
     "metadata": {},
     "output_type": "execute_result"
    }
   ],
   "source": [
    "#или\n",
    "np.set_printoptions(precision=3)\n",
    "A"
   ]
  },
  {
   "cell_type": "markdown",
   "id": "ba159095",
   "metadata": {},
   "source": [
    "### исключить использование научной нотации для небольших чисел в массиве numpy. "
   ]
  },
  {
   "cell_type": "code",
   "execution_count": 189,
   "id": "c2ede729",
   "metadata": {},
   "outputs": [],
   "source": [
    "x=np.array([1.6e-10, 1.6, 1200, .235])"
   ]
  },
  {
   "cell_type": "code",
   "execution_count": 190,
   "id": "fe6ba934",
   "metadata": {},
   "outputs": [
    {
     "data": {
      "text/plain": [
       "array([   0.   ,    1.6  , 1200.   ,    0.235])"
      ]
     },
     "execution_count": 190,
     "metadata": {},
     "output_type": "execute_result"
    }
   ],
   "source": [
    "np.set_printoptions(suppress=True)\n",
    "x"
   ]
  },
  {
   "cell_type": "markdown",
   "id": "44139b9a",
   "metadata": {},
   "source": [
    "### оздания массива из 10 целых чисел из генератора"
   ]
  },
  {
   "cell_type": "code",
   "execution_count": 191,
   "id": "bc7e6cda",
   "metadata": {},
   "outputs": [
    {
     "data": {
      "text/plain": [
       "array([ 1,  2,  3,  4,  5,  6,  7,  8,  9, 10])"
      ]
     },
     "execution_count": 191,
     "metadata": {},
     "output_type": "execute_result"
    }
   ],
   "source": [
    "A=np.array([i for i in range(1,11)])\n",
    "A"
   ]
  },
  {
   "cell_type": "markdown",
   "id": "7df60f27",
   "metadata": {},
   "source": [
    "### добавить дополнительный столбец в массив numpy"
   ]
  },
  {
   "cell_type": "code",
   "execution_count": 192,
   "id": "5532bcf1",
   "metadata": {},
   "outputs": [],
   "source": [
    "A=np.arange(9).reshape(3,3)\n",
    "C=list()"
   ]
  },
  {
   "cell_type": "code",
   "execution_count": 193,
   "id": "65971c2b",
   "metadata": {},
   "outputs": [
    {
     "data": {
      "text/plain": [
       "array([[100, 150, 200]])"
      ]
     },
     "execution_count": 193,
     "metadata": {},
     "output_type": "execute_result"
    }
   ],
   "source": [
    "B=np.arange(100,250,50).reshape(1,3)\n",
    "B"
   ]
  },
  {
   "cell_type": "code",
   "execution_count": 194,
   "id": "99ca6133",
   "metadata": {},
   "outputs": [
    {
     "data": {
      "text/plain": [
       "array([[  0,   1,   2, 100],\n",
       "       [  3,   4,   5, 150],\n",
       "       [  6,   7,   8, 200]])"
      ]
     },
     "execution_count": 194,
     "metadata": {},
     "output_type": "execute_result"
    }
   ],
   "source": [
    "np.append(A,B.T, axis=1)"
   ]
  },
  {
   "cell_type": "markdown",
   "id": "7cd87b85",
   "metadata": {},
   "source": [
    "### поиска уникальных строк в массиве numpy"
   ]
  },
  {
   "cell_type": "code",
   "execution_count": 195,
   "id": "bf5d7f73",
   "metadata": {},
   "outputs": [
    {
     "data": {
      "text/plain": [
       "array([[20, 20,  5,  5],\n",
       "       [ 5,  5,  5, 20],\n",
       "       [20,  5, 20,  5],\n",
       "       [20,  5, 20,  5],\n",
       "       [20,  5, 20, 20],\n",
       "       [ 5, 20, 20, 20],\n",
       "       [20,  5, 20,  5],\n",
       "       [20, 20,  5,  5],\n",
       "       [ 5, 20,  5, 20],\n",
       "       [ 5,  5,  5,  5]])"
      ]
     },
     "execution_count": 195,
     "metadata": {},
     "output_type": "execute_result"
    }
   ],
   "source": [
    "A=np.random.choice([5,20], size=(10,4))\n",
    "A"
   ]
  },
  {
   "cell_type": "code",
   "execution_count": 196,
   "id": "099ff5eb",
   "metadata": {},
   "outputs": [],
   "source": [
    "y = np.ascontiguousarray(A).view(np.dtype((np.void, A.dtype.itemsize * A.shape[1])))"
   ]
  },
  {
   "cell_type": "code",
   "execution_count": 197,
   "id": "82132f4c",
   "metadata": {},
   "outputs": [
    {
     "name": "stderr",
     "output_type": "stream",
     "text": [
      "<ipython-input-197-dd9153d9eb5a>:1: FutureWarning: arrays to stack must be passed as a \"sequence\" type such as list or tuple. Support for non-sequence iterables such as generators is deprecated as of NumPy 1.16 and will raise an error in the future.\n",
      "  np.vstack({tuple(row) for row in A})\n"
     ]
    },
    {
     "data": {
      "text/plain": [
       "array([[ 5, 20, 20, 20],\n",
       "       [ 5,  5,  5, 20],\n",
       "       [20, 20,  5,  5],\n",
       "       [20,  5, 20,  5],\n",
       "       [20,  5, 20, 20],\n",
       "       [ 5, 20,  5, 20],\n",
       "       [ 5,  5,  5,  5]])"
      ]
     },
     "execution_count": 197,
     "metadata": {},
     "output_type": "execute_result"
    }
   ],
   "source": [
    "np.vstack({tuple(row) for row in A})"
   ]
  },
  {
   "cell_type": "code",
   "execution_count": 198,
   "id": "02bc8cc0",
   "metadata": {},
   "outputs": [
    {
     "data": {
      "text/plain": [
       "array([[1, 1],\n",
       "       [2, 3]])"
      ]
     },
     "execution_count": 198,
     "metadata": {},
     "output_type": "execute_result"
    }
   ],
   "source": [
    "np.vstack([[1,1],[2,3]]) # пояснения в функции vstack"
   ]
  },
  {
   "cell_type": "markdown",
   "id": "78622383",
   "metadata": {},
   "source": [
    "### замены всех элементов массива numpy, которые больше указанного массива"
   ]
  },
  {
   "cell_type": "code",
   "execution_count": 199,
   "id": "4b8044c0",
   "metadata": {},
   "outputs": [
    {
     "data": {
      "text/plain": [
       "array([[3.891, 3.449, 1.983],\n",
       "       [2.38 , 3.29 , 1.15 ]])"
      ]
     },
     "execution_count": 199,
     "metadata": {},
     "output_type": "execute_result"
    }
   ],
   "source": [
    "B=np.random.uniform(1,4, size=(2,3))\n",
    "B"
   ]
  },
  {
   "cell_type": "code",
   "execution_count": 200,
   "id": "0edab1a5",
   "metadata": {},
   "outputs": [],
   "source": [
    "split_border= 2 # например указанное число"
   ]
  },
  {
   "cell_type": "code",
   "execution_count": 201,
   "id": "c3bc7927",
   "metadata": {},
   "outputs": [
    {
     "data": {
      "text/plain": [
       "array([[2.   , 2.   , 1.983],\n",
       "       [2.   , 2.   , 1.15 ]])"
      ]
     },
     "execution_count": 201,
     "metadata": {},
     "output_type": "execute_result"
    }
   ],
   "source": [
    "np.array([float(i) if i<split_border else split_border \n",
    "          for i in np.nditer(B) ]).reshape(2,3)"
   ]
  },
  {
   "cell_type": "code",
   "execution_count": 202,
   "id": "39e4a569",
   "metadata": {},
   "outputs": [
    {
     "data": {
      "text/plain": [
       "array([[2.   , 2.   , 1.983],\n",
       "       [2.   , 2.   , 1.15 ]])"
      ]
     },
     "execution_count": 202,
     "metadata": {},
     "output_type": "execute_result"
    }
   ],
   "source": [
    "#или ))))\n",
    "B[B>2]=2\n",
    "B"
   ]
  },
  {
   "cell_type": "markdown",
   "id": "47011ee9",
   "metadata": {},
   "source": [
    "### удаления определенных элементов в массиве numpy\n",
    "Удалить первый, четвертый и пятый элементы"
   ]
  },
  {
   "cell_type": "code",
   "execution_count": 203,
   "id": "bda007f6",
   "metadata": {},
   "outputs": [
    {
     "data": {
      "text/plain": [
       "array([8, 5, 1, 9, 4, 9, 7, 3])"
      ]
     },
     "execution_count": 203,
     "metadata": {},
     "output_type": "execute_result"
    }
   ],
   "source": [
    "A=np.random.choice(10,8)\n",
    "A"
   ]
  },
  {
   "cell_type": "code",
   "execution_count": 204,
   "id": "f10ef20f",
   "metadata": {},
   "outputs": [],
   "source": [
    "delete_index=[0,3,4]"
   ]
  },
  {
   "cell_type": "code",
   "execution_count": 205,
   "id": "af8a9d2b",
   "metadata": {},
   "outputs": [
    {
     "data": {
      "text/plain": [
       "array([5, 1, 9, 7, 3])"
      ]
     },
     "execution_count": 205,
     "metadata": {},
     "output_type": "execute_result"
    }
   ],
   "source": [
    "np.delete(A,delete_index)"
   ]
  },
  {
   "cell_type": "markdown",
   "id": "b360b1a7",
   "metadata": {},
   "source": [
    "### удаления отрицательных значений в массиве NumPy с 0"
   ]
  },
  {
   "cell_type": "code",
   "execution_count": 206,
   "id": "340b6f98",
   "metadata": {},
   "outputs": [
    {
     "data": {
      "text/plain": [
       "array([ 0, 19, -7, 17, -9,  5,  3, -4,  3, 19])"
      ]
     },
     "execution_count": 206,
     "metadata": {},
     "output_type": "execute_result"
    }
   ],
   "source": [
    "B=np.random.randint(-10,high=20,size=(10))\n",
    "B"
   ]
  },
  {
   "cell_type": "code",
   "execution_count": 207,
   "id": "afd691d5",
   "metadata": {},
   "outputs": [
    {
     "data": {
      "text/plain": [
       "array([19, 17,  5,  3,  3, 19])"
      ]
     },
     "execution_count": 207,
     "metadata": {},
     "output_type": "execute_result"
    }
   ],
   "source": [
    "np.array(\n",
    "    [i for i in B if i>0])"
   ]
  },
  {
   "cell_type": "code",
   "execution_count": 208,
   "id": "ffcef49d",
   "metadata": {},
   "outputs": [
    {
     "data": {
      "text/plain": [
       "array([ 0, 19,  0, 17,  0,  5,  3,  0,  3, 19])"
      ]
     },
     "execution_count": 208,
     "metadata": {},
     "output_type": "execute_result"
    }
   ],
   "source": [
    "# или\n",
    "B[B<0]=0\n",
    "B"
   ]
  },
  {
   "cell_type": "markdown",
   "id": "48dc6ed9",
   "metadata": {},
   "source": [
    "### удалить все строки в массиве numpy, которые содержат нечисловые значения."
   ]
  },
  {
   "cell_type": "markdown",
   "id": "a1ffbd2b",
   "metadata": {},
   "source": [
    "### выбора индексов, удовлетворяющих нескольким условиям в массиве numpy"
   ]
  },
  {
   "cell_type": "code",
   "execution_count": 209,
   "id": "c3f4674d",
   "metadata": {},
   "outputs": [],
   "source": [
    "a = np.array ([97, 101, 105, 111, 117])\n",
    "b = np.array (['a', 'e', 'i', 'o', 'u'])"
   ]
  },
  {
   "cell_type": "code",
   "execution_count": 210,
   "id": "88ab42fb",
   "metadata": {},
   "outputs": [],
   "source": [
    "# Примечание. Выберите элементы из второго массива, соответствующие элементам \n",
    "#в первом массиве, которые больше 100 и меньше 110"
   ]
  },
  {
   "cell_type": "code",
   "execution_count": 211,
   "id": "cc285eab",
   "metadata": {},
   "outputs": [
    {
     "data": {
      "text/plain": [
       "['e', 'i']"
      ]
     },
     "execution_count": 211,
     "metadata": {},
     "output_type": "execute_result"
    }
   ],
   "source": [
    "[j for i, j in zip(a,b) if (i>100 and i<110)]"
   ]
  },
  {
   "cell_type": "code",
   "execution_count": 212,
   "id": "21301969",
   "metadata": {},
   "outputs": [
    {
     "data": {
      "text/plain": [
       "array(['e', 'i'], dtype='<U1')"
      ]
     },
     "execution_count": 212,
     "metadata": {},
     "output_type": "execute_result"
    }
   ],
   "source": [
    "# или\n",
    "b[(a>100)&(a<110)]"
   ]
  },
  {
   "cell_type": "code",
   "execution_count": 213,
   "id": "92c47bdc",
   "metadata": {},
   "outputs": [
    {
     "data": {
      "text/plain": [
       "array(['a'], dtype='<U1')"
      ]
     },
     "execution_count": 213,
     "metadata": {},
     "output_type": "execute_result"
    }
   ],
   "source": [
    "b[a==97]"
   ]
  },
  {
   "cell_type": "markdown",
   "id": "cccffa6e",
   "metadata": {},
   "source": [
    "###  получить величину вектора в numpy."
   ]
  },
  {
   "cell_type": "code",
   "execution_count": 214,
   "id": "a8abfb26",
   "metadata": {},
   "outputs": [
    {
     "data": {
      "text/plain": [
       "array([0, 1, 2, 3, 4])"
      ]
     },
     "execution_count": 214,
     "metadata": {},
     "output_type": "execute_result"
    }
   ],
   "source": [
    "A=np.arange(5)\n",
    "A"
   ]
  },
  {
   "cell_type": "code",
   "execution_count": 215,
   "id": "28533dfc",
   "metadata": {},
   "outputs": [
    {
     "data": {
      "text/plain": [
       "5.477225575051661"
      ]
     },
     "execution_count": 215,
     "metadata": {},
     "output_type": "execute_result"
    }
   ],
   "source": [
    "# Функция linalg.norm() вычисляет норму матрицы\n",
    "np.linalg.norm(A)"
   ]
  },
  {
   "cell_type": "markdown",
   "id": "268bad19",
   "metadata": {},
   "source": [
    "### подсчета частоты уникальных значений в массиве numpy."
   ]
  },
  {
   "cell_type": "code",
   "execution_count": 216,
   "id": "4ce4b535",
   "metadata": {},
   "outputs": [
    {
     "data": {
      "text/plain": [
       "array([30, 20, 30, 30, 30, 10, 30, 30, 10, 30])"
      ]
     },
     "execution_count": 216,
     "metadata": {},
     "output_type": "execute_result"
    }
   ],
   "source": [
    "A=np.random.choice([10,20,30],10)\n",
    "A"
   ]
  },
  {
   "cell_type": "code",
   "execution_count": 217,
   "id": "307e8da4",
   "metadata": {},
   "outputs": [
    {
     "data": {
      "text/plain": [
       "array([10, 20, 30])"
      ]
     },
     "execution_count": 217,
     "metadata": {},
     "output_type": "execute_result"
    }
   ],
   "source": [
    "np.unique(A)"
   ]
  },
  {
   "cell_type": "code",
   "execution_count": 218,
   "id": "4bb56c79",
   "metadata": {},
   "outputs": [],
   "source": [
    "unique_el, counts_el=np.unique(A, return_counts=True)"
   ]
  },
  {
   "cell_type": "code",
   "execution_count": 219,
   "id": "9470902f",
   "metadata": {},
   "outputs": [
    {
     "data": {
      "text/plain": [
       "array([2, 1, 7], dtype=int64)"
      ]
     },
     "execution_count": 219,
     "metadata": {},
     "output_type": "execute_result"
    }
   ],
   "source": [
    "counts_el"
   ]
  },
  {
   "cell_type": "code",
   "execution_count": 220,
   "id": "496d7e4b",
   "metadata": {},
   "outputs": [
    {
     "data": {
      "text/plain": [
       "array([[10, 20, 30],\n",
       "       [ 2,  1,  7]], dtype=int64)"
      ]
     },
     "execution_count": 220,
     "metadata": {},
     "output_type": "execute_result"
    }
   ],
   "source": [
    "np.asarray((unique_el, counts_el))"
   ]
  },
  {
   "cell_type": "markdown",
   "id": "711aad61",
   "metadata": {},
   "source": [
    "### проверить, пуст ли массив NumPy или нет."
   ]
  },
  {
   "cell_type": "code",
   "execution_count": 221,
   "id": "a838d125",
   "metadata": {},
   "outputs": [
    {
     "data": {
      "text/plain": [
       "array([], dtype=float64)"
      ]
     },
     "execution_count": 221,
     "metadata": {},
     "output_type": "execute_result"
    }
   ],
   "source": [
    "empty_array=np.array([])\n",
    "empty_array"
   ]
  },
  {
   "cell_type": "code",
   "execution_count": 222,
   "id": "c3feb840",
   "metadata": {},
   "outputs": [
    {
     "data": {
      "text/plain": [
       "0"
      ]
     },
     "execution_count": 222,
     "metadata": {},
     "output_type": "execute_result"
    }
   ],
   "source": [
    "len(empty_array)"
   ]
  },
  {
   "cell_type": "markdown",
   "id": "7fd96939",
   "metadata": {},
   "source": [
    "### разделить каждую строку на элемент вектора"
   ]
  },
  {
   "cell_type": "code",
   "execution_count": 223,
   "id": "2865559d",
   "metadata": {},
   "outputs": [
    {
     "data": {
      "text/plain": [
       "array([[30, 30, 30],\n",
       "       [40, 40, 40],\n",
       "       [50, 50, 50]])"
      ]
     },
     "execution_count": 223,
     "metadata": {},
     "output_type": "execute_result"
    }
   ],
   "source": [
    "# исходная матрица\n",
    "A=np.full(fill_value=(30,40,50), shape=(3,3)).T\n",
    "A"
   ]
  },
  {
   "cell_type": "code",
   "execution_count": 224,
   "id": "cc595052",
   "metadata": {},
   "outputs": [
    {
     "data": {
      "text/plain": [
       "array([20, 30, 40])"
      ]
     },
     "execution_count": 224,
     "metadata": {},
     "output_type": "execute_result"
    }
   ],
   "source": [
    "# вектор на который необходимо делить\n",
    "B=np.arange(20,50,10)\n",
    "B"
   ]
  },
  {
   "cell_type": "code",
   "execution_count": 225,
   "id": "a1bf7991",
   "metadata": {},
   "outputs": [
    {
     "data": {
      "text/plain": [
       "array([[1.5  , 1.   , 0.75 ],\n",
       "       [2.   , 1.333, 1.   ],\n",
       "       [2.5  , 1.667, 1.25 ]])"
      ]
     },
     "execution_count": 225,
     "metadata": {},
     "output_type": "execute_result"
    }
   ],
   "source": [
    "A/B"
   ]
  },
  {
   "cell_type": "code",
   "execution_count": 226,
   "id": "afce8f28",
   "metadata": {},
   "outputs": [
    {
     "data": {
      "text/plain": [
       "array([[1.5  , 1.5  , 1.5  ],\n",
       "       [1.333, 1.333, 1.333],\n",
       "       [1.25 , 1.25 , 1.25 ]])"
      ]
     },
     "execution_count": 226,
     "metadata": {},
     "output_type": "execute_result"
    }
   ],
   "source": [
    "# то есть 1-й ряд делим на первый элемент, второй ряд на второедй элемент итд\n",
    "A/B[:, None]"
   ]
  },
  {
   "cell_type": "markdown",
   "id": "04838c51",
   "metadata": {},
   "source": [
    "то есть , здесь None, аналогично np.newaxis - мы массиву добавляем измерение\n",
    "это будут аналогично коду ниже"
   ]
  },
  {
   "cell_type": "code",
   "execution_count": 227,
   "id": "ad3867ec",
   "metadata": {},
   "outputs": [
    {
     "data": {
      "text/plain": [
       "array([[20, 20, 20],\n",
       "       [30, 30, 30],\n",
       "       [40, 40, 40]])"
      ]
     },
     "execution_count": 227,
     "metadata": {},
     "output_type": "execute_result"
    }
   ],
   "source": [
    "C=np.full(fill_value=(20,30,40), shape=(3,3)).T\n",
    "C"
   ]
  },
  {
   "cell_type": "code",
   "execution_count": 228,
   "id": "b3745548",
   "metadata": {},
   "outputs": [
    {
     "data": {
      "text/plain": [
       "array([[1.5  , 1.5  , 1.5  ],\n",
       "       [1.333, 1.333, 1.333],\n",
       "       [1.25 , 1.25 , 1.25 ]])"
      ]
     },
     "execution_count": 228,
     "metadata": {},
     "output_type": "execute_result"
    }
   ],
   "source": [
    "A/C"
   ]
  },
  {
   "cell_type": "markdown",
   "id": "0c0974d1",
   "metadata": {},
   "source": [
    "### для печати всех значений массива"
   ]
  },
  {
   "cell_type": "code",
   "execution_count": 229,
   "id": "80452cc4",
   "metadata": {},
   "outputs": [
    {
     "name": "stdout",
     "output_type": "stream",
     "text": [
      "[[0. 0. 0.]\n",
      " [0. 0. 0.]\n",
      " [0. 0. 0.]]\n"
     ]
    }
   ],
   "source": [
    "A=np.zeros((3,3))\n",
    "print(A)"
   ]
  },
  {
   "cell_type": "markdown",
   "id": "ae5b409a",
   "metadata": {},
   "source": [
    "### преобразования необработанных данных в массиве в двоичную строку, а затем создайте массив"
   ]
  },
  {
   "cell_type": "code",
   "execution_count": 230,
   "id": "ab4a86da",
   "metadata": {},
   "outputs": [
    {
     "name": "stderr",
     "output_type": "stream",
     "text": [
      "<ipython-input-230-87e2aae00273>:2: DeprecationWarning: tostring() is deprecated. Use tobytes() instead.\n",
      "  s=A.tostring();\n"
     ]
    }
   ],
   "source": [
    "A=np.arange(10,40,10)\n",
    "s=A.tostring();"
   ]
  },
  {
   "cell_type": "code",
   "execution_count": 231,
   "id": "00599d82",
   "metadata": {},
   "outputs": [
    {
     "name": "stdout",
     "output_type": "stream",
     "text": [
      "b'\\n\\x00\\x00\\x00\\x14\\x00\\x00\\x00\\x1e\\x00\\x00\\x00'\n"
     ]
    }
   ],
   "source": [
    "print(s)"
   ]
  },
  {
   "cell_type": "code",
   "execution_count": 232,
   "id": "35e5d87a",
   "metadata": {},
   "outputs": [],
   "source": [
    "#np.fromstring(s)"
   ]
  },
  {
   "cell_type": "code",
   "execution_count": null,
   "id": "90c1aec7",
   "metadata": {},
   "outputs": [],
   "source": []
  },
  {
   "cell_type": "markdown",
   "id": "72a68ab9",
   "metadata": {},
   "source": [
    "### суммирования и вычисления произведения элементов массива."
   ]
  },
  {
   "cell_type": "code",
   "execution_count": 233,
   "id": "48c36a39",
   "metadata": {},
   "outputs": [
    {
     "data": {
      "text/plain": [
       "array([10, 20, 30])"
      ]
     },
     "execution_count": 233,
     "metadata": {},
     "output_type": "execute_result"
    }
   ],
   "source": [
    "#  исходный массив\n",
    "A=np.arange(10,40,10)\n",
    "A"
   ]
  },
  {
   "cell_type": "code",
   "execution_count": 234,
   "id": "4f07eed4",
   "metadata": {},
   "outputs": [
    {
     "data": {
      "text/plain": [
       "60"
      ]
     },
     "execution_count": 234,
     "metadata": {},
     "output_type": "execute_result"
    }
   ],
   "source": [
    "np.cumsum(A)[-1]"
   ]
  },
  {
   "cell_type": "code",
   "execution_count": 235,
   "id": "c8f63f5b",
   "metadata": {},
   "outputs": [
    {
     "data": {
      "text/plain": [
       "60"
      ]
     },
     "execution_count": 235,
     "metadata": {},
     "output_type": "execute_result"
    }
   ],
   "source": [
    "# или\n",
    "A.sum()"
   ]
  },
  {
   "cell_type": "code",
   "execution_count": 236,
   "id": "12b20cf6",
   "metadata": {},
   "outputs": [
    {
     "data": {
      "text/plain": [
       "6000"
      ]
     },
     "execution_count": 236,
     "metadata": {},
     "output_type": "execute_result"
    }
   ],
   "source": [
    "A.prod()"
   ]
  },
  {
   "cell_type": "markdown",
   "id": "59f4b7f6",
   "metadata": {},
   "source": [
    "### принимать значения из исходного массива и помещать их в указанные индексы другого массива."
   ]
  },
  {
   "cell_type": "code",
   "execution_count": 237,
   "id": "2bb985ff",
   "metadata": {},
   "outputs": [
    {
     "data": {
      "text/plain": [
       "array([1, 0, 4, 8, 2, 1, 4])"
      ]
     },
     "execution_count": 237,
     "metadata": {},
     "output_type": "execute_result"
    }
   ],
   "source": [
    "A=np.random.choice(range(10), 7)\n",
    "A"
   ]
  },
  {
   "cell_type": "code",
   "execution_count": 238,
   "id": "675cef18",
   "metadata": {},
   "outputs": [
    {
     "data": {
      "text/plain": [
       "array([500, 400, 700])"
      ]
     },
     "execution_count": 238,
     "metadata": {},
     "output_type": "execute_result"
    }
   ],
   "source": [
    "B=np.random.choice(range(100,1000,100),3)\n",
    "B"
   ]
  },
  {
   "cell_type": "code",
   "execution_count": 239,
   "id": "56aab045",
   "metadata": {},
   "outputs": [
    {
     "name": "stdout",
     "output_type": "stream",
     "text": [
      "None\n"
     ]
    }
   ],
   "source": [
    "C=A.put([1,2],B)\n",
    "print(C)"
   ]
  },
  {
   "cell_type": "code",
   "execution_count": 240,
   "id": "128c7707",
   "metadata": {},
   "outputs": [
    {
     "data": {
      "text/plain": [
       "array([10., 10., 20., 30., 30.])"
      ]
     },
     "execution_count": 240,
     "metadata": {},
     "output_type": "execute_result"
    }
   ],
   "source": [
    "x = np.array([10, 10, 20, 30, 30], float)\n",
    "x"
   ]
  },
  {
   "cell_type": "code",
   "execution_count": 241,
   "id": "66ab2ad4",
   "metadata": {},
   "outputs": [
    {
     "data": {
      "text/plain": [
       "array([ 0., 40., 60.])"
      ]
     },
     "execution_count": 241,
     "metadata": {},
     "output_type": "execute_result"
    }
   ],
   "source": [
    "y = np.array([0, 40, 60], float)\n",
    "y"
   ]
  },
  {
   "cell_type": "code",
   "execution_count": 242,
   "id": "6e2f4be3",
   "metadata": {},
   "outputs": [
    {
     "name": "stdout",
     "output_type": "stream",
     "text": [
      "None\n"
     ]
    }
   ],
   "source": [
    "c=x.put([0,4],y)\n",
    "print(c)"
   ]
  },
  {
   "cell_type": "markdown",
   "id": "b737cf41",
   "metadata": {},
   "source": [
    "???? конструкция не работает возможно из-за версии numpy??????????????"
   ]
  },
  {
   "cell_type": "markdown",
   "id": "46e36c5f",
   "metadata": {},
   "source": [
    "### вывести полный массив NumPy без усечения"
   ]
  },
  {
   "cell_type": "code",
   "execution_count": 243,
   "id": "495f8093",
   "metadata": {},
   "outputs": [
    {
     "data": {
      "text/plain": [
       "array([66, 58, 78, ..., 42, 69,  4])"
      ]
     },
     "execution_count": 243,
     "metadata": {},
     "output_type": "execute_result"
    }
   ],
   "source": [
    "A=np.random.choice(range(100),2000)\n",
    "A"
   ]
  },
  {
   "cell_type": "code",
   "execution_count": 244,
   "id": "8bb23788",
   "metadata": {},
   "outputs": [
    {
     "name": "stdout",
     "output_type": "stream",
     "text": [
      "[66 58 78 23 21 39 61 35 89 14 24 55 21 56 70 58 66 34 88 66 79 20 25  5\n",
      " 66 29 32 82 76 10 92 65  1 96 21 53 70 22 85 55 59 90 18  6 72 42 43 96\n",
      " 47 15 18 92  7 26 32 58 39 65 88  1 59 14 67 57 83 73 66 90 46 21  2 87\n",
      " 85 18 56  8 50 25 93 22 77  3 76 75 76 24 79 47 16 60 52 89  4 47 34 87\n",
      " 56 24 51 74 77 31 26 98 50 19 97 63 36 97 68 93 96 46 40 69 27 70  9 55\n",
      " 26 15 35 34 40 12 77 51 50 21 31  8 43 20 10 26 38 91 99 81  0  0 29 19\n",
      " 68  0 80 88  3 49 48 45 47 70 23  1 54 47 42 46  9 74 30 27 78 39 84 96\n",
      " 37 71 38 93 69 27 72 34 28 25 33 73 15 90 92 21 69 37 71 69 73 72 65 89\n",
      " 44  0  9 58 90  6 82 43  6 99 84 22 46 84 10 31 92 42 67  7 61 12 65 10\n",
      " 84  1 98 29 78 24  7 85 57 90  2 11 50 19 93 33 37 54 32 34 56 17 11 79\n",
      " 65 57 22 53 92 34 48 45 28 54 62 87 85 27 60  4 22 76 94 13 86  0  3  4\n",
      " 72 69 94  3 24  5 18 64 59 11 79 93 14 31 49 89 71 28 55 39 28 66 75 24\n",
      " 79 48 65 65 41 69 91  7 72 64 61 85 10 34 73 16  8  0 43 78 16 80 25 31\n",
      " 87 82  5  5 16 30 73 84 80  0 68 51 20  9 47 36 46 47 38 63 34 16 57 16\n",
      " 91 13 16 95 52 52 50 86  2 92 31 66 31 69 95 42 38 31  1 59 13 20 46 97\n",
      " 15 24 67  4 20 20 99 33 42  2 57 70 30 10 43 27  3 93 60 32 91 48 16  2\n",
      " 67 11 94 91 73 15 22 23 29 49 41 21 77 97 98 89 26 19 50 39 57 23 13 91\n",
      " 50 15 53 14 55 20 10 91 39 49 35 49 83 59 30 73 16 75 21 24 62  2 39 87\n",
      " 49 45 36 43 45 10 96 78 64 41 78 49 21 31 34 49 65 92 38 19 50 91 62 25\n",
      " 36 25 99 45 23 25  8 52 61 66 46 57 18 16 34 59 15 49  5 65 67 83  4 19\n",
      " 31 99 17 35 55 12 22 51  6 74 34 38 32 72 60  5 36 31 76 72 10  0 88  6\n",
      " 86  3 82 63 97  0 29 83 86 15 83 17 60 79 27 36 94 84 65  3  0 75 87 74\n",
      " 14 39 93 36 77 43 32 74 42 80 59 52 64 38 83 18 53 55  9 16 32 26 21 26\n",
      " 69 18 36 56 35 13 93 52 37 85 65 85 34 29 84 66  3 70  3 49 50  6 92 18\n",
      " 64 86  4 28 98 39 80 48 93 13 51 29 63 20  0 33 78 34 85 89 95  5 63 79\n",
      "  6 40 66 34  7  9 22 35 16  9 68 81 68 29 61  7 81 13 56 39 77 75 46 20\n",
      "  7 38 27 10 56 72 68 36  8 32  8 23  7  1 48 24 19 45 67 84 70 77 61  2\n",
      " 11 61 30 68 66 49 35 64 22 27 73 43 57 92 51 66 15 45 97 38 21 94 75 52\n",
      " 19 51 84 79 34 21 43 51 53 28  9  4 82 99 91 55 50 78 88 53 49 97 72 30\n",
      " 84 39 55 73  6 19 88 76 28 88 31 68 62 78 27 54 96  1 72 57 93 12 89 17\n",
      " 16  8 73 32 30 98 37 55 59 27  2  3  4 93 29 12  8 72 32 58 53 18 82  6\n",
      " 92 39  6 99  4 80 14 76 34 38 93 61 28 99 80 74  1 75  7  2 98 26 38 33\n",
      " 74 42 14 37 36 63 13 65 49 93 97 62 23 77  8 56 37 71 28 64 55 10 35 53\n",
      " 87 24 36 65 37 95 16  1 60 12 17 84 77 91 29 98 19 81 65 33 90 29 57 96\n",
      " 11 60 90 92 46 53 15 53 30 92 22 19 87 31 87 49 80 18 72 82 25 75 68 33\n",
      " 92 36 42 16 89 51 26 83 39 90 12 35  8 30 95 80 21 77  5 28 58 34 27 66\n",
      "  2 44  8 83 72  4 16 95 54 26  7 34 85 89 80 57  6 89 12 12 20 44 46 66\n",
      " 49 51 94 40 39  5 59 60 57 50 48 21 71 55 12 88  3 54 24 79 13 71 41 16\n",
      " 70  3 90 91 19 85 13 41  8 52 57 37 85 21 82 24 23 98 12 50 78 15 24 84\n",
      " 78 26 74 61 81  7 98 57 93 81 88 81  7 62 68 31 53 89 34 26 24 62 42 60\n",
      " 63 56 65 23 85 93 19 34 71 36 16 84 53 33 59 89 48 89 94 49 51 36 10 57\n",
      " 19 93 73 32 69  6 49 36 12 99 74 63 83 33 26 53  1 98 62 59  7 12 91 34\n",
      " 19 44 70 68 16 80 10 36 77 46 92 74  6 62 47 69 53 16 62 75 88 19 14 68\n",
      " 84 83 20 65 24 42 16 85 47 39 69 37 33  3 17 51 72 53 82 61 82 56 22 15\n",
      " 25 92 85 15 88 89 36  4 91 14  6 14 52 70 68 63 28 35 76 68 88 80 15 74\n",
      "  2  1 80 23 26 46 95  4 28 71 40 39 28 99 89 87 20 38 55 16 25 67 62 58\n",
      " 56  9 47 54 83 18 56 18 19 87 54 81 63 96 71 84 19 59 31 90 27 84 67 79\n",
      " 54 98 71 89 68 27 32 34 65 30 46 67  7 46 69 21 62  9 92 17 23 94 98  1\n",
      " 84 95 67 92 45 26 76 53 49 26 43 85  3 84 93 90 94 85  1 46 41 82 91 60\n",
      " 39 18 20 79 20 63 50 73 73 69 12 56 72 69 95 98 76 42 66 63  2 97 16 25\n",
      "  2 16 29 53 50  8  4 97 66 33 96 94 17 60 41 29 73 63 44 36 71  9 45 24\n",
      "  9 23 26 90 77 13  9 20  3 10 15 81 10 77 49 76  3 44 36 49 42 56 85  2\n",
      " 79 81 87 59 64 33  4 78 39 89 14 94 48 90 28 37 72 32 64 55 87  5 46 57\n",
      " 34 40 50 64 54 22 11 64  7 29 33 15 80 14 61 67 38 42  5 81 25 88 41 71\n",
      " 21 77 67 62 26 14 20 82 72 45 48  1 93 87 23 19 56 16 53 12 32 53 73 90\n",
      "  9 69 62 56 19  4 91 82 26 10 76 78 94 31 78 99 49  2  5 62 15 39 96 81\n",
      "  2 40  8 84 47 49 60 80 37 81 30 59  7 94  6 65 93 46 88  8 90 14 95 94\n",
      " 67 64 87  1 13 60 17 95 77 86 91 61 11 21  0 61 35 43 69 83 38 42 63 98\n",
      " 56  8 76 85 23 93 46 17 71  5 80 52 19 78 46 14 50 44 55 38 46 66 14 30\n",
      " 45 52 14 96 44 58 96 94 12 51 19 83 86 61 84 28 65 11 11 99 97 48 23 26\n",
      " 99 97 25 88 35 44  8 80 50 19  9 82 53 62 57 22 58 41 26 67 31 43 94 73\n",
      "  5 86 45 78 59 29 84 92 14 89 45 79 55 54 95 18 45 52 79 33  1 12 29  0\n",
      "  6 75 39 61 14 60 66  1 69  2 91 31 93 81 70 20 19 17 40 40 24 29 69 88\n",
      " 54 50 60  2 85 66 39 26 30 57 76 49 10  9 55  7 77 26 16 20 31 11 96 40\n",
      " 82 88 83 35  5 93 42 44 88 83 78 72 95 66 70 65 69 40 64 78 24 49 14 97\n",
      " 21 48 61  2 62 30 16 28 60 75  5 32 22 11 76 66 69 96 52 10 42 82 52 28\n",
      " 50 80 74 85  4 24 18 17 72 46 11 74  0 73 91 83 97 76 73 14 85 28 34 72\n",
      " 13 63 65 64 69 48 29 80 94 20 20 25 43 52 65 79  1 37 84 29 87 76 47 50\n",
      "  4 41 97 51 96 96 12 86  7 64 57 52 61  8 57 30 32 88 38 72 84 40 68 61\n",
      " 76 95 41 17 67 42 32 70 16 38  4 60 68 13 34 30 46  8 28 69 49 42 28 50\n",
      " 33 18 63 25  1 76 61 87  7 50 59  7 30  2 12 98 91 88 65  1 52 12 59  9\n",
      " 13 84  0 84 53 43 25 14 13 28 42 18 39 93 33 78 92 55 47 13 79 85  3 63\n",
      " 89 33 70 90 61 81  7 74  7 31 28 26 36  6 62 93 75 40 20  8 65 49 25 49\n",
      " 17 89 37 64 57 19  8 47  3 14  1 26 14 45 50 17 39 70  7 44 96 71 19 91\n",
      " 98  5 67 54 71 50 47 41  1 80  2 37 74 85 55  0 56 32 96 21 81 75  9 45\n",
      " 19  2 26 74 39 22 88 94 95 36 87 85 75 44 71 57 83 38 46 16 96 68 78 72\n",
      " 24 17 29 35 20 69  5 53 29 87 50 38  8 25 45 76 52 61 73 13 57 85 28 69\n",
      " 62  1 36 18 19  7  4 13  8 82 90 48 60  3 19  9 44 21 96 15 22 73 66 85\n",
      " 58 96 17 56 24 61 28 86 71 44 16  4 23 67 38 35 50 51  5 59 36 76 95 18\n",
      " 11 22 58 12 35 61 36 65 20  7 73 80 58 18 42 56 92 36  5 71 66 79 80  2\n",
      " 72  3 46  7 31 48 56 77 70 49  2 20 35 93 42 73 73 44 62 69 10  3 15  2\n",
      " 44 83 38 41 48 70 99 80 15 41  4  1 99 79 46 91 89 91  5 98 55 52 38 74\n",
      " 33 37 63 79 76 49 66 59 92 59 89 21 70 91 67 88 66 99 66 69 67 78 15 75\n",
      " 30 38 97 53 72 42 69  4]\n"
     ]
    }
   ],
   "source": [
    "import sys\n",
    "np.set_printoptions(threshold=sys.maxsize)\n",
    "print(A)"
   ]
  },
  {
   "cell_type": "markdown",
   "id": "5c460959",
   "metadata": {},
   "source": [
    "### преобразования массива NumPy в файл CSV."
   ]
  },
  {
   "cell_type": "code",
   "execution_count": 245,
   "id": "86560178",
   "metadata": {},
   "outputs": [
    {
     "data": {
      "text/plain": [
       "array([[42, 28, 18],\n",
       "       [37, 30, 15],\n",
       "       [29, 11, 47]])"
      ]
     },
     "execution_count": 245,
     "metadata": {},
     "output_type": "execute_result"
    }
   ],
   "source": [
    "B=np.random.choice(range(50), 9).reshape(3,3)\n",
    "B"
   ]
  },
  {
   "cell_type": "code",
   "execution_count": 246,
   "id": "3f6eca2c",
   "metadata": {},
   "outputs": [],
   "source": [
    "np.savetxt('delete.csv',B, delimiter=',')"
   ]
  },
  {
   "cell_type": "markdown",
   "id": "88be83cc",
   "metadata": {},
   "source": [
    "### Напишите программу NumPy для расчета евклидова расстояния"
   ]
  },
  {
   "cell_type": "code",
   "execution_count": 247,
   "id": "7ef53850",
   "metadata": {},
   "outputs": [],
   "source": [
    "from scipy.spatial import distance"
   ]
  },
  {
   "cell_type": "code",
   "execution_count": 248,
   "id": "e652cd56",
   "metadata": {},
   "outputs": [
    {
     "data": {
      "text/plain": [
       "array([1, 2, 3])"
      ]
     },
     "execution_count": 248,
     "metadata": {},
     "output_type": "execute_result"
    }
   ],
   "source": [
    "a=np.arange(1,4)\n",
    "a"
   ]
  },
  {
   "cell_type": "code",
   "execution_count": 249,
   "id": "d681e0ff",
   "metadata": {},
   "outputs": [
    {
     "data": {
      "text/plain": [
       "array([4, 5, 6])"
      ]
     },
     "execution_count": 249,
     "metadata": {},
     "output_type": "execute_result"
    }
   ],
   "source": [
    "b=np.arange(4,7)\n",
    "b"
   ]
  },
  {
   "cell_type": "code",
   "execution_count": 250,
   "id": "3fd0b51d",
   "metadata": {},
   "outputs": [],
   "source": [
    "d=distance.euclidean(a,b)\n"
   ]
  },
  {
   "cell_type": "code",
   "execution_count": 251,
   "id": "850f2ae3",
   "metadata": {},
   "outputs": [
    {
     "name": "stdout",
     "output_type": "stream",
     "text": [
      "Евклидово расстояние 5.196152\n"
     ]
    }
   ],
   "source": [
    "print('Евклидово расстояние %f' % d )"
   ]
  },
  {
   "cell_type": "markdown",
   "id": "a16ab888",
   "metadata": {},
   "source": [
    "### доступ к двум последним столбцам многомерных столбцов"
   ]
  },
  {
   "cell_type": "code",
   "execution_count": 252,
   "id": "d775257e",
   "metadata": {},
   "outputs": [
    {
     "data": {
      "text/plain": [
       "array([[0, 1, 2],\n",
       "       [3, 4, 5],\n",
       "       [6, 7, 8]])"
      ]
     },
     "execution_count": 252,
     "metadata": {},
     "output_type": "execute_result"
    }
   ],
   "source": [
    "C=np.arange(9).reshape(3,3)\n",
    "C"
   ]
  },
  {
   "cell_type": "code",
   "execution_count": 253,
   "id": "c96155f3",
   "metadata": {},
   "outputs": [
    {
     "data": {
      "text/plain": [
       "array([[1, 2],\n",
       "       [4, 5],\n",
       "       [7, 8]])"
      ]
     },
     "execution_count": 253,
     "metadata": {},
     "output_type": "execute_result"
    }
   ],
   "source": [
    "C[:,[1,2]]"
   ]
  },
  {
   "cell_type": "code",
   "execution_count": 254,
   "id": "34725dd1",
   "metadata": {},
   "outputs": [
    {
     "data": {
      "text/plain": [
       "array([[1, 2],\n",
       "       [4, 5],\n",
       "       [7, 8]])"
      ]
     },
     "execution_count": 254,
     "metadata": {},
     "output_type": "execute_result"
    }
   ],
   "source": [
    "# или\n",
    "C[:,[-2,-1]]"
   ]
  },
  {
   "cell_type": "markdown",
   "id": "a4f67b8c",
   "metadata": {},
   "source": [
    "### чтения файла данных CSV и сохранения записей в массиве"
   ]
  },
  {
   "cell_type": "code",
   "execution_count": 255,
   "id": "4c74a27a",
   "metadata": {},
   "outputs": [],
   "source": [
    "#         np.loadtxt"
   ]
  },
  {
   "cell_type": "code",
   "execution_count": 256,
   "id": "323d77a6",
   "metadata": {},
   "outputs": [],
   "source": [
    "#          или\n",
    "# from numpy import genfromtxt\n",
    "# csv_data = genfromtxt('fdata.csv', dtype=['S10','float32','float32','float32','float32'], delimiter=\",\")"
   ]
  },
  {
   "cell_type": "markdown",
   "id": "4fc08220",
   "metadata": {},
   "source": [
    "### подсчета вхождения указанного элемента в заданный массив NumPy."
   ]
  },
  {
   "cell_type": "code",
   "execution_count": 257,
   "id": "11804d55",
   "metadata": {},
   "outputs": [
    {
     "data": {
      "text/plain": [
       "array([10, 20, 10, 10,  0, 20,  0, 10, 10,  0])"
      ]
     },
     "execution_count": 257,
     "metadata": {},
     "output_type": "execute_result"
    }
   ],
   "source": [
    "A=np.random.choice(range(0,30,10),10)\n",
    "A"
   ]
  },
  {
   "cell_type": "code",
   "execution_count": 258,
   "id": "ffa399c5",
   "metadata": {},
   "outputs": [
    {
     "data": {
      "text/plain": [
       "array([ 0, 10, 20])"
      ]
     },
     "execution_count": 258,
     "metadata": {},
     "output_type": "execute_result"
    }
   ],
   "source": [
    "np.unique(A)"
   ]
  },
  {
   "cell_type": "code",
   "execution_count": 259,
   "id": "86fcaf63",
   "metadata": {},
   "outputs": [
    {
     "data": {
      "text/plain": [
       "[3, 5, 2]"
      ]
     },
     "execution_count": 259,
     "metadata": {},
     "output_type": "execute_result"
    }
   ],
   "source": [
    "[np.count_nonzero(A==i) for i in np.unique(A) ]"
   ]
  },
  {
   "cell_type": "markdown",
   "id": "34fd9f63",
   "metadata": {},
   "source": [
    "### вычислить процентили для последовательности или одномерного массива NumPy"
   ]
  },
  {
   "cell_type": "code",
   "execution_count": 260,
   "id": "2399f977",
   "metadata": {},
   "outputs": [
    {
     "data": {
      "text/plain": [
       "array([0, 1, 2, 3, 4, 5, 6, 7, 8, 9])"
      ]
     },
     "execution_count": 260,
     "metadata": {},
     "output_type": "execute_result"
    }
   ],
   "source": [
    "A=np.arange(10)\n",
    "A"
   ]
  },
  {
   "cell_type": "code",
   "execution_count": 261,
   "id": "fd3ee5b4",
   "metadata": {},
   "outputs": [
    {
     "data": {
      "text/plain": [
       "0.45"
      ]
     },
     "execution_count": 261,
     "metadata": {},
     "output_type": "execute_result"
    }
   ],
   "source": [
    "np.percentile(A,5)"
   ]
  },
  {
   "cell_type": "code",
   "execution_count": 262,
   "id": "2b9427f7",
   "metadata": {},
   "outputs": [
    {
     "data": {
      "text/plain": [
       "8.1"
      ]
     },
     "execution_count": 262,
     "metadata": {},
     "output_type": "execute_result"
    }
   ],
   "source": [
    "np.percentile(A,90)"
   ]
  },
  {
   "cell_type": "code",
   "execution_count": 263,
   "id": "26cca468",
   "metadata": {},
   "outputs": [
    {
     "data": {
      "text/plain": [
       "0.9"
      ]
     },
     "execution_count": 263,
     "metadata": {},
     "output_type": "execute_result"
    }
   ],
   "source": [
    "np.percentile(A,10)"
   ]
  },
  {
   "cell_type": "markdown",
   "id": "3edf96a7",
   "metadata": {},
   "source": [
    "### преобразования изображения PIL в массив numpy"
   ]
  },
  {
   "cell_type": "code",
   "execution_count": 264,
   "id": "e9d5bf24",
   "metadata": {},
   "outputs": [
    {
     "data": {
      "text/plain": [
       "\"import numpy as np\\nimport PIL\\nimg_data = PIL.Image.open('w3resource-logo.png' )\\nimg_arr = np.array(img_data) \\nprint(img_arr)\""
      ]
     },
     "execution_count": 264,
     "metadata": {},
     "output_type": "execute_result"
    }
   ],
   "source": [
    "'''import numpy as np\n",
    "import PIL\n",
    "img_data = PIL.Image.open('w3resource-logo.png' )\n",
    "img_arr = np.array(img_data) \n",
    "print(img_arr)'''"
   ]
  },
  {
   "cell_type": "markdown",
   "id": "b592f80e",
   "metadata": {},
   "source": [
    "### преобразование массива в изображение"
   ]
  },
  {
   "cell_type": "code",
   "execution_count": 265,
   "id": "69ab554f",
   "metadata": {},
   "outputs": [],
   "source": [
    "from PIL import Image\n",
    "import numpy as np\n",
    "img_w, img_h = 200, 200\n",
    "data = np.zeros((img_h, img_w, 3), dtype=np.uint8)\n",
    "data[100, 100] = [255, 0, 0]\n",
    "img = Image.fromarray(data, 'RGB')\n",
    "img.save('test.png')\n",
    "img.show()"
   ]
  },
  {
   "cell_type": "markdown",
   "id": "16648ee7",
   "metadata": {},
   "source": [
    "### удаления значений nan из заданного массива"
   ]
  },
  {
   "cell_type": "code",
   "execution_count": 266,
   "id": "8746b9da",
   "metadata": {},
   "outputs": [
    {
     "data": {
      "text/plain": [
       "array([200.,   2.,  nan, 400.,  nan])"
      ]
     },
     "execution_count": 266,
     "metadata": {},
     "output_type": "execute_result"
    }
   ],
   "source": [
    "A=np.array([200,2,np.nan,400, np.nan])\n",
    "A"
   ]
  },
  {
   "cell_type": "code",
   "execution_count": 267,
   "id": "11912db3",
   "metadata": {},
   "outputs": [
    {
     "data": {
      "text/plain": [
       "array([200.,   2., 400.])"
      ]
     },
     "execution_count": 267,
     "metadata": {},
     "output_type": "execute_result"
    }
   ],
   "source": [
    "A[np.logical_not((np.isnan(A)))]"
   ]
  },
  {
   "cell_type": "markdown",
   "id": "966c7b3e",
   "metadata": {},
   "source": [
    "### создать декартово произведение двух массивов в один массив двумерных точек"
   ]
  },
  {
   "cell_type": "code",
   "execution_count": 268,
   "id": "a2b04faf",
   "metadata": {},
   "outputs": [
    {
     "name": "stdout",
     "output_type": "stream",
     "text": [
      "[[1 4]\n",
      " [2 4]\n",
      " [3 4]\n",
      " [1 5]\n",
      " [2 5]\n",
      " [3 5]]\n"
     ]
    }
   ],
   "source": [
    "import numpy as np\n",
    "x = np.array([1,2,3])\n",
    "y = np.array([4,5])\n",
    "result = np.transpose([np.tile(x, len(y)), np.repeat(y, len(x))])\n",
    "print(result)"
   ]
  },
  {
   "cell_type": "markdown",
   "id": "df28869c",
   "metadata": {},
   "source": [
    "### получить использование памяти массивами."
   ]
  },
  {
   "cell_type": "code",
   "execution_count": 269,
   "id": "c2c89b89",
   "metadata": {},
   "outputs": [
    {
     "name": "stdout",
     "output_type": "stream",
     "text": [
      "32\n"
     ]
    }
   ],
   "source": [
    "# Функция getsizeof() модуля sys возвращает размер объекта object в байтах. Объект может быть любым типом объекта\n",
    "from sys import getsizeof\n",
    "print(getsizeof(A[1]))"
   ]
  },
  {
   "cell_type": "markdown",
   "id": "c022ad04",
   "metadata": {},
   "source": [
    "### построения массива всех комбинаций из трех числовых массивов."
   ]
  },
  {
   "cell_type": "code",
   "execution_count": 270,
   "id": "61a188eb",
   "metadata": {},
   "outputs": [
    {
     "data": {
      "text/plain": [
       "array([0, 1, 2])"
      ]
     },
     "execution_count": 270,
     "metadata": {},
     "output_type": "execute_result"
    }
   ],
   "source": [
    "A=np.array(range(3))\n",
    "B=np.random.choice(range(3,9),2)\n",
    "C=np.random.choice(range(100,500,100),2)\n",
    "A"
   ]
  },
  {
   "cell_type": "code",
   "execution_count": 271,
   "id": "946e2ce8",
   "metadata": {},
   "outputs": [
    {
     "data": {
      "text/plain": [
       "array([8, 6])"
      ]
     },
     "execution_count": 271,
     "metadata": {},
     "output_type": "execute_result"
    }
   ],
   "source": [
    "B"
   ]
  },
  {
   "cell_type": "code",
   "execution_count": 272,
   "id": "dd49cb97",
   "metadata": {},
   "outputs": [
    {
     "data": {
      "text/plain": [
       "array([400, 100])"
      ]
     },
     "execution_count": 272,
     "metadata": {},
     "output_type": "execute_result"
    }
   ],
   "source": [
    "C"
   ]
  },
  {
   "cell_type": "code",
   "execution_count": 273,
   "id": "8afad6e7",
   "metadata": {},
   "outputs": [
    {
     "data": {
      "text/plain": [
       "array([[  0,   8, 400],\n",
       "       [  0,   6, 400],\n",
       "       [  1,   8, 400],\n",
       "       [  1,   6, 400],\n",
       "       [  2,   8, 400],\n",
       "       [  2,   6, 400],\n",
       "       [  0,   8, 100],\n",
       "       [  0,   6, 100],\n",
       "       [  1,   8, 100],\n",
       "       [  1,   6, 100],\n",
       "       [  2,   8, 100],\n",
       "       [  2,   6, 100]])"
      ]
     },
     "execution_count": 273,
     "metadata": {},
     "output_type": "execute_result"
    }
   ],
   "source": [
    "np.array(np.meshgrid(A,B,C)).T.reshape(-1,3)"
   ]
  },
  {
   "cell_type": "code",
   "execution_count": 274,
   "id": "fb48d918",
   "metadata": {},
   "outputs": [
    {
     "data": {
      "text/plain": [
       "array([[0, 8, 0],\n",
       "       [6, 1, 8],\n",
       "       [1, 6, 2],\n",
       "       [8, 2, 6]])"
      ]
     },
     "execution_count": 274,
     "metadata": {},
     "output_type": "execute_result"
    }
   ],
   "source": [
    "np.array(np.meshgrid(A,B,)).T.reshape(-1,3)"
   ]
  },
  {
   "cell_type": "code",
   "execution_count": null,
   "id": "37853d09",
   "metadata": {},
   "outputs": [],
   "source": []
  },
  {
   "cell_type": "code",
   "execution_count": 275,
   "id": "21717144",
   "metadata": {},
   "outputs": [],
   "source": [
    "a=np.array([1,2])"
   ]
  },
  {
   "cell_type": "code",
   "execution_count": 276,
   "id": "9f7d1b37",
   "metadata": {},
   "outputs": [],
   "source": [
    "b=np.array([100,200,300])"
   ]
  },
  {
   "cell_type": "code",
   "execution_count": 277,
   "id": "5567bb01",
   "metadata": {},
   "outputs": [
    {
     "data": {
      "text/plain": [
       "array([[[  1, 100],\n",
       "        [  1, 200],\n",
       "        [  1, 300]],\n",
       "\n",
       "       [[  2, 100],\n",
       "        [  2, 200],\n",
       "        [  2, 300]]])"
      ]
     },
     "execution_count": 277,
     "metadata": {},
     "output_type": "execute_result"
    }
   ],
   "source": [
    "np.array(np.meshgrid(a,b)).T"
   ]
  },
  {
   "cell_type": "markdown",
   "id": "f6446f8b",
   "metadata": {},
   "source": [
    "### создания случайного набора строк из 2D-массива."
   ]
  },
  {
   "cell_type": "code",
   "execution_count": 278,
   "id": "31736c74",
   "metadata": {},
   "outputs": [
    {
     "data": {
      "text/plain": [
       "array([[3, 0, 3],\n",
       "       [1, 4, 2],\n",
       "       [0, 1, 0],\n",
       "       [3, 0, 3],\n",
       "       [1, 2, 4]])"
      ]
     },
     "execution_count": 278,
     "metadata": {},
     "output_type": "execute_result"
    }
   ],
   "source": [
    "new_array = np.random.randint(5, size=(5,3))\n",
    "new_array"
   ]
  },
  {
   "cell_type": "markdown",
   "id": "3670fbda",
   "metadata": {},
   "source": [
    "### найти индексы элементов, равные нулю, в массиве numpy."
   ]
  },
  {
   "cell_type": "code",
   "execution_count": 279,
   "id": "8007978f",
   "metadata": {},
   "outputs": [
    {
     "data": {
      "text/plain": [
       "array([0, 1, 0, 2, 1, 1, 2, 1, 0, 0, 2, 0, 2, 1, 1, 1, 1, 1, 1, 1])"
      ]
     },
     "execution_count": 279,
     "metadata": {},
     "output_type": "execute_result"
    }
   ],
   "source": [
    "A=np.random.randint(3,size=20)\n",
    "A"
   ]
  },
  {
   "cell_type": "code",
   "execution_count": 280,
   "id": "6670bba4",
   "metadata": {},
   "outputs": [
    {
     "data": {
      "text/plain": [
       "(array([ 0,  2,  8,  9, 11], dtype=int64),)"
      ]
     },
     "execution_count": 280,
     "metadata": {},
     "output_type": "execute_result"
    }
   ],
   "source": [
    "np.where(A==0)"
   ]
  },
  {
   "cell_type": "code",
   "execution_count": 281,
   "id": "4f98f3e6",
   "metadata": {},
   "outputs": [
    {
     "data": {
      "text/plain": [
       "array([ 0,  2,  8,  9, 11], dtype=int64)"
      ]
     },
     "execution_count": 281,
     "metadata": {},
     "output_type": "execute_result"
    }
   ],
   "source": [
    "B=np.where(A==0)[0]\n",
    "B"
   ]
  },
  {
   "cell_type": "markdown",
   "id": "da813ba3",
   "metadata": {},
   "source": [
    "### вычисления гистограммы набора данных."
   ]
  },
  {
   "cell_type": "code",
   "execution_count": 282,
   "id": "18566107",
   "metadata": {},
   "outputs": [],
   "source": [
    "import matplotlib.pyplot as plt "
   ]
  },
  {
   "cell_type": "code",
   "execution_count": 283,
   "id": "6870ef90",
   "metadata": {},
   "outputs": [
    {
     "data": {
      "image/png": "[encoded data removed]",
      "text/plain": [
       "<Figure size 432x288 with 1 Axes>"
      ]
     },
     "metadata": {
      "needs_background": "light"
     },
     "output_type": "display_data"
    }
   ],
   "source": [
    "plt.hist([1,2,1], bins=range(0,5));"
   ]
  },
  {
   "cell_type": "markdown",
   "id": "569c0309",
   "metadata": {},
   "source": [
    "### вычисления линейного графика набора данных"
   ]
  },
  {
   "cell_type": "code",
   "execution_count": 284,
   "id": "e09da552",
   "metadata": {},
   "outputs": [
    {
     "data": {
      "text/plain": [
       "array([24, 34, 17, 30, 10, 10, 11,  2, 35, 40])"
      ]
     },
     "execution_count": 284,
     "metadata": {},
     "output_type": "execute_result"
    }
   ],
   "source": [
    "# создадим входной набор данных\n",
    "arr=np.random.randint(1,50,10)\n",
    "arr"
   ]
  },
  {
   "cell_type": "code",
   "execution_count": 285,
   "id": "e3eda86c",
   "metadata": {},
   "outputs": [
    {
     "data": {
      "text/plain": [
       "(array([0, 0, 1, 0, 0, 0, 0, 0, 0, 0, 2, 1, 0, 0, 0, 0, 0, 1, 0, 0, 0, 0,\n",
       "        0, 0, 1, 0, 0, 0, 0, 0, 1, 0, 0, 0, 1, 1, 0, 0, 0, 0, 1, 0, 0, 0,\n",
       "        0, 0, 0, 0, 0, 0], dtype=int64),\n",
       " array([ 0,  1,  2,  3,  4,  5,  6,  7,  8,  9, 10, 11, 12, 13, 14, 15, 16,\n",
       "        17, 18, 19, 20, 21, 22, 23, 24, 25, 26, 27, 28, 29, 30, 31, 32, 33,\n",
       "        34, 35, 36, 37, 38, 39, 40, 41, 42, 43, 44, 45, 46, 47, 48, 49, 50]))"
      ]
     },
     "execution_count": 285,
     "metadata": {},
     "output_type": "execute_result"
    }
   ],
   "source": [
    "# определим координаты точкам\n",
    "np.histogram(arr, bins=np.arange(51))"
   ]
  },
  {
   "cell_type": "code",
   "execution_count": 286,
   "id": "f7407394",
   "metadata": {},
   "outputs": [],
   "source": [
    "y,x =np.histogram(arr, bins=np.arange(51))"
   ]
  },
  {
   "cell_type": "code",
   "execution_count": 287,
   "id": "c4c84abb",
   "metadata": {},
   "outputs": [
    {
     "data": {
      "image/png": "[encoded data removed]",
      "text/plain": [
       "<Figure size 432x288 with 1 Axes>"
      ]
     },
     "metadata": {
      "needs_background": "light"
     },
     "output_type": "display_data"
    }
   ],
   "source": [
    "fig, ax =plt.subplots()\n",
    "ax.plot(x[:-1],y);"
   ]
  },
  {
   "cell_type": "markdown",
   "id": "3b9c571d",
   "metadata": {},
   "source": [
    "### найти положение индекса указанного значения, превышающего существующее значение в массиве numpy. "
   ]
  },
  {
   "cell_type": "code",
   "execution_count": 288,
   "id": "93f22ee2",
   "metadata": {},
   "outputs": [],
   "source": [
    "# Функция argmax() возвращает индекс максимального значения вдоль указанной оси.\n",
    "# Данная функция обладает эквивалентным методом класса ndarray, т.е. np.argmax(a) равносильно вызову метода a.argmax()"
   ]
  },
  {
   "cell_type": "code",
   "execution_count": 289,
   "id": "e712b483",
   "metadata": {},
   "outputs": [],
   "source": [
    "os.chdir(r\"C:\\Users\\Z700\\Python_projects\\Pandas\\Numpy\\Graf\")"
   ]
  },
  {
   "cell_type": "code",
   "execution_count": 290,
   "id": "1aea4890",
   "metadata": {},
   "outputs": [
    {
     "data": {
      "image/png": "[encoded data removed]",
      "text/plain": [
       "<IPython.core.display.Image object>"
      ]
     },
     "execution_count": 290,
     "metadata": {},
     "output_type": "execute_result"
    }
   ],
   "source": [
    "# для понимания задания раскроем пример\n",
    "from IPython.display import Image\n",
    "Image(filename='118.PNG')"
   ]
  },
  {
   "cell_type": "code",
   "execution_count": 291,
   "id": "02db5203",
   "metadata": {},
   "outputs": [
    {
     "data": {
      "text/plain": [
       "array([-6, -5, -4, -3, -2, -1,  0,  1,  2,  3,  4,  5,  6,  7,  8,  9, 10,\n",
       "       11, 12, 13, 14, 15, 16, 17, 18, 19])"
      ]
     },
     "execution_count": 291,
     "metadata": {},
     "output_type": "execute_result"
    }
   ],
   "source": [
    "# генерируем исходный массив\n",
    "A=np.arange(-6,20)\n",
    "A"
   ]
  },
  {
   "cell_type": "code",
   "execution_count": 292,
   "id": "b91dcf52",
   "metadata": {},
   "outputs": [],
   "source": [
    "# укажим то число , которое должно превысить указанное значение\n",
    "n=4"
   ]
  },
  {
   "cell_type": "code",
   "execution_count": 293,
   "id": "ccfe25cc",
   "metadata": {},
   "outputs": [
    {
     "data": {
      "text/plain": [
       "25"
      ]
     },
     "execution_count": 293,
     "metadata": {},
     "output_type": "execute_result"
    }
   ],
   "source": [
    "# возращает индекс максимального элемеента\n",
    "A.argmax()"
   ]
  },
  {
   "cell_type": "code",
   "execution_count": 294,
   "id": "370ca8f7",
   "metadata": {},
   "outputs": [
    {
     "data": {
      "text/plain": [
       "25"
      ]
     },
     "execution_count": 294,
     "metadata": {},
     "output_type": "execute_result"
    }
   ],
   "source": [
    "np.argmax(A)"
   ]
  },
  {
   "cell_type": "code",
   "execution_count": 295,
   "id": "cf790280",
   "metadata": {},
   "outputs": [
    {
     "data": {
      "text/plain": [
       "11"
      ]
     },
     "execution_count": 295,
     "metadata": {},
     "output_type": "execute_result"
    }
   ],
   "source": [
    "np.argmax(A>n)"
   ]
  },
  {
   "cell_type": "markdown",
   "id": "9546e70e",
   "metadata": {},
   "source": [
    "### добавления новой строки в пустой массив numpy"
   ]
  },
  {
   "cell_type": "code",
   "execution_count": 296,
   "id": "2f94b4b4",
   "metadata": {},
   "outputs": [
    {
     "data": {
      "text/plain": [
       "array([], shape=(0, 2), dtype=float64)"
      ]
     },
     "execution_count": 296,
     "metadata": {},
     "output_type": "execute_result"
    }
   ],
   "source": [
    "B=np.empty((0,2))\n",
    "B"
   ]
  },
  {
   "cell_type": "code",
   "execution_count": 297,
   "id": "b4821f63",
   "metadata": {},
   "outputs": [],
   "source": [
    "B=np.append(B, np.array([[10,20]]), axis=0)"
   ]
  },
  {
   "cell_type": "code",
   "execution_count": 298,
   "id": "0edba36d",
   "metadata": {},
   "outputs": [
    {
     "data": {
      "text/plain": [
       "array([[10., 20.]])"
      ]
     },
     "execution_count": 298,
     "metadata": {},
     "output_type": "execute_result"
    }
   ],
   "source": [
    "B"
   ]
  },
  {
   "cell_type": "code",
   "execution_count": 299,
   "id": "04e42dc0",
   "metadata": {},
   "outputs": [
    {
     "data": {
      "text/plain": [
       "array([[ 10.,  20.],\n",
       "       [100., 300.]])"
      ]
     },
     "execution_count": 299,
     "metadata": {},
     "output_type": "execute_result"
    }
   ],
   "source": [
    "B=np.append(B, np.array([[100,300]]), axis=0)\n",
    "B"
   ]
  },
  {
   "cell_type": "markdown",
   "id": "d9e40e06",
   "metadata": {},
   "source": [
    "### получить индекс максимального элемента в массиве numpy вдоль одной оси. "
   ]
  },
  {
   "cell_type": "code",
   "execution_count": 300,
   "id": "f48c57fe",
   "metadata": {},
   "outputs": [
    {
     "data": {
      "text/plain": [
       "3"
      ]
     },
     "execution_count": 300,
     "metadata": {},
     "output_type": "execute_result"
    }
   ],
   "source": [
    "np.argmax(B.ravel())"
   ]
  },
  {
   "cell_type": "code",
   "execution_count": 301,
   "id": "d2fac22f",
   "metadata": {},
   "outputs": [],
   "source": [
    "# решение от авторов, не понятно при этом, чем эта функция отличается от масимума и причем тут индекс\n",
    "i,j = np.unravel_index(B.argmax(), B.shape)"
   ]
  },
  {
   "cell_type": "code",
   "execution_count": 302,
   "id": "5deb9cfb",
   "metadata": {},
   "outputs": [
    {
     "name": "stdout",
     "output_type": "stream",
     "text": [
      "300.0\n"
     ]
    }
   ],
   "source": [
    "print(B[i,j])"
   ]
  },
  {
   "cell_type": "code",
   "execution_count": 303,
   "id": "402cb91c",
   "metadata": {},
   "outputs": [
    {
     "name": "stdout",
     "output_type": "stream",
     "text": [
      "Original array:\n",
      "[[ 1  2  3]\n",
      " [10  7  1]]\n",
      "Index of a maximum element in a numpy array along one axis:\n",
      "10\n"
     ]
    }
   ],
   "source": [
    "a = np.array([[1,2,3],[10,7,1]])\n",
    "print(\"Original array:\")\n",
    "print(a)\n",
    "i,j = np.unravel_index(a.argmax(), a.shape)\n",
    "print(\"Index of a maximum element in a numpy array along one axis:\")\n",
    "print(a[i,j])"
   ]
  },
  {
   "cell_type": "code",
   "execution_count": 304,
   "id": "6e24a050",
   "metadata": {},
   "outputs": [
    {
     "data": {
      "text/plain": [
       "300.0"
      ]
     },
     "execution_count": 304,
     "metadata": {},
     "output_type": "execute_result"
    }
   ],
   "source": [
    "np.max(B)"
   ]
  },
  {
   "cell_type": "code",
   "execution_count": 305,
   "id": "5b56678c",
   "metadata": {},
   "outputs": [
    {
     "data": {
      "text/plain": [
       "5"
      ]
     },
     "execution_count": 305,
     "metadata": {},
     "output_type": "execute_result"
    }
   ],
   "source": [
    "len(str(np.max(B)))"
   ]
  },
  {
   "cell_type": "markdown",
   "id": "0390f31a",
   "metadata": {},
   "source": [
    "### объединить последовательность массивов вдоль новой оси"
   ]
  },
  {
   "cell_type": "code",
   "execution_count": 306,
   "id": "759a8c53",
   "metadata": {},
   "outputs": [
    {
     "data": {
      "text/plain": [
       "array([1, 2, 3])"
      ]
     },
     "execution_count": 306,
     "metadata": {},
     "output_type": "execute_result"
    }
   ],
   "source": [
    "A=np.arange(1,4)\n",
    "A"
   ]
  },
  {
   "cell_type": "code",
   "execution_count": 307,
   "id": "e03086f6",
   "metadata": {},
   "outputs": [
    {
     "data": {
      "text/plain": [
       "array([500, 600, 700])"
      ]
     },
     "execution_count": 307,
     "metadata": {},
     "output_type": "execute_result"
    }
   ],
   "source": [
    "B=np.arange(500,800,100)\n",
    "B"
   ]
  },
  {
   "cell_type": "code",
   "execution_count": 308,
   "id": "f90fabfc",
   "metadata": {},
   "outputs": [
    {
     "data": {
      "text/plain": [
       "array([[  1,   2,   3],\n",
       "       [500, 600, 700]])"
      ]
     },
     "execution_count": 308,
     "metadata": {},
     "output_type": "execute_result"
    }
   ],
   "source": [
    "np.vstack((A,B))"
   ]
  },
  {
   "cell_type": "markdown",
   "id": "b24de33f",
   "metadata": {},
   "source": [
    "### найти индекс нарезанных элементов следующим образом из массива массива 4x4"
   ]
  },
  {
   "cell_type": "code",
   "execution_count": 309,
   "id": "381ff1ef",
   "metadata": {},
   "outputs": [
    {
     "data": {
      "text/plain": [
       "array([[90, 55, 18, 37],\n",
       "       [28, 82, 38, 51],\n",
       "       [98, 88, 77, 75],\n",
       "       [56, 59, 32, 54]])"
      ]
     },
     "execution_count": 309,
     "metadata": {},
     "output_type": "execute_result"
    }
   ],
   "source": [
    "A=np.random.randint(1,100,16).reshape((4,4))\n",
    "A"
   ]
  },
  {
   "cell_type": "code",
   "execution_count": 310,
   "id": "28d205e3",
   "metadata": {},
   "outputs": [
    {
     "data": {
      "text/plain": [
       "array([90, 98, 51])"
      ]
     },
     "execution_count": 310,
     "metadata": {},
     "output_type": "execute_result"
    }
   ],
   "source": [
    "A[[0,2,1],[0,0,3]]"
   ]
  },
  {
   "cell_type": "markdown",
   "id": "f4558504",
   "metadata": {},
   "source": [
    "### создания двух массивов, когда размер больше или меньше заданного массива."
   ]
  },
  {
   "cell_type": "code",
   "execution_count": 311,
   "id": "a1d5546f",
   "metadata": {},
   "outputs": [
    {
     "data": {
      "text/plain": [
       "array([[ 0,  1,  2,  3],\n",
       "       [ 4,  5,  6,  7],\n",
       "       [ 8,  9, 10, 11],\n",
       "       [12, 13, 14, 15]])"
      ]
     },
     "execution_count": 311,
     "metadata": {},
     "output_type": "execute_result"
    }
   ],
   "source": [
    "A=np.arange(16).reshape(4,4)\n",
    "A"
   ]
  },
  {
   "cell_type": "code",
   "execution_count": 312,
   "id": "800826c8",
   "metadata": {},
   "outputs": [
    {
     "data": {
      "text/plain": [
       "array([[0, 1],\n",
       "       [2, 3]])"
      ]
     },
     "execution_count": 312,
     "metadata": {},
     "output_type": "execute_result"
    }
   ],
   "source": [
    "B=np.resize(A,(2,2))\n",
    "B"
   ]
  },
  {
   "cell_type": "code",
   "execution_count": 313,
   "id": "bfd8e679",
   "metadata": {},
   "outputs": [
    {
     "data": {
      "text/plain": [
       "array([[ 0,  1,  2,  3,  4,  5],\n",
       "       [ 6,  7,  8,  9, 10, 11],\n",
       "       [12, 13, 14, 15,  0,  1],\n",
       "       [ 2,  3,  4,  5,  6,  7],\n",
       "       [ 8,  9, 10, 11, 12, 13],\n",
       "       [14, 15,  0,  1,  2,  3]])"
      ]
     },
     "execution_count": 313,
     "metadata": {},
     "output_type": "execute_result"
    }
   ],
   "source": [
    "C=np.resize(A, (6,6))\n",
    "C"
   ]
  },
  {
   "cell_type": "markdown",
   "id": "2919d626",
   "metadata": {},
   "source": [
    "### трансляции на различных формах массивов, где p (3,3) + q (3)"
   ]
  },
  {
   "cell_type": "code",
   "execution_count": 314,
   "id": "1751c92a",
   "metadata": {},
   "outputs": [
    {
     "data": {
      "text/plain": [
       "array([[0, 1, 2],\n",
       "       [3, 4, 5],\n",
       "       [6, 7, 8]])"
      ]
     },
     "execution_count": 314,
     "metadata": {},
     "output_type": "execute_result"
    }
   ],
   "source": [
    "# создадим входные массивы 1 и 2\n",
    "array1=np.resize(A, (3,3))\n",
    "array1"
   ]
  },
  {
   "cell_type": "code",
   "execution_count": 315,
   "id": "abdbd410",
   "metadata": {},
   "outputs": [
    {
     "data": {
      "text/plain": [
       "array([100, 200, 300])"
      ]
     },
     "execution_count": 315,
     "metadata": {},
     "output_type": "execute_result"
    }
   ],
   "source": [
    "array2=np.array([100,200,300])\n",
    "array2"
   ]
  },
  {
   "cell_type": "code",
   "execution_count": 316,
   "id": "e8850962",
   "metadata": {},
   "outputs": [
    {
     "data": {
      "text/plain": [
       "array([[100, 201, 302],\n",
       "       [103, 204, 305],\n",
       "       [106, 207, 308]])"
      ]
     },
     "execution_count": 316,
     "metadata": {},
     "output_type": "execute_result"
    }
   ],
   "source": [
    "array1+array2"
   ]
  },
  {
   "cell_type": "markdown",
   "id": "98f44106",
   "metadata": {},
   "source": [
    "### трансляции на различных формах массивов, где a (, 3) + b (3)."
   ]
  },
  {
   "cell_type": "code",
   "execution_count": 317,
   "id": "03fd00ef",
   "metadata": {},
   "outputs": [
    {
     "data": {
      "text/plain": [
       "array([[0],\n",
       "       [2],\n",
       "       [5]])"
      ]
     },
     "execution_count": 317,
     "metadata": {},
     "output_type": "execute_result"
    }
   ],
   "source": [
    "array1=np.array([[0],[2],[5]])\n",
    "array1"
   ]
  },
  {
   "cell_type": "code",
   "execution_count": 318,
   "id": "8a230a51",
   "metadata": {},
   "outputs": [
    {
     "data": {
      "text/plain": [
       "array([100, 200, 300])"
      ]
     },
     "execution_count": 318,
     "metadata": {},
     "output_type": "execute_result"
    }
   ],
   "source": [
    "array2=np.array([100,200,300])\n",
    "array2"
   ]
  },
  {
   "cell_type": "code",
   "execution_count": 319,
   "id": "34839941",
   "metadata": {},
   "outputs": [
    {
     "data": {
      "text/plain": [
       "array([[100, 200, 300],\n",
       "       [102, 202, 302],\n",
       "       [105, 205, 305]])"
      ]
     },
     "execution_count": 319,
     "metadata": {},
     "output_type": "execute_result"
    }
   ],
   "source": [
    "array1+array2"
   ]
  },
  {
   "cell_type": "markdown",
   "id": "0b6f3c8e",
   "metadata": {},
   "source": [
    "### перестановка размеров заданного массива"
   ]
  },
  {
   "cell_type": "code",
   "execution_count": 320,
   "id": "3c59ba91",
   "metadata": {},
   "outputs": [
    {
     "data": {
      "text/plain": [
       "array([[ 0,  1,  2,  3],\n",
       "       [ 4,  5,  6,  7],\n",
       "       [ 8,  9, 10, 11],\n",
       "       [12, 13, 14, 15],\n",
       "       [16, 17, 18, 19],\n",
       "       [20, 21, 22, 23]])"
      ]
     },
     "execution_count": 320,
     "metadata": {},
     "output_type": "execute_result"
    }
   ],
   "source": [
    "A=np.arange(24).reshape(6,4)\n",
    "A"
   ]
  },
  {
   "cell_type": "code",
   "execution_count": 321,
   "id": "fd1f03ad",
   "metadata": {},
   "outputs": [
    {
     "data": {
      "text/plain": [
       "array([[ 0,  4,  8, 12, 16, 20],\n",
       "       [ 1,  5,  9, 13, 17, 21],\n",
       "       [ 2,  6, 10, 14, 18, 22],\n",
       "       [ 3,  7, 11, 15, 19, 23]])"
      ]
     },
     "execution_count": 321,
     "metadata": {},
     "output_type": "execute_result"
    }
   ],
   "source": [
    "A.T"
   ]
  },
  {
   "cell_type": "code",
   "execution_count": 322,
   "id": "90f1889a",
   "metadata": {},
   "outputs": [
    {
     "data": {
      "text/plain": [
       "array([[ True,  True,  True,  True,  True,  True],\n",
       "       [ True,  True,  True,  True,  True,  True],\n",
       "       [ True,  True,  True,  True,  True,  True],\n",
       "       [ True,  True,  True,  True,  True,  True]])"
      ]
     },
     "execution_count": 322,
     "metadata": {},
     "output_type": "execute_result"
    }
   ],
   "source": [
    "np.transpose(A)==A.T"
   ]
  },
  {
   "cell_type": "markdown",
   "id": "5a4bc0d9",
   "metadata": {},
   "source": [
    "### последовательного размещения массивов по горизонтали (по столбцам)."
   ]
  },
  {
   "cell_type": "code",
   "execution_count": 323,
   "id": "b4b30e62",
   "metadata": {},
   "outputs": [
    {
     "data": {
      "text/plain": [
       "array([[1, 2, 3],\n",
       "       [4, 5, 6],\n",
       "       [7, 8, 9]])"
      ]
     },
     "execution_count": 323,
     "metadata": {},
     "output_type": "execute_result"
    }
   ],
   "source": [
    "A=np.arange(1,10).reshape(3,3)\n",
    "A"
   ]
  },
  {
   "cell_type": "code",
   "execution_count": 324,
   "id": "13ceba44",
   "metadata": {},
   "outputs": [
    {
     "data": {
      "text/plain": [
       "array([[ 3,  6,  9],\n",
       "       [12, 15, 18],\n",
       "       [21, 24, 27]])"
      ]
     },
     "execution_count": 324,
     "metadata": {},
     "output_type": "execute_result"
    }
   ],
   "source": [
    "B=A*3\n",
    "B"
   ]
  },
  {
   "cell_type": "code",
   "execution_count": 325,
   "id": "59237a7e",
   "metadata": {},
   "outputs": [
    {
     "data": {
      "text/plain": [
       "array([[ 1,  2,  3,  3,  6,  9],\n",
       "       [ 4,  5,  6, 12, 15, 18],\n",
       "       [ 7,  8,  9, 21, 24, 27]])"
      ]
     },
     "execution_count": 325,
     "metadata": {},
     "output_type": "execute_result"
    }
   ],
   "source": [
    "np.hstack((A,B))"
   ]
  },
  {
   "cell_type": "code",
   "execution_count": 326,
   "id": "377c52d2",
   "metadata": {},
   "outputs": [
    {
     "data": {
      "text/plain": [
       "array([[ 1,  2,  3,  3,  6,  9],\n",
       "       [ 4,  5,  6, 12, 15, 18],\n",
       "       [ 7,  8,  9, 21, 24, 27]])"
      ]
     },
     "execution_count": 326,
     "metadata": {},
     "output_type": "execute_result"
    }
   ],
   "source": [
    "#или\n",
    "np.concatenate((A,B), axis=1)"
   ]
  },
  {
   "cell_type": "markdown",
   "id": "4f426e2d",
   "metadata": {},
   "source": [
    "### последовательного размещения массивов"
   ]
  },
  {
   "cell_type": "code",
   "execution_count": 327,
   "id": "0adc7c0a",
   "metadata": {},
   "outputs": [
    {
     "data": {
      "text/plain": [
       "array([[4, 7, 2],\n",
       "       [2, 5, 3],\n",
       "       [4, 8, 8]])"
      ]
     },
     "execution_count": 327,
     "metadata": {},
     "output_type": "execute_result"
    }
   ],
   "source": [
    "A=np.random.randint(0,10,9).reshape(3,3)\n",
    "A"
   ]
  },
  {
   "cell_type": "code",
   "execution_count": 328,
   "id": "aa1ed57f",
   "metadata": {},
   "outputs": [
    {
     "data": {
      "text/plain": [
       "array([[500, 500, 700],\n",
       "       [400, 700, 500],\n",
       "       [100, 200, 600]])"
      ]
     },
     "execution_count": 328,
     "metadata": {},
     "output_type": "execute_result"
    }
   ],
   "source": [
    "B=np.random.choice((range(100,1000,100)), size=(3,3))\n",
    "B"
   ]
  },
  {
   "cell_type": "code",
   "execution_count": 329,
   "id": "efa0b397",
   "metadata": {},
   "outputs": [
    {
     "data": {
      "text/plain": [
       "array([[  4,   7,   2],\n",
       "       [  2,   5,   3],\n",
       "       [  4,   8,   8],\n",
       "       [500, 500, 700],\n",
       "       [400, 700, 500],\n",
       "       [100, 200, 600]])"
      ]
     },
     "execution_count": 329,
     "metadata": {},
     "output_type": "execute_result"
    }
   ],
   "source": [
    "np.concatenate((A,B), axis=0)"
   ]
  },
  {
   "cell_type": "code",
   "execution_count": 330,
   "id": "ccfefb0b",
   "metadata": {},
   "outputs": [
    {
     "data": {
      "text/plain": [
       "array([[  4,   7,   2],\n",
       "       [  2,   5,   3],\n",
       "       [  4,   8,   8],\n",
       "       [500, 500, 700],\n",
       "       [400, 700, 500],\n",
       "       [100, 200, 600]])"
      ]
     },
     "execution_count": 330,
     "metadata": {},
     "output_type": "execute_result"
    }
   ],
   "source": [
    "# или\n",
    "np.vstack((A,B))"
   ]
  },
  {
   "cell_type": "markdown",
   "id": "deebdeae",
   "metadata": {},
   "source": [
    "### последовательного размещения массивов"
   ]
  },
  {
   "cell_type": "code",
   "execution_count": 331,
   "id": "d16d9072",
   "metadata": {},
   "outputs": [
    {
     "data": {
      "text/plain": [
       "array([0, 1, 2])"
      ]
     },
     "execution_count": 331,
     "metadata": {},
     "output_type": "execute_result"
    }
   ],
   "source": [
    "A=np.arange(3)\n",
    "A"
   ]
  },
  {
   "cell_type": "code",
   "execution_count": 332,
   "id": "eb0b25ce",
   "metadata": {},
   "outputs": [
    {
     "data": {
      "text/plain": [
       "array([10, 20, 50])"
      ]
     },
     "execution_count": 332,
     "metadata": {},
     "output_type": "execute_result"
    }
   ],
   "source": [
    "B=np.array([10,20,50])\n",
    "B"
   ]
  },
  {
   "cell_type": "code",
   "execution_count": 333,
   "id": "21d0f4bd",
   "metadata": {},
   "outputs": [
    {
     "data": {
      "text/plain": [
       "array([[ 0, 10],\n",
       "       [ 1, 20],\n",
       "       [ 2, 50]])"
      ]
     },
     "execution_count": 333,
     "metadata": {},
     "output_type": "execute_result"
    }
   ],
   "source": [
    "np.hstack((A.reshape(3,1),B.reshape(3,1)))"
   ]
  },
  {
   "cell_type": "code",
   "execution_count": 334,
   "id": "fe7ee0de",
   "metadata": {},
   "outputs": [
    {
     "data": {
      "text/plain": [
       "array([[ 0, 10],\n",
       "       [ 1, 20],\n",
       "       [ 2, 50]])"
      ]
     },
     "execution_count": 334,
     "metadata": {},
     "output_type": "execute_result"
    }
   ],
   "source": [
    "# или\n",
    "np.column_stack((A,B))"
   ]
  },
  {
   "cell_type": "code",
   "execution_count": 335,
   "id": "27e6736b",
   "metadata": {},
   "outputs": [
    {
     "data": {
      "text/plain": [
       "array([[ 0, 10],\n",
       "       [ 1, 20],\n",
       "       [ 2, 50]])"
      ]
     },
     "execution_count": 335,
     "metadata": {},
     "output_type": "execute_result"
    }
   ],
   "source": [
    "# или\n",
    "np.concatenate((A.reshape(3,1), B.reshape(3,1)), axis=1)"
   ]
  },
  {
   "cell_type": "code",
   "execution_count": null,
   "id": "2782f059",
   "metadata": {},
   "outputs": [],
   "source": []
  },
  {
   "cell_type": "markdown",
   "id": "32502f77",
   "metadata": {},
   "source": [
    "### размещения 1-D массивов по строкам"
   ]
  },
  {
   "cell_type": "code",
   "execution_count": 336,
   "id": "c2804b59",
   "metadata": {},
   "outputs": [
    {
     "data": {
      "text/plain": [
       "array([[ 0,  1,  2],\n",
       "       [10, 20, 50]])"
      ]
     },
     "execution_count": 336,
     "metadata": {},
     "output_type": "execute_result"
    }
   ],
   "source": [
    "np.row_stack((A,B))"
   ]
  },
  {
   "cell_type": "code",
   "execution_count": 337,
   "id": "50623ad2",
   "metadata": {},
   "outputs": [
    {
     "data": {
      "text/plain": [
       "array([[ 0,  1,  2],\n",
       "       [10, 20, 50]])"
      ]
     },
     "execution_count": 337,
     "metadata": {},
     "output_type": "execute_result"
    }
   ],
   "source": [
    "# или\n",
    "np.vstack((A,B))"
   ]
  },
  {
   "cell_type": "markdown",
   "id": "e37581e9",
   "metadata": {},
   "source": [
    "###  разделения заданного массива на несколько подмассивов по вертикали (по строкам)."
   ]
  },
  {
   "cell_type": "code",
   "execution_count": 338,
   "id": "9f5a55fa",
   "metadata": {},
   "outputs": [
    {
     "data": {
      "text/plain": [
       "array([[ 0,  1,  2,  3],\n",
       "       [ 4,  5,  6,  7],\n",
       "       [ 8,  9, 10, 11],\n",
       "       [12, 13, 14, 15]])"
      ]
     },
     "execution_count": 338,
     "metadata": {},
     "output_type": "execute_result"
    }
   ],
   "source": [
    "A=np.arange(16).reshape(4,4)\n",
    "A"
   ]
  },
  {
   "cell_type": "code",
   "execution_count": 339,
   "id": "54c97d65",
   "metadata": {},
   "outputs": [
    {
     "data": {
      "text/plain": [
       "[array([[0, 1, 2, 3],\n",
       "        [4, 5, 6, 7]]),\n",
       " array([[ 8,  9, 10, 11],\n",
       "        [12, 13, 14, 15]])]"
      ]
     },
     "execution_count": 339,
     "metadata": {},
     "output_type": "execute_result"
    }
   ],
   "source": [
    "new_A=np.vsplit(A,2)\n",
    "new_A"
   ]
  },
  {
   "cell_type": "code",
   "execution_count": 340,
   "id": "d05455e0",
   "metadata": {},
   "outputs": [
    {
     "data": {
      "text/plain": [
       "[array([[ 0],\n",
       "        [ 4],\n",
       "        [ 8],\n",
       "        [12]]),\n",
       " array([[ 1],\n",
       "        [ 5],\n",
       "        [ 9],\n",
       "        [13]]),\n",
       " array([[ 2],\n",
       "        [ 6],\n",
       "        [10],\n",
       "        [14]]),\n",
       " array([[ 3],\n",
       "        [ 7],\n",
       "        [11],\n",
       "        [15]])]"
      ]
     },
     "execution_count": 340,
     "metadata": {},
     "output_type": "execute_result"
    }
   ],
   "source": [
    "new_A2=np.hsplit(A,4)\n",
    "new_A2"
   ]
  },
  {
   "cell_type": "markdown",
   "id": "32ecf121",
   "metadata": {},
   "source": [
    "### разделения массива на несколько подмассивов вдоль 3-й оси"
   ]
  },
  {
   "cell_type": "code",
   "execution_count": 341,
   "id": "3b477b42",
   "metadata": {},
   "outputs": [],
   "source": [
    "# new_array1 = np.dsplit(new_A, 2)"
   ]
  },
  {
   "cell_type": "markdown",
   "id": "f0dd8407",
   "metadata": {},
   "source": [
    "### подсчета количества измерений, количества элементов и количества байтов для каждого элемента в данном массиве"
   ]
  },
  {
   "cell_type": "code",
   "execution_count": 342,
   "id": "a681088c",
   "metadata": {},
   "outputs": [],
   "source": [
    "A = np.array([[ 0,  1,  2,  3,  4,  5,  6,  7,  8,  9, 10, 11],\n",
    "       [12, 13, 14, 15, 16, 17, 18, 19, 20, 21, 22, 23]])"
   ]
  },
  {
   "cell_type": "code",
   "execution_count": 343,
   "id": "4d249e28",
   "metadata": {},
   "outputs": [
    {
     "data": {
      "text/plain": [
       "array([[ 0,  1,  2,  3,  4,  5,  6,  7,  8,  9, 10, 11],\n",
       "       [12, 13, 14, 15, 16, 17, 18, 19, 20, 21, 22, 23]])"
      ]
     },
     "execution_count": 343,
     "metadata": {},
     "output_type": "execute_result"
    }
   ],
   "source": [
    "A"
   ]
  },
  {
   "cell_type": "code",
   "execution_count": 344,
   "id": "b8c764f6",
   "metadata": {},
   "outputs": [
    {
     "name": "stdout",
     "output_type": "stream",
     "text": [
      "количество размерностей (dimensions) 2\n",
      "количество элементов 24\n",
      "количество байтов под каждый элемнет 4\n"
     ]
    }
   ],
   "source": [
    "print ('количество размерностей (dimensions) %d' %A.ndim)\n",
    "print ('количество элементов {}'.format(A.size))\n",
    "print ('количество байтов под каждый элемнет %d' % A.itemsize)"
   ]
  },
  {
   "cell_type": "markdown",
   "id": "3a6d20c2",
   "metadata": {},
   "source": [
    "### извлечения всех элементов первой строки из заданного (4x4) массива."
   ]
  },
  {
   "cell_type": "code",
   "execution_count": 345,
   "id": "b48bd62d",
   "metadata": {},
   "outputs": [
    {
     "data": {
      "text/plain": [
       "array([[52, 70, 28, 17],\n",
       "       [56, 19, 21, 81],\n",
       "       [48, 40, 15, 90]])"
      ]
     },
     "execution_count": 345,
     "metadata": {},
     "output_type": "execute_result"
    }
   ],
   "source": [
    "A=np.random.randint(1,100,12).reshape(3,4)\n",
    "A"
   ]
  },
  {
   "cell_type": "code",
   "execution_count": 346,
   "id": "63e7378a",
   "metadata": {},
   "outputs": [
    {
     "data": {
      "text/plain": [
       "array([[52, 70, 28, 17]])"
      ]
     },
     "execution_count": 346,
     "metadata": {},
     "output_type": "execute_result"
    }
   ],
   "source": [
    "A[:1]"
   ]
  },
  {
   "cell_type": "code",
   "execution_count": 347,
   "id": "855ae2b4",
   "metadata": {},
   "outputs": [
    {
     "data": {
      "text/plain": [
       "array([52, 70, 28, 17])"
      ]
     },
     "execution_count": 347,
     "metadata": {},
     "output_type": "execute_result"
    }
   ],
   "source": [
    "# или\n",
    "A[0]"
   ]
  },
  {
   "cell_type": "code",
   "execution_count": 348,
   "id": "ef7765b6",
   "metadata": {},
   "outputs": [
    {
     "data": {
      "text/plain": [
       "True"
      ]
     },
     "execution_count": 348,
     "metadata": {},
     "output_type": "execute_result"
    }
   ],
   "source": [
    "(A[0]==A[:1]).all()"
   ]
  },
  {
   "cell_type": "markdown",
   "id": "24b299aa",
   "metadata": {},
   "source": [
    "### извлечения всех элементов второй строки из заданного (4x4) массива."
   ]
  },
  {
   "cell_type": "code",
   "execution_count": 349,
   "id": "11f3eb54",
   "metadata": {},
   "outputs": [
    {
     "data": {
      "text/plain": [
       "array([56, 19, 21, 81])"
      ]
     },
     "execution_count": 349,
     "metadata": {},
     "output_type": "execute_result"
    }
   ],
   "source": [
    "A[1]"
   ]
  },
  {
   "cell_type": "code",
   "execution_count": 350,
   "id": "1b51d07d",
   "metadata": {},
   "outputs": [
    {
     "data": {
      "text/plain": [
       "array([[56, 19, 21, 81]])"
      ]
     },
     "execution_count": 350,
     "metadata": {},
     "output_type": "execute_result"
    }
   ],
   "source": [
    "A[1:2]"
   ]
  },
  {
   "cell_type": "code",
   "execution_count": 351,
   "id": "1244337c",
   "metadata": {},
   "outputs": [],
   "source": [
    "B=['1','9']"
   ]
  },
  {
   "cell_type": "code",
   "execution_count": 352,
   "id": "c3723f01",
   "metadata": {},
   "outputs": [
    {
     "data": {
      "text/plain": [
       "2"
      ]
     },
     "execution_count": 352,
     "metadata": {},
     "output_type": "execute_result"
    }
   ],
   "source": [
    "len(B)"
   ]
  },
  {
   "cell_type": "markdown",
   "id": "3724ce59",
   "metadata": {},
   "source": [
    "### Извлечения всех элементов третьего столбца из заданного (4x4) массива."
   ]
  },
  {
   "cell_type": "code",
   "execution_count": 353,
   "id": "a5b1c41d",
   "metadata": {},
   "outputs": [
    {
     "data": {
      "text/plain": [
       "array([[ 9,  6, 14, 19],\n",
       "       [ 9,  7, 13, 16],\n",
       "       [ 1,  1, 10, 10],\n",
       "       [11,  1, 14,  1]])"
      ]
     },
     "execution_count": 353,
     "metadata": {},
     "output_type": "execute_result"
    }
   ],
   "source": [
    "A=np.random.randint(1,20,16).reshape(4,4)\n",
    "A"
   ]
  },
  {
   "cell_type": "code",
   "execution_count": 354,
   "id": "28b0f5f7",
   "metadata": {},
   "outputs": [
    {
     "data": {
      "text/plain": [
       "array([14, 13, 10, 14])"
      ]
     },
     "execution_count": 354,
     "metadata": {},
     "output_type": "execute_result"
    }
   ],
   "source": [
    "A[:,2]"
   ]
  },
  {
   "cell_type": "markdown",
   "id": "146a49a9",
   "metadata": {},
   "source": [
    "### извлечения первого и второго элементов первой и второй строк из заданного (4x4) массива."
   ]
  },
  {
   "cell_type": "code",
   "execution_count": 355,
   "id": "dfbf08db",
   "metadata": {},
   "outputs": [
    {
     "data": {
      "text/plain": [
       "array([[9, 6],\n",
       "       [9, 7]])"
      ]
     },
     "execution_count": 355,
     "metadata": {},
     "output_type": "execute_result"
    }
   ],
   "source": [
    "# Извлеченные данные: первый и второй элементы первого и второго рядов\n",
    "A[:2,:2]"
   ]
  },
  {
   "cell_type": "markdown",
   "id": "75ba16ba",
   "metadata": {},
   "source": [
    "### извлечения третьего и четвертого элементов первой и второй строк из заданного (4x4) массива"
   ]
  },
  {
   "cell_type": "code",
   "execution_count": 356,
   "id": "319448cc",
   "metadata": {},
   "outputs": [
    {
     "data": {
      "text/plain": [
       "array([[14, 19],\n",
       "       [13, 16]])"
      ]
     },
     "execution_count": 356,
     "metadata": {},
     "output_type": "execute_result"
    }
   ],
   "source": [
    "A[:2,2:]"
   ]
  },
  {
   "cell_type": "markdown",
   "id": "71dcc942",
   "metadata": {},
   "source": [
    "### извлечения первого и третьего элементов первой и третьей строк из заданного (4x4) массива"
   ]
  },
  {
   "cell_type": "code",
   "execution_count": 357,
   "id": "4d6eaf5f",
   "metadata": {},
   "outputs": [
    {
     "data": {
      "text/plain": [
       "array([[ 9,  6, 14, 19],\n",
       "       [ 9,  7, 13, 16],\n",
       "       [ 1,  1, 10, 10],\n",
       "       [11,  1, 14,  1]])"
      ]
     },
     "execution_count": 357,
     "metadata": {},
     "output_type": "execute_result"
    }
   ],
   "source": [
    "A"
   ]
  },
  {
   "cell_type": "code",
   "execution_count": 358,
   "id": "4fc2d99e",
   "metadata": {},
   "outputs": [
    {
     "data": {
      "text/plain": [
       "array([[ 9, 14],\n",
       "       [ 1, 10]])"
      ]
     },
     "execution_count": 358,
     "metadata": {},
     "output_type": "execute_result"
    }
   ],
   "source": [
    "A[::2,::2]"
   ]
  },
  {
   "cell_type": "markdown",
   "id": "94a5d5fa",
   "metadata": {},
   "source": [
    "###  извлечения второго и четвертого элементов второй и четвертой строк из заданного (4x4) массива"
   ]
  },
  {
   "cell_type": "code",
   "execution_count": 359,
   "id": "9131af6f",
   "metadata": {},
   "outputs": [
    {
     "data": {
      "text/plain": [
       "array([[ 7, 16],\n",
       "       [ 1,  1]])"
      ]
     },
     "execution_count": 359,
     "metadata": {},
     "output_type": "execute_result"
    }
   ],
   "source": [
    "A[1::2,1::2]"
   ]
  },
  {
   "cell_type": "markdown",
   "id": "299268d4",
   "metadata": {},
   "source": [
    "### извлечения всех элементов второго и третьего столбцов из заданного (4x4) массива."
   ]
  },
  {
   "cell_type": "code",
   "execution_count": 360,
   "id": "111fcda0",
   "metadata": {},
   "outputs": [
    {
     "data": {
      "text/plain": [
       "array([[14, 19],\n",
       "       [13, 16],\n",
       "       [10, 10],\n",
       "       [14,  1]])"
      ]
     },
     "execution_count": 360,
     "metadata": {},
     "output_type": "execute_result"
    }
   ],
   "source": [
    "A[:,[2,3]]"
   ]
  },
  {
   "cell_type": "markdown",
   "id": "33545ec9",
   "metadata": {},
   "source": [
    "### извлечения всех элементов первого и четвертого столбцов из заданного (4x4) массива."
   ]
  },
  {
   "cell_type": "code",
   "execution_count": 361,
   "id": "b296343e",
   "metadata": {},
   "outputs": [
    {
     "data": {
      "text/plain": [
       "array([[ 9,  6, 14, 19],\n",
       "       [ 9,  7, 13, 16],\n",
       "       [ 1,  1, 10, 10],\n",
       "       [11,  1, 14,  1]])"
      ]
     },
     "execution_count": 361,
     "metadata": {},
     "output_type": "execute_result"
    }
   ],
   "source": [
    "A"
   ]
  },
  {
   "cell_type": "code",
   "execution_count": 362,
   "id": "584b7808",
   "metadata": {},
   "outputs": [
    {
     "data": {
      "text/plain": [
       "array([[ 9, 19],\n",
       "       [ 9, 16],\n",
       "       [ 1, 10],\n",
       "       [11,  1]])"
      ]
     },
     "execution_count": 362,
     "metadata": {},
     "output_type": "execute_result"
    }
   ],
   "source": [
    "A[:,[0,3]]"
   ]
  },
  {
   "cell_type": "markdown",
   "id": "c887ae4b",
   "metadata": {},
   "source": [
    "### извлечения первого элемента второй строки и четвертого элемента четвертой строки из заданного (4x4) массива."
   ]
  },
  {
   "cell_type": "code",
   "execution_count": 363,
   "id": "21d766cd",
   "metadata": {},
   "outputs": [
    {
     "data": {
      "text/plain": [
       "array([[ 9,  6, 14, 19],\n",
       "       [ 9,  7, 13, 16],\n",
       "       [ 1,  1, 10, 10],\n",
       "       [11,  1, 14,  1]])"
      ]
     },
     "execution_count": 363,
     "metadata": {},
     "output_type": "execute_result"
    }
   ],
   "source": [
    "A"
   ]
  },
  {
   "cell_type": "code",
   "execution_count": 364,
   "id": "cdbe2edc",
   "metadata": {},
   "outputs": [
    {
     "data": {
      "text/plain": [
       "array([9, 1])"
      ]
     },
     "execution_count": 364,
     "metadata": {},
     "output_type": "execute_result"
    }
   ],
   "source": [
    "A[[1,3],[0,3]]"
   ]
  },
  {
   "cell_type": "markdown",
   "id": "8dae638d",
   "metadata": {},
   "source": [
    "### второй и третий элементы второго и третьего рядов"
   ]
  },
  {
   "cell_type": "code",
   "execution_count": 365,
   "id": "1d4883c4",
   "metadata": {},
   "outputs": [
    {
     "data": {
      "text/plain": [
       "array([[ 7, 13],\n",
       "       [ 1, 10]])"
      ]
     },
     "execution_count": 365,
     "metadata": {},
     "output_type": "execute_result"
    }
   ],
   "source": [
    "A[1:3,1:3]"
   ]
  },
  {
   "cell_type": "code",
   "execution_count": 366,
   "id": "d82e653b",
   "metadata": {},
   "outputs": [
    {
     "data": {
      "text/plain": [
       "array([ 7, 13,  1, 10])"
      ]
     },
     "execution_count": 366,
     "metadata": {},
     "output_type": "execute_result"
    }
   ],
   "source": [
    "A[[1,1,2,2],[1,2,1,2]]"
   ]
  },
  {
   "cell_type": "markdown",
   "id": "708b8e8e",
   "metadata": {},
   "source": [
    "### первый, третий и пятый элементы третьего и пятого рядов"
   ]
  },
  {
   "cell_type": "code",
   "execution_count": 367,
   "id": "ccadc29e",
   "metadata": {},
   "outputs": [
    {
     "data": {
      "text/plain": [
       "array([[ 0,  1,  2,  3,  4],\n",
       "       [ 5,  6,  7,  8,  9],\n",
       "       [10, 11, 12, 13, 14],\n",
       "       [15, 16, 17, 18, 19],\n",
       "       [20, 21, 22, 23, 24]])"
      ]
     },
     "execution_count": 367,
     "metadata": {},
     "output_type": "execute_result"
    }
   ],
   "source": [
    "B=np.arange(25).reshape(5,5)\n",
    "B"
   ]
  },
  {
   "cell_type": "code",
   "execution_count": 368,
   "id": "3cd355f9",
   "metadata": {},
   "outputs": [
    {
     "data": {
      "text/plain": [
       "array([[10, 12, 14],\n",
       "       [20, 22, 24]])"
      ]
     },
     "execution_count": 368,
     "metadata": {},
     "output_type": "execute_result"
    }
   ],
   "source": [
    "B[2::2,::2]"
   ]
  },
  {
   "cell_type": "markdown",
   "id": "cc4dcca6",
   "metadata": {},
   "source": [
    "### обавления двух массивов A и B размеров (3,3) и (, 3)"
   ]
  },
  {
   "cell_type": "code",
   "execution_count": 369,
   "id": "484d71a7",
   "metadata": {},
   "outputs": [
    {
     "data": {
      "text/plain": [
       "array([[1., 1., 1.],\n",
       "       [1., 1., 1.],\n",
       "       [1., 1., 1.]])"
      ]
     },
     "execution_count": 369,
     "metadata": {},
     "output_type": "execute_result"
    }
   ],
   "source": [
    "A=np.ones((3,3))\n",
    "A"
   ]
  },
  {
   "cell_type": "code",
   "execution_count": 370,
   "id": "561d8a76",
   "metadata": {},
   "outputs": [
    {
     "data": {
      "text/plain": [
       "array([0, 1, 2])"
      ]
     },
     "execution_count": 370,
     "metadata": {},
     "output_type": "execute_result"
    }
   ],
   "source": [
    "B=np.arange(3)\n",
    "B"
   ]
  },
  {
   "cell_type": "code",
   "execution_count": 371,
   "id": "2f3e6597",
   "metadata": {},
   "outputs": [
    {
     "data": {
      "text/plain": [
       "array([[1., 2., 3.],\n",
       "       [1., 2., 3.],\n",
       "       [1., 2., 3.]])"
      ]
     },
     "execution_count": 371,
     "metadata": {},
     "output_type": "execute_result"
    }
   ],
   "source": [
    "A+B"
   ]
  },
  {
   "cell_type": "markdown",
   "id": "55340226",
   "metadata": {},
   "source": [
    "### cоздания массива, который представляет ранг каждого элемента данного массива"
   ]
  },
  {
   "cell_type": "code",
   "execution_count": 372,
   "id": "6f757094",
   "metadata": {},
   "outputs": [
    {
     "data": {
      "text/plain": [
       "array([21, 30, 29, 32, 38, 25, 29, 28, 24, 35])"
      ]
     },
     "execution_count": 372,
     "metadata": {},
     "output_type": "execute_result"
    }
   ],
   "source": [
    "A=np.random.randint(20,40,10)\n",
    "A"
   ]
  },
  {
   "cell_type": "code",
   "execution_count": 373,
   "id": "563741ad",
   "metadata": {},
   "outputs": [
    {
     "data": {
      "text/plain": [
       "array([0, 8, 5, 7, 2, 6, 1, 3, 9, 4], dtype=int64)"
      ]
     },
     "execution_count": 373,
     "metadata": {},
     "output_type": "execute_result"
    }
   ],
   "source": [
    "A.argsort()"
   ]
  },
  {
   "cell_type": "code",
   "execution_count": null,
   "id": "3c64522d",
   "metadata": {},
   "outputs": [],
   "source": []
  },
  {
   "cell_type": "markdown",
   "id": "e1667480",
   "metadata": {},
   "source": [
    "### копирования данных из данного массива в другой массив"
   ]
  },
  {
   "cell_type": "code",
   "execution_count": 374,
   "id": "bc17456c",
   "metadata": {},
   "outputs": [
    {
     "data": {
      "text/plain": [
       "array([21, 30, 29, 32, 38, 25, 29, 28, 24, 35])"
      ]
     },
     "execution_count": 374,
     "metadata": {},
     "output_type": "execute_result"
    }
   ],
   "source": [
    "# ДАННЫЙ МЕТОД НЕ ПОДХОДИТ!!!\n",
    "B=A\n",
    "B"
   ]
  },
  {
   "cell_type": "code",
   "execution_count": 375,
   "id": "fdcdb758",
   "metadata": {},
   "outputs": [
    {
     "data": {
      "text/plain": [
       "array([21, 30, 29, 32, 38, 25, 29, 28, 24, 35])"
      ]
     },
     "execution_count": 375,
     "metadata": {},
     "output_type": "execute_result"
    }
   ],
   "source": [
    "B"
   ]
  },
  {
   "cell_type": "code",
   "execution_count": 376,
   "id": "10b7f15e",
   "metadata": {},
   "outputs": [
    {
     "data": {
      "text/plain": [
       "array([21, 30, 29, 32, 38, 25, 29, 28, 24, 35])"
      ]
     },
     "execution_count": 376,
     "metadata": {},
     "output_type": "execute_result"
    }
   ],
   "source": [
    "A"
   ]
  },
  {
   "cell_type": "code",
   "execution_count": 377,
   "id": "18112d25",
   "metadata": {},
   "outputs": [],
   "source": [
    "# ДЛЯ КОРРЕКТОГО КОПИРОВАНИЯ ИСПОЛЬЗУЕМ конструкцию EMPTY_LIKE\n",
    "B=np.empty_like(A)"
   ]
  },
  {
   "cell_type": "code",
   "execution_count": 378,
   "id": "66da4d6a",
   "metadata": {},
   "outputs": [],
   "source": [
    "B[:]=A"
   ]
  },
  {
   "cell_type": "code",
   "execution_count": 379,
   "id": "58726a28",
   "metadata": {},
   "outputs": [
    {
     "data": {
      "text/plain": [
       "array([  21, 2000,   29,   32,   38,   25,   29,   28,   24,   35])"
      ]
     },
     "execution_count": 379,
     "metadata": {},
     "output_type": "execute_result"
    }
   ],
   "source": [
    "# проверка\n",
    "B[1]=2000\n",
    "B"
   ]
  },
  {
   "cell_type": "code",
   "execution_count": 380,
   "id": "1de44a00",
   "metadata": {},
   "outputs": [
    {
     "data": {
      "text/plain": [
       "array([21, 30, 29, 32, 38, 25, 29, 28, 24, 35])"
      ]
     },
     "execution_count": 380,
     "metadata": {},
     "output_type": "execute_result"
    }
   ],
   "source": [
    "A"
   ]
  },
  {
   "cell_type": "markdown",
   "id": "f8a020b6",
   "metadata": {},
   "source": [
    "### поиска элементов в диапазоне от заданного массива чисел, с возращением рангов этих элементов"
   ]
  },
  {
   "cell_type": "code",
   "execution_count": 381,
   "id": "30509f8d",
   "metadata": {},
   "outputs": [
    {
     "data": {
      "text/plain": [
       "array([10, 12, 14, 16, 18, 20, 22, 24, 26, 28, 30, 32, 34, 36, 38, 40, 42,\n",
       "       44, 46, 48])"
      ]
     },
     "execution_count": 381,
     "metadata": {},
     "output_type": "execute_result"
    }
   ],
   "source": [
    "# создадим  исходный масссив с правильной последовательностью \n",
    "A=np.arange(10,50,2)\n",
    "A"
   ]
  },
  {
   "cell_type": "code",
   "execution_count": 382,
   "id": "3a26447b",
   "metadata": {},
   "outputs": [
    {
     "data": {
      "text/plain": [
       "array([False, False, False, False, False, False,  True,  True,  True,\n",
       "        True,  True,  True,  True,  True,  True,  True,  True,  True,\n",
       "        True,  True])"
      ]
     },
     "execution_count": 382,
     "metadata": {},
     "output_type": "execute_result"
    }
   ],
   "source": [
    "np.logical_and(A>20,A<=48)"
   ]
  },
  {
   "cell_type": "code",
   "execution_count": 383,
   "id": "bd643d0c",
   "metadata": {},
   "outputs": [
    {
     "data": {
      "text/plain": [
       "(array([ 6,  7,  8,  9, 10, 11, 12, 13, 14, 15, 16, 17, 18, 19],\n",
       "       dtype=int64),)"
      ]
     },
     "execution_count": 383,
     "metadata": {},
     "output_type": "execute_result"
    }
   ],
   "source": [
    "result=np.where(np.logical_and(A>20,A<=48))\n",
    "result"
   ]
  },
  {
   "cell_type": "markdown",
   "id": "42af9a05",
   "metadata": {},
   "source": [
    "### замены столбцов в указанном массиве"
   ]
  },
  {
   "cell_type": "code",
   "execution_count": 384,
   "id": "5886c845",
   "metadata": {},
   "outputs": [],
   "source": [
    "B=np.empty_like(A.reshape(4,5))\n",
    "B[:]=A.reshape(4,5)"
   ]
  },
  {
   "cell_type": "code",
   "execution_count": 385,
   "id": "3df8886b",
   "metadata": {},
   "outputs": [
    {
     "data": {
      "text/plain": [
       "array([[10, 12, 14, 16, 18],\n",
       "       [20, 22, 24, 26, 28],\n",
       "       [30, 32, 34, 36, 38],\n",
       "       [40, 42, 44, 46, 48]])"
      ]
     },
     "execution_count": 385,
     "metadata": {},
     "output_type": "execute_result"
    }
   ],
   "source": [
    "B"
   ]
  },
  {
   "cell_type": "code",
   "execution_count": 386,
   "id": "8279d3a6",
   "metadata": {},
   "outputs": [
    {
     "data": {
      "text/plain": [
       "array([[ 10,  12,  14,  16,  18],\n",
       "       [100, 100, 100, 100, 100],\n",
       "       [ 30,  32,  34,  36,  38],\n",
       "       [ 40,  42,  44,  46,  48]])"
      ]
     },
     "execution_count": 386,
     "metadata": {},
     "output_type": "execute_result"
    }
   ],
   "source": [
    "B[1]=100\n",
    "B"
   ]
  },
  {
   "cell_type": "code",
   "execution_count": 387,
   "id": "627082ac",
   "metadata": {},
   "outputs": [],
   "source": [
    "B[:,[0,1]]=B[:,[1,0]]"
   ]
  },
  {
   "cell_type": "code",
   "execution_count": 388,
   "id": "469efbfd",
   "metadata": {},
   "outputs": [
    {
     "data": {
      "text/plain": [
       "array([[ 12,  10,  14,  16,  18],\n",
       "       [100, 100, 100, 100, 100],\n",
       "       [ 32,  30,  34,  36,  38],\n",
       "       [ 42,  40,  44,  46,  48]])"
      ]
     },
     "execution_count": 388,
     "metadata": {},
     "output_type": "execute_result"
    }
   ],
   "source": [
    "B"
   ]
  },
  {
   "cell_type": "markdown",
   "id": "68d85ae3",
   "metadata": {},
   "source": [
    "### получить номера строк в заданном массиве, где хотя бы один элемент больше указанного значения"
   ]
  },
  {
   "cell_type": "code",
   "execution_count": 389,
   "id": "2807ab9b",
   "metadata": {},
   "outputs": [
    {
     "data": {
      "text/plain": [
       "array([[ 0,  1,  2,  3,  4,  5,  6,  7,  8],\n",
       "       [ 9, 10, 11, 12, 13, 14, 15, 16, 17],\n",
       "       [18, 19, 20, 21, 22, 23, 24, 25, 26],\n",
       "       [27, 28, 29, 30, 31, 32, 33, 34, 35]])"
      ]
     },
     "execution_count": 389,
     "metadata": {},
     "output_type": "execute_result"
    }
   ],
   "source": [
    "A=np.arange(36).reshape(4,9)\n",
    "A"
   ]
  },
  {
   "cell_type": "code",
   "execution_count": 390,
   "id": "a4c46056",
   "metadata": {},
   "outputs": [],
   "source": [
    "num=30"
   ]
  },
  {
   "cell_type": "code",
   "execution_count": 391,
   "id": "a2e598e6",
   "metadata": {},
   "outputs": [
    {
     "data": {
      "text/plain": [
       "array([False, False, False,  True])"
      ]
     },
     "execution_count": 391,
     "metadata": {},
     "output_type": "execute_result"
    }
   ],
   "source": [
    "np.any(A>num, axis=1)"
   ]
  },
  {
   "cell_type": "code",
   "execution_count": 392,
   "id": "ddb3d6ff",
   "metadata": {},
   "outputs": [
    {
     "data": {
      "text/plain": [
       "(array([3], dtype=int64),)"
      ]
     },
     "execution_count": 392,
     "metadata": {},
     "output_type": "execute_result"
    }
   ],
   "source": [
    "np.where(np.any(A>num, axis=1))"
   ]
  },
  {
   "cell_type": "markdown",
   "id": "5caeefe0",
   "metadata": {},
   "source": [
    "### расчета суммы всех столбцов двумерного массива"
   ]
  },
  {
   "cell_type": "code",
   "execution_count": 393,
   "id": "fc9afb15",
   "metadata": {},
   "outputs": [
    {
     "data": {
      "text/plain": [
       "array([[ 0,  1,  2,  3,  4,  5,  6,  7,  8],\n",
       "       [ 9, 10, 11, 12, 13, 14, 15, 16, 17],\n",
       "       [18, 19, 20, 21, 22, 23, 24, 25, 26],\n",
       "       [27, 28, 29, 30, 31, 32, 33, 34, 35]])"
      ]
     },
     "execution_count": 393,
     "metadata": {},
     "output_type": "execute_result"
    }
   ],
   "source": [
    "A"
   ]
  },
  {
   "cell_type": "code",
   "execution_count": 394,
   "id": "e5af08c4",
   "metadata": {},
   "outputs": [
    {
     "data": {
      "text/plain": [
       "[54, 58, 62, 66, 70, 74, 78, 82, 86]"
      ]
     },
     "execution_count": 394,
     "metadata": {},
     "output_type": "execute_result"
    }
   ],
   "source": [
    "[sum(i) for i in A.T]"
   ]
  },
  {
   "cell_type": "code",
   "execution_count": 395,
   "id": "032ed1f1",
   "metadata": {},
   "outputs": [
    {
     "data": {
      "text/plain": [
       "array([54, 58, 62, 66, 70, 74, 78, 82, 86])"
      ]
     },
     "execution_count": 395,
     "metadata": {},
     "output_type": "execute_result"
    }
   ],
   "source": [
    "#или\n",
    "A.sum(axis=0)"
   ]
  },
  {
   "cell_type": "markdown",
   "id": "ddda7ea6",
   "metadata": {},
   "source": [
    "### извлечения верхней треугольной части матрицы NumPy"
   ]
  },
  {
   "cell_type": "code",
   "execution_count": 396,
   "id": "091dae98",
   "metadata": {},
   "outputs": [
    {
     "data": {
      "text/plain": [
       "array([[ 0,  1,  2],\n",
       "       [ 3,  4,  5],\n",
       "       [ 6,  7,  8],\n",
       "       [ 9, 10, 11],\n",
       "       [12, 13, 14],\n",
       "       [15, 16, 17]])"
      ]
     },
     "execution_count": 396,
     "metadata": {},
     "output_type": "execute_result"
    }
   ],
   "source": [
    "B=np.arange(18).reshape(6,3)\n",
    "B"
   ]
  },
  {
   "cell_type": "code",
   "execution_count": 397,
   "id": "c76d2b36",
   "metadata": {},
   "outputs": [
    {
     "data": {
      "text/plain": [
       "array([0, 1, 2, 4, 5, 8])"
      ]
     },
     "execution_count": 397,
     "metadata": {},
     "output_type": "execute_result"
    }
   ],
   "source": [
    "B[np.triu_indices(3)]"
   ]
  },
  {
   "cell_type": "markdown",
   "id": "3b1bccd9",
   "metadata": {},
   "source": [
    "### получить копию матрицы с обнуленными элементами ниже k-й диагонали"
   ]
  },
  {
   "cell_type": "code",
   "execution_count": 398,
   "id": "866566c0",
   "metadata": {},
   "outputs": [],
   "source": [
    "result  = np.triu([[1,2,3],[4,5,6],[7,8,9],[10,11,12]], -1)"
   ]
  },
  {
   "cell_type": "markdown",
   "id": "dfd30961",
   "metadata": {},
   "source": [
    "### проверить, содержит ли массив Numpy указанную строку"
   ]
  },
  {
   "cell_type": "code",
   "execution_count": 399,
   "id": "7d080c60",
   "metadata": {},
   "outputs": [
    {
     "data": {
      "text/plain": [
       "array([[ 0,  1,  2,  3,  4,  5,  6,  7,  8],\n",
       "       [ 9, 10, 11, 12, 13, 14, 15, 16, 17],\n",
       "       [18, 19, 20, 21, 22, 23, 24, 25, 26],\n",
       "       [27, 28, 29, 30, 31, 32, 33, 34, 35]])"
      ]
     },
     "execution_count": 399,
     "metadata": {},
     "output_type": "execute_result"
    }
   ],
   "source": [
    "A"
   ]
  },
  {
   "cell_type": "code",
   "execution_count": 400,
   "id": "9d7cf187",
   "metadata": {},
   "outputs": [
    {
     "data": {
      "text/plain": [
       "array([ 9, 10, 11, 12, 13, 14, 15, 16, 17])"
      ]
     },
     "execution_count": 400,
     "metadata": {},
     "output_type": "execute_result"
    }
   ],
   "source": [
    "C=np.arange(9,18)\n",
    "C"
   ]
  },
  {
   "cell_type": "code",
   "execution_count": 401,
   "id": "cdbe52e3",
   "metadata": {},
   "outputs": [
    {
     "data": {
      "text/plain": [
       "array([-81,   0,  81, 162])"
      ]
     },
     "execution_count": 401,
     "metadata": {},
     "output_type": "execute_result"
    }
   ],
   "source": [
    "arr1=np.array([sum(i-C) for i in A])\n",
    "arr1"
   ]
  },
  {
   "cell_type": "code",
   "execution_count": 402,
   "id": "b02bbbcb",
   "metadata": {},
   "outputs": [
    {
     "name": "stdout",
     "output_type": "stream",
     "text": [
      "строка номер: 1\n"
     ]
    },
    {
     "data": {
      "text/plain": [
       "[None]"
      ]
     },
     "execution_count": 402,
     "metadata": {},
     "output_type": "execute_result"
    }
   ],
   "source": [
    "[print('строка номер: {}'.format(j-1)) for i,j in zip(arr1, np.arange(1,arr1.size+1)) if (i*j)==0]"
   ]
  },
  {
   "cell_type": "code",
   "execution_count": 403,
   "id": "c1102ac4",
   "metadata": {},
   "outputs": [
    {
     "data": {
      "text/plain": [
       "array([-100,    0, -100, -100])"
      ]
     },
     "execution_count": 403,
     "metadata": {},
     "output_type": "execute_result"
    }
   ],
   "source": [
    "# небольшое пояснение\n",
    "np.where(arr1==0,arr1,-100)"
   ]
  },
  {
   "cell_type": "markdown",
   "id": "eb53ca81",
   "metadata": {},
   "source": [
    "### вычисления средних значений без NaN по заданному массиву  в строках."
   ]
  },
  {
   "cell_type": "code",
   "execution_count": 404,
   "id": "811822fa",
   "metadata": {},
   "outputs": [],
   "source": [
    "# исходные данные"
   ]
  },
  {
   "cell_type": "code",
   "execution_count": 405,
   "id": "88351f1c",
   "metadata": {},
   "outputs": [
    {
     "data": {
      "text/plain": [
       "array([[0., 0., 0.],\n",
       "       [0., 0., 0.],\n",
       "       [0., 0., 0.],\n",
       "       [0., 0., 0.]])"
      ]
     },
     "execution_count": 405,
     "metadata": {},
     "output_type": "execute_result"
    }
   ],
   "source": [
    "B=np.empty((4,3))\n",
    "B"
   ]
  },
  {
   "cell_type": "code",
   "execution_count": 406,
   "id": "0a83311d",
   "metadata": {},
   "outputs": [
    {
     "data": {
      "text/plain": [
       "array([[ 10.,  20.,  30.],\n",
       "       [ nan,  10.,  nan],\n",
       "       [100.,  nan, 200.],\n",
       "       [ nan,  nan,  nan]])"
      ]
     },
     "execution_count": 406,
     "metadata": {},
     "output_type": "execute_result"
    }
   ],
   "source": [
    "B[2:4]=np.nan\n",
    "B[2,[0,2]]=[100,200]\n",
    "B[1,1]=10\n",
    "B[1,[0,2]]=np.nan\n",
    "B[0,[0,1,2]]=[10,20,30]\n",
    "B"
   ]
  },
  {
   "cell_type": "code",
   "execution_count": 407,
   "id": "78943978",
   "metadata": {},
   "outputs": [
    {
     "data": {
      "text/plain": [
       "[20.0, nan, nan, nan]"
      ]
     },
     "execution_count": 407,
     "metadata": {},
     "output_type": "execute_result"
    }
   ],
   "source": [
    "[np.mean(np.array(i)) for i in B]"
   ]
  },
  {
   "cell_type": "code",
   "execution_count": 408,
   "id": "cc3acd3c",
   "metadata": {},
   "outputs": [
    {
     "data": {
      "text/plain": [
       "array([20., nan, nan, nan])"
      ]
     },
     "execution_count": 408,
     "metadata": {},
     "output_type": "execute_result"
    }
   ],
   "source": [
    "# одно и тоже, что строчка выше\n",
    "result=np.mean(B, axis=1)\n",
    "result"
   ]
  },
  {
   "cell_type": "code",
   "execution_count": 409,
   "id": "478748cd",
   "metadata": {},
   "outputs": [],
   "source": [
    "temp = np.ma.masked_array(B,np.isnan(B))"
   ]
  },
  {
   "cell_type": "code",
   "execution_count": 410,
   "id": "5b2d36ab",
   "metadata": {},
   "outputs": [
    {
     "data": {
      "text/plain": [
       "masked_array(\n",
       "  data=[[10.0, 20.0, 30.0],\n",
       "        [--, 10.0, --],\n",
       "        [100.0, --, 200.0],\n",
       "        [--, --, --]],\n",
       "  mask=[[False, False, False],\n",
       "        [ True, False,  True],\n",
       "        [False,  True, False],\n",
       "        [ True,  True,  True]],\n",
       "  fill_value=1e+20)"
      ]
     },
     "execution_count": 410,
     "metadata": {},
     "output_type": "execute_result"
    }
   ],
   "source": [
    "temp"
   ]
  },
  {
   "cell_type": "code",
   "execution_count": 411,
   "id": "5158be4e",
   "metadata": {},
   "outputs": [],
   "source": [
    "result=np.mean(temp, axis=1)"
   ]
  },
  {
   "cell_type": "code",
   "execution_count": 412,
   "id": "2eab8455",
   "metadata": {},
   "outputs": [
    {
     "data": {
      "text/plain": [
       "masked_array(data=[20.0, 10.0, 150.0, --],\n",
       "             mask=[False, False, False,  True],\n",
       "       fill_value=1e+20)"
      ]
     },
     "execution_count": 412,
     "metadata": {},
     "output_type": "execute_result"
    }
   ],
   "source": [
    "result"
   ]
  },
  {
   "cell_type": "code",
   "execution_count": 413,
   "id": "057a18d4",
   "metadata": {},
   "outputs": [
    {
     "data": {
      "text/plain": [
       "array([ 20.,  10., 150.,  nan])"
      ]
     },
     "execution_count": 413,
     "metadata": {},
     "output_type": "execute_result"
    }
   ],
   "source": [
    "result.filled(np.nan)"
   ]
  },
  {
   "cell_type": "markdown",
   "id": "563103b9",
   "metadata": {},
   "source": [
    "### создания нового массива, который является средним значением каждого последовательного триплета элементов данного массива"
   ]
  },
  {
   "cell_type": "code",
   "execution_count": 414,
   "id": "4679def9",
   "metadata": {},
   "outputs": [
    {
     "data": {
      "text/plain": [
       "array([  4,  -7,  -8,   0,   0,   4,  -2,   9, -10,   4,   9,  -6])"
      ]
     },
     "execution_count": 414,
     "metadata": {},
     "output_type": "execute_result"
    }
   ],
   "source": [
    "A=np.random.randint(-10,10,12)\n",
    "A"
   ]
  },
  {
   "cell_type": "code",
   "execution_count": 415,
   "id": "8ea9e1fa",
   "metadata": {},
   "outputs": [
    {
     "data": {
      "text/plain": [
       "array([[  4,  -7,  -8],\n",
       "       [  0,   0,   4],\n",
       "       [ -2,   9, -10],\n",
       "       [  4,   9,  -6]])"
      ]
     },
     "execution_count": 415,
     "metadata": {},
     "output_type": "execute_result"
    }
   ],
   "source": [
    "A=A.reshape(4,3)\n",
    "A"
   ]
  },
  {
   "cell_type": "code",
   "execution_count": 416,
   "id": "e197bafb",
   "metadata": {},
   "outputs": [
    {
     "data": {
      "text/plain": [
       "[-3.67, 1.33, -1.0, 2.33]"
      ]
     },
     "execution_count": 416,
     "metadata": {},
     "output_type": "execute_result"
    }
   ],
   "source": [
    "[round(np.mean(np.array(i)),2) for i in A]"
   ]
  },
  {
   "cell_type": "code",
   "execution_count": 417,
   "id": "47d45013",
   "metadata": {},
   "outputs": [
    {
     "data": {
      "text/plain": [
       "array([-3.667,  1.333, -1.   ,  2.333])"
      ]
     },
     "execution_count": 417,
     "metadata": {},
     "output_type": "execute_result"
    }
   ],
   "source": [
    "# или\n",
    "np.mean(A, axis=1)"
   ]
  },
  {
   "cell_type": "markdown",
   "id": "03c06188",
   "metadata": {},
   "source": [
    "### расчет средних значений двух заданных числовых массивов"
   ]
  },
  {
   "cell_type": "code",
   "execution_count": 418,
   "id": "7c0c88d4",
   "metadata": {},
   "outputs": [],
   "source": [
    "arr1=[[1,2],[5,6]]"
   ]
  },
  {
   "cell_type": "code",
   "execution_count": 419,
   "id": "fbee8685",
   "metadata": {},
   "outputs": [
    {
     "data": {
      "text/plain": [
       "array([[1, 2],\n",
       "       [5, 6]])"
      ]
     },
     "execution_count": 419,
     "metadata": {},
     "output_type": "execute_result"
    }
   ],
   "source": [
    "np.array(arr1)"
   ]
  },
  {
   "cell_type": "code",
   "execution_count": 420,
   "id": "62d2cdcd",
   "metadata": {},
   "outputs": [
    {
     "data": {
      "text/plain": [
       "array([[4, 1],\n",
       "       [0, 2]])"
      ]
     },
     "execution_count": 420,
     "metadata": {},
     "output_type": "execute_result"
    }
   ],
   "source": [
    "A=np.random.randint(0,5,4).reshape(2,2)\n",
    "A"
   ]
  },
  {
   "cell_type": "code",
   "execution_count": 421,
   "id": "a391f9fe",
   "metadata": {},
   "outputs": [
    {
     "data": {
      "text/plain": [
       "array([[2.5, 1.5],\n",
       "       [2.5, 4. ]])"
      ]
     },
     "execution_count": 421,
     "metadata": {},
     "output_type": "execute_result"
    }
   ],
   "source": [
    "(A+arr1)/2"
   ]
  },
  {
   "cell_type": "code",
   "execution_count": null,
   "id": "15164aa6",
   "metadata": {},
   "outputs": [],
   "source": []
  },
  {
   "cell_type": "code",
   "execution_count": 426,
   "id": "399faa71",
   "metadata": {},
   "outputs": [],
   "source": [
    "x=lambda n: (abs(10-n),n)"
   ]
  },
  {
   "cell_type": "code",
   "execution_count": 427,
   "id": "7eaffb89",
   "metadata": {},
   "outputs": [
    {
     "data": {
      "text/plain": [
       "(1, 9, 100)"
      ]
     },
     "execution_count": 427,
     "metadata": {},
     "output_type": "execute_result"
    }
   ],
   "source": [
    "x(9)"
   ]
  },
  {
   "cell_type": "code",
   "execution_count": 432,
   "id": "06bc17d6",
   "metadata": {},
   "outputs": [],
   "source": [
    "def between_markers(text: str, begin: str, end: str) -> str:\n",
    "    \"\"\"\n",
    "        returns substring between two given markers\n",
    "    \"\"\"\n",
    "    # your code here\n",
    "    \n",
    "    return text[text.find(begin):text.find(end)]"
   ]
  },
  {
   "cell_type": "code",
   "execution_count": 430,
   "id": "d9f80d7e",
   "metadata": {},
   "outputs": [
    {
     "data": {
      "text/plain": [
       "'lksajbchabscm'"
      ]
     },
     "execution_count": 430,
     "metadata": {},
     "output_type": "execute_result"
    }
   ],
   "source": [
    "str1='lksajbchabscm'\n",
    "str1"
   ]
  },
  {
   "cell_type": "code",
   "execution_count": 431,
   "id": "01eb90cf",
   "metadata": {},
   "outputs": [
    {
     "data": {
      "text/plain": [
       "'ks'"
      ]
     },
     "execution_count": 431,
     "metadata": {},
     "output_type": "execute_result"
    }
   ],
   "source": [
    "str1[1:3]"
   ]
  },
  {
   "cell_type": "code",
   "execution_count": null,
   "id": "4ede6b44",
   "metadata": {},
   "outputs": [],
   "source": []
  }
 ],
 "metadata": {
  "kernelspec": {
   "display_name": "Python 3 (ipykernel)",
   "language": "python",
   "name": "python3"
  },
  "language_info": {
   "codemirror_mode": {
    "name": "ipython",
    "version": 3
   },
   "file_extension": ".py",
   "mimetype": "text/x-python",
   "name": "python",
   "nbconvert_exporter": "python",
   "pygments_lexer": "ipython3",
   "version": "3.9.7"
  },
  "toc": {
   "base_numbering": 1,
   "nav_menu": {},
   "number_sections": true,
   "sideBar": true,
   "skip_h1_title": false,
   "title_cell": "Table of Contents",
   "title_sidebar": "Contents",
   "toc_cell": false,
   "toc_position": {
    "height": "calc(100% - 180px)",
    "left": "10px",
    "top": "150px",
    "width": "303.825px"
   },
   "toc_section_display": true,
   "toc_window_display": true
  }
 },
 "nbformat": 4,
 "nbformat_minor": 5
}
